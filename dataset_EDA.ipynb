{
  "nbformat": 4,
  "nbformat_minor": 0,
  "metadata": {
    "colab": {
      "name": "dataset_EDA.ipynb",
      "provenance": [],
      "include_colab_link": true
    },
    "kernelspec": {
      "name": "python3",
      "display_name": "Python 3"
    },
    "language_info": {
      "name": "python"
    }
  },
  "cells": [
    {
      "cell_type": "markdown",
      "metadata": {
        "id": "view-in-github",
        "colab_type": "text"
      },
      "source": [
        "<a href=\"https://colab.research.google.com/github/martinpdab/asapa/blob/main/dataset_EDA.ipynb\" target=\"_parent\"><img src=\"https://colab.research.google.com/assets/colab-badge.svg\" alt=\"Open In Colab\"/></a>"
      ]
    },
    {
      "cell_type": "code",
      "metadata": {
        "id": "7tczxYosERvB"
      },
      "source": [
        "import numpy as np\n",
        "import pandas as pd\n",
        "import matplotlib.pyplot as plt\n",
        "import seaborn as sns\n",
        "from sklearn.model_selection import  train_test_split\n",
        "from keras.utils.np_utils import to_categorical\n",
        "%matplotlib inline\n",
        "sns.set()"
      ],
      "execution_count": 1,
      "outputs": []
    },
    {
      "cell_type": "code",
      "metadata": {
        "colab": {
          "base_uri": "https://localhost:8080/",
          "height": 408
        },
        "id": "Dlehc5TdmZVB",
        "outputId": "81b0a546-a799-4540-fdcd-5df5528abc6f"
      },
      "source": [
        "#using new dataset\n",
        "URL = 'https://raw.githubusercontent.com/martinpdab/asapa/main/dataset/New%20Dataset%20Kasus%20Kekerasan.csv'\n",
        "dataframe = pd.read_csv(URL)\n",
        "dataframe"
      ],
      "execution_count": 2,
      "outputs": [
        {
          "output_type": "execute_result",
          "data": {
            "text/html": [
              "<div>\n",
              "<style scoped>\n",
              "    .dataframe tbody tr th:only-of-type {\n",
              "        vertical-align: middle;\n",
              "    }\n",
              "\n",
              "    .dataframe tbody tr th {\n",
              "        vertical-align: top;\n",
              "    }\n",
              "\n",
              "    .dataframe thead th {\n",
              "        text-align: right;\n",
              "    }\n",
              "</style>\n",
              "<table border=\"1\" class=\"dataframe\">\n",
              "  <thead>\n",
              "    <tr style=\"text-align: right;\">\n",
              "      <th></th>\n",
              "      <th>tempat</th>\n",
              "      <th>jenis</th>\n",
              "      <th>banyak_kekerasan</th>\n",
              "      <th>banyak_korban</th>\n",
              "      <th>usia</th>\n",
              "      <th>hubungan_pelaku</th>\n",
              "      <th>label</th>\n",
              "    </tr>\n",
              "  </thead>\n",
              "  <tbody>\n",
              "    <tr>\n",
              "      <th>0</th>\n",
              "      <td>rumah-tangga</td>\n",
              "      <td>fisik</td>\n",
              "      <td>1</td>\n",
              "      <td>1</td>\n",
              "      <td>balita</td>\n",
              "      <td>orang-tua</td>\n",
              "      <td>2</td>\n",
              "    </tr>\n",
              "    <tr>\n",
              "      <th>1</th>\n",
              "      <td>rumah-tangga</td>\n",
              "      <td>fisik</td>\n",
              "      <td>1</td>\n",
              "      <td>1</td>\n",
              "      <td>balita</td>\n",
              "      <td>orang-tua</td>\n",
              "      <td>2</td>\n",
              "    </tr>\n",
              "    <tr>\n",
              "      <th>2</th>\n",
              "      <td>rumah-tangga</td>\n",
              "      <td>fisik</td>\n",
              "      <td>1</td>\n",
              "      <td>1</td>\n",
              "      <td>balita</td>\n",
              "      <td>orang-tua</td>\n",
              "      <td>2</td>\n",
              "    </tr>\n",
              "    <tr>\n",
              "      <th>3</th>\n",
              "      <td>rumah-tangga</td>\n",
              "      <td>fisik</td>\n",
              "      <td>1</td>\n",
              "      <td>1</td>\n",
              "      <td>balita</td>\n",
              "      <td>orang-tua</td>\n",
              "      <td>2</td>\n",
              "    </tr>\n",
              "    <tr>\n",
              "      <th>4</th>\n",
              "      <td>rumah-tangga</td>\n",
              "      <td>fisik</td>\n",
              "      <td>1</td>\n",
              "      <td>1</td>\n",
              "      <td>balita</td>\n",
              "      <td>orang-tua</td>\n",
              "      <td>2</td>\n",
              "    </tr>\n",
              "    <tr>\n",
              "      <th>...</th>\n",
              "      <td>...</td>\n",
              "      <td>...</td>\n",
              "      <td>...</td>\n",
              "      <td>...</td>\n",
              "      <td>...</td>\n",
              "      <td>...</td>\n",
              "      <td>...</td>\n",
              "    </tr>\n",
              "    <tr>\n",
              "      <th>5214</th>\n",
              "      <td>lainnya</td>\n",
              "      <td>traficking</td>\n",
              "      <td>1</td>\n",
              "      <td>2</td>\n",
              "      <td>dewasa</td>\n",
              "      <td>lainnya</td>\n",
              "      <td>2</td>\n",
              "    </tr>\n",
              "    <tr>\n",
              "      <th>5215</th>\n",
              "      <td>lainnya</td>\n",
              "      <td>traficking</td>\n",
              "      <td>1</td>\n",
              "      <td>2</td>\n",
              "      <td>dewasa</td>\n",
              "      <td>lainnya</td>\n",
              "      <td>2</td>\n",
              "    </tr>\n",
              "    <tr>\n",
              "      <th>5216</th>\n",
              "      <td>lainnya</td>\n",
              "      <td>traficking</td>\n",
              "      <td>2</td>\n",
              "      <td>1</td>\n",
              "      <td>remaja</td>\n",
              "      <td>lainnya</td>\n",
              "      <td>2</td>\n",
              "    </tr>\n",
              "    <tr>\n",
              "      <th>5217</th>\n",
              "      <td>lainnya</td>\n",
              "      <td>traficking</td>\n",
              "      <td>2</td>\n",
              "      <td>1</td>\n",
              "      <td>dewasa</td>\n",
              "      <td>lainnya</td>\n",
              "      <td>2</td>\n",
              "    </tr>\n",
              "    <tr>\n",
              "      <th>5218</th>\n",
              "      <td>lainnya</td>\n",
              "      <td>traficking</td>\n",
              "      <td>2</td>\n",
              "      <td>2</td>\n",
              "      <td>dewasa</td>\n",
              "      <td>lainnya</td>\n",
              "      <td>2</td>\n",
              "    </tr>\n",
              "  </tbody>\n",
              "</table>\n",
              "<p>5219 rows × 7 columns</p>\n",
              "</div>"
            ],
            "text/plain": [
              "            tempat       jenis  banyak_kekerasan  ...    usia hubungan_pelaku label\n",
              "0     rumah-tangga       fisik                 1  ...  balita       orang-tua     2\n",
              "1     rumah-tangga       fisik                 1  ...  balita       orang-tua     2\n",
              "2     rumah-tangga       fisik                 1  ...  balita       orang-tua     2\n",
              "3     rumah-tangga       fisik                 1  ...  balita       orang-tua     2\n",
              "4     rumah-tangga       fisik                 1  ...  balita       orang-tua     2\n",
              "...            ...         ...               ...  ...     ...             ...   ...\n",
              "5214       lainnya  traficking                 1  ...  dewasa         lainnya     2\n",
              "5215       lainnya  traficking                 1  ...  dewasa         lainnya     2\n",
              "5216       lainnya  traficking                 2  ...  remaja         lainnya     2\n",
              "5217       lainnya  traficking                 2  ...  dewasa         lainnya     2\n",
              "5218       lainnya  traficking                 2  ...  dewasa         lainnya     2\n",
              "\n",
              "[5219 rows x 7 columns]"
            ]
          },
          "metadata": {
            "tags": []
          },
          "execution_count": 2
        }
      ]
    },
    {
      "cell_type": "code",
      "metadata": {
        "colab": {
          "base_uri": "https://localhost:8080/"
        },
        "id": "_RvKNeWGmsgV",
        "outputId": "10e58d3d-7d9e-4c20-cb24-45388bfcb5f0"
      },
      "source": [
        "train, test = train_test_split(dataframe, test_size=0.1)\n",
        "print(len(train), 'train examples')\n",
        "print(len(test), 'test examples')"
      ],
      "execution_count": 3,
      "outputs": [
        {
          "output_type": "stream",
          "text": [
            "4697 train examples\n",
            "522 test examples\n"
          ],
          "name": "stdout"
        }
      ]
    },
    {
      "cell_type": "code",
      "metadata": {
        "colab": {
          "base_uri": "https://localhost:8080/"
        },
        "id": "bFXVQhoqn96C",
        "outputId": "5fbf94d1-d635-4726-f5e8-73edc0951e9d"
      },
      "source": [
        "train.info()"
      ],
      "execution_count": 4,
      "outputs": [
        {
          "output_type": "stream",
          "text": [
            "<class 'pandas.core.frame.DataFrame'>\n",
            "Int64Index: 4697 entries, 2547 to 432\n",
            "Data columns (total 7 columns):\n",
            " #   Column            Non-Null Count  Dtype \n",
            "---  ------            --------------  ----- \n",
            " 0   tempat            4697 non-null   object\n",
            " 1   jenis             4697 non-null   object\n",
            " 2   banyak_kekerasan  4697 non-null   int64 \n",
            " 3   banyak_korban     4697 non-null   int64 \n",
            " 4   usia              4697 non-null   object\n",
            " 5   hubungan_pelaku   4697 non-null   object\n",
            " 6   label             4697 non-null   int64 \n",
            "dtypes: int64(3), object(4)\n",
            "memory usage: 293.6+ KB\n"
          ],
          "name": "stdout"
        }
      ]
    },
    {
      "cell_type": "code",
      "metadata": {
        "colab": {
          "base_uri": "https://localhost:8080/",
          "height": 290
        },
        "id": "4RqdCF5job6U",
        "outputId": "550028ed-a161-4741-e287-2800ccd510f2"
      },
      "source": [
        "train.describe()"
      ],
      "execution_count": 5,
      "outputs": [
        {
          "output_type": "execute_result",
          "data": {
            "text/html": [
              "<div>\n",
              "<style scoped>\n",
              "    .dataframe tbody tr th:only-of-type {\n",
              "        vertical-align: middle;\n",
              "    }\n",
              "\n",
              "    .dataframe tbody tr th {\n",
              "        vertical-align: top;\n",
              "    }\n",
              "\n",
              "    .dataframe thead th {\n",
              "        text-align: right;\n",
              "    }\n",
              "</style>\n",
              "<table border=\"1\" class=\"dataframe\">\n",
              "  <thead>\n",
              "    <tr style=\"text-align: right;\">\n",
              "      <th></th>\n",
              "      <th>banyak_kekerasan</th>\n",
              "      <th>banyak_korban</th>\n",
              "      <th>label</th>\n",
              "    </tr>\n",
              "  </thead>\n",
              "  <tbody>\n",
              "    <tr>\n",
              "      <th>count</th>\n",
              "      <td>4697.000000</td>\n",
              "      <td>4697.000000</td>\n",
              "      <td>4697.000000</td>\n",
              "    </tr>\n",
              "    <tr>\n",
              "      <th>mean</th>\n",
              "      <td>1.028103</td>\n",
              "      <td>1.050884</td>\n",
              "      <td>1.148818</td>\n",
              "    </tr>\n",
              "    <tr>\n",
              "      <th>std</th>\n",
              "      <td>0.197023</td>\n",
              "      <td>0.231118</td>\n",
              "      <td>0.814186</td>\n",
              "    </tr>\n",
              "    <tr>\n",
              "      <th>min</th>\n",
              "      <td>1.000000</td>\n",
              "      <td>1.000000</td>\n",
              "      <td>0.000000</td>\n",
              "    </tr>\n",
              "    <tr>\n",
              "      <th>25%</th>\n",
              "      <td>1.000000</td>\n",
              "      <td>1.000000</td>\n",
              "      <td>0.000000</td>\n",
              "    </tr>\n",
              "    <tr>\n",
              "      <th>50%</th>\n",
              "      <td>1.000000</td>\n",
              "      <td>1.000000</td>\n",
              "      <td>1.000000</td>\n",
              "    </tr>\n",
              "    <tr>\n",
              "      <th>75%</th>\n",
              "      <td>1.000000</td>\n",
              "      <td>1.000000</td>\n",
              "      <td>2.000000</td>\n",
              "    </tr>\n",
              "    <tr>\n",
              "      <th>max</th>\n",
              "      <td>4.000000</td>\n",
              "      <td>3.000000</td>\n",
              "      <td>2.000000</td>\n",
              "    </tr>\n",
              "  </tbody>\n",
              "</table>\n",
              "</div>"
            ],
            "text/plain": [
              "       banyak_kekerasan  banyak_korban        label\n",
              "count       4697.000000    4697.000000  4697.000000\n",
              "mean           1.028103       1.050884     1.148818\n",
              "std            0.197023       0.231118     0.814186\n",
              "min            1.000000       1.000000     0.000000\n",
              "25%            1.000000       1.000000     0.000000\n",
              "50%            1.000000       1.000000     1.000000\n",
              "75%            1.000000       1.000000     2.000000\n",
              "max            4.000000       3.000000     2.000000"
            ]
          },
          "metadata": {
            "tags": []
          },
          "execution_count": 5
        }
      ]
    },
    {
      "cell_type": "code",
      "metadata": {
        "colab": {
          "base_uri": "https://localhost:8080/"
        },
        "id": "scsGBwbnranv",
        "outputId": "8fb93ac0-95a9-4268-fcf8-e7bcbb4f620a"
      },
      "source": [
        "dataframe.info()"
      ],
      "execution_count": 6,
      "outputs": [
        {
          "output_type": "stream",
          "text": [
            "<class 'pandas.core.frame.DataFrame'>\n",
            "RangeIndex: 5219 entries, 0 to 5218\n",
            "Data columns (total 7 columns):\n",
            " #   Column            Non-Null Count  Dtype \n",
            "---  ------            --------------  ----- \n",
            " 0   tempat            5219 non-null   object\n",
            " 1   jenis             5219 non-null   object\n",
            " 2   banyak_kekerasan  5219 non-null   int64 \n",
            " 3   banyak_korban     5219 non-null   int64 \n",
            " 4   usia              5219 non-null   object\n",
            " 5   hubungan_pelaku   5219 non-null   object\n",
            " 6   label             5219 non-null   int64 \n",
            "dtypes: int64(3), object(4)\n",
            "memory usage: 285.5+ KB\n"
          ],
          "name": "stdout"
        }
      ]
    },
    {
      "cell_type": "code",
      "metadata": {
        "colab": {
          "base_uri": "https://localhost:8080/",
          "height": 290
        },
        "id": "1J6UVpQwrhR1",
        "outputId": "1da55f6c-0842-45d2-88cf-5089db46d786"
      },
      "source": [
        "dataframe.describe()"
      ],
      "execution_count": 7,
      "outputs": [
        {
          "output_type": "execute_result",
          "data": {
            "text/html": [
              "<div>\n",
              "<style scoped>\n",
              "    .dataframe tbody tr th:only-of-type {\n",
              "        vertical-align: middle;\n",
              "    }\n",
              "\n",
              "    .dataframe tbody tr th {\n",
              "        vertical-align: top;\n",
              "    }\n",
              "\n",
              "    .dataframe thead th {\n",
              "        text-align: right;\n",
              "    }\n",
              "</style>\n",
              "<table border=\"1\" class=\"dataframe\">\n",
              "  <thead>\n",
              "    <tr style=\"text-align: right;\">\n",
              "      <th></th>\n",
              "      <th>banyak_kekerasan</th>\n",
              "      <th>banyak_korban</th>\n",
              "      <th>label</th>\n",
              "    </tr>\n",
              "  </thead>\n",
              "  <tbody>\n",
              "    <tr>\n",
              "      <th>count</th>\n",
              "      <td>5219.000000</td>\n",
              "      <td>5219.000000</td>\n",
              "      <td>5219.000000</td>\n",
              "    </tr>\n",
              "    <tr>\n",
              "      <th>mean</th>\n",
              "      <td>1.026825</td>\n",
              "      <td>1.049626</td>\n",
              "      <td>1.146388</td>\n",
              "    </tr>\n",
              "    <tr>\n",
              "      <th>std</th>\n",
              "      <td>0.190943</td>\n",
              "      <td>0.230048</td>\n",
              "      <td>0.815498</td>\n",
              "    </tr>\n",
              "    <tr>\n",
              "      <th>min</th>\n",
              "      <td>1.000000</td>\n",
              "      <td>1.000000</td>\n",
              "      <td>0.000000</td>\n",
              "    </tr>\n",
              "    <tr>\n",
              "      <th>25%</th>\n",
              "      <td>1.000000</td>\n",
              "      <td>1.000000</td>\n",
              "      <td>0.000000</td>\n",
              "    </tr>\n",
              "    <tr>\n",
              "      <th>50%</th>\n",
              "      <td>1.000000</td>\n",
              "      <td>1.000000</td>\n",
              "      <td>1.000000</td>\n",
              "    </tr>\n",
              "    <tr>\n",
              "      <th>75%</th>\n",
              "      <td>1.000000</td>\n",
              "      <td>1.000000</td>\n",
              "      <td>2.000000</td>\n",
              "    </tr>\n",
              "    <tr>\n",
              "      <th>max</th>\n",
              "      <td>4.000000</td>\n",
              "      <td>3.000000</td>\n",
              "      <td>2.000000</td>\n",
              "    </tr>\n",
              "  </tbody>\n",
              "</table>\n",
              "</div>"
            ],
            "text/plain": [
              "       banyak_kekerasan  banyak_korban        label\n",
              "count       5219.000000    5219.000000  5219.000000\n",
              "mean           1.026825       1.049626     1.146388\n",
              "std            0.190943       0.230048     0.815498\n",
              "min            1.000000       1.000000     0.000000\n",
              "25%            1.000000       1.000000     0.000000\n",
              "50%            1.000000       1.000000     1.000000\n",
              "75%            1.000000       1.000000     2.000000\n",
              "max            4.000000       3.000000     2.000000"
            ]
          },
          "metadata": {
            "tags": []
          },
          "execution_count": 7
        }
      ]
    },
    {
      "cell_type": "code",
      "metadata": {
        "colab": {
          "base_uri": "https://localhost:8080/",
          "height": 301
        },
        "id": "6VGPMy60r3vH",
        "outputId": "74128393-962a-4d5b-ad5e-46e7450b510d"
      },
      "source": [
        "#sns.countplot(x='label', data=train);\n",
        "sns.countplot(x='label', data=dataframe)"
      ],
      "execution_count": 8,
      "outputs": [
        {
          "output_type": "execute_result",
          "data": {
            "text/plain": [
              "<matplotlib.axes._subplots.AxesSubplot at 0x7ff644ea91d0>"
            ]
          },
          "metadata": {
            "tags": []
          },
          "execution_count": 8
        },
        {
          "output_type": "display_data",
          "data": {
            "image/png": "[encoded data removed]",
            "text/plain": [
              "<Figure size 432x288 with 1 Axes>"
            ]
          },
          "metadata": {
            "tags": [],
            "needs_background": "light"
          }
        }
      ]
    },
    {
      "cell_type": "code",
      "metadata": {
        "colab": {
          "base_uri": "https://localhost:8080/"
        },
        "id": "tcw6Vu7tuwcA",
        "outputId": "f69f3506-1057-4a9b-8261-a913bd754675"
      },
      "source": [
        "dataframe.groupby(['label','jenis'])['label'].count()"
      ],
      "execution_count": 9,
      "outputs": [
        {
          "output_type": "execute_result",
          "data": {
            "text/plain": [
              "label  jenis       \n",
              "0      fisik            83\n",
              "       lainnya         258\n",
              "       penelantaran      5\n",
              "       psikis          874\n",
              "       seksual         189\n",
              "1      eksploitasi      14\n",
              "       fisik           335\n",
              "       lainnya         252\n",
              "       penelantaran    326\n",
              "       psikis          428\n",
              "       seksual         267\n",
              "       traficking       15\n",
              "2      eksploitasi      30\n",
              "       fisik           933\n",
              "       lainnya          40\n",
              "       penelantaran    118\n",
              "       psikis           13\n",
              "       seksual         961\n",
              "       traficking       78\n",
              "Name: label, dtype: int64"
            ]
          },
          "metadata": {
            "tags": []
          },
          "execution_count": 9
        }
      ]
    },
    {
      "cell_type": "code",
      "metadata": {
        "colab": {
          "base_uri": "https://localhost:8080/",
          "height": 386
        },
        "id": "LO6GBE6dvAOC",
        "outputId": "0b09f6db-85aa-48f4-e479-8c6bb8aaa0d0"
      },
      "source": [
        "sns.catplot(x='jenis', col='label', kind='count', data=dataframe);"
      ],
      "execution_count": 10,
      "outputs": [
        {
          "output_type": "display_data",
          "data": {
            "image/png": "[encoded data removed]",
            "text/plain": [
              "<Figure size 1080x360 with 3 Axes>"
            ]
          },
          "metadata": {
            "tags": [],
            "needs_background": "light"
          }
        }
      ]
    },
    {
      "cell_type": "code",
      "metadata": {
        "colab": {
          "base_uri": "https://localhost:8080/"
        },
        "id": "EYLf1N2g8MRv",
        "outputId": "fcdb3a69-6d00-42a2-e0f6-0f9dd7cc829f"
      },
      "source": [
        "dataframe.groupby(['label','banyak_kekerasan'])['label'].count()"
      ],
      "execution_count": 11,
      "outputs": [
        {
          "output_type": "execute_result",
          "data": {
            "text/plain": [
              "label  banyak_kekerasan\n",
              "0      1                   1409\n",
              "1      1                   1614\n",
              "       2                     23\n",
              "2      1                   2080\n",
              "       2                     72\n",
              "       3                     18\n",
              "       4                      3\n",
              "Name: label, dtype: int64"
            ]
          },
          "metadata": {
            "tags": []
          },
          "execution_count": 11
        }
      ]
    },
    {
      "cell_type": "code",
      "metadata": {
        "colab": {
          "base_uri": "https://localhost:8080/",
          "height": 386
        },
        "id": "zdLSaGRBvikn",
        "outputId": "7df19b8f-fd09-4bc8-dde2-5a3a6f0b087c"
      },
      "source": [
        "sns.catplot(x='banyak_kekerasan', col='label', kind='count', data=dataframe);"
      ],
      "execution_count": 12,
      "outputs": [
        {
          "output_type": "display_data",
          "data": {
            "image/png": "[encoded data removed]",
            "text/plain": [
              "<Figure size 1080x360 with 3 Axes>"
            ]
          },
          "metadata": {
            "tags": [],
            "needs_background": "light"
          }
        }
      ]
    },
    {
      "cell_type": "code",
      "metadata": {
        "colab": {
          "base_uri": "https://localhost:8080/"
        },
        "id": "-iCs1XbC9gBG",
        "outputId": "83583bfa-5a02-4478-a980-d70b9f398032"
      },
      "source": [
        "dataframe.groupby(['label','banyak_korban'])['label'].count()"
      ],
      "execution_count": 13,
      "outputs": [
        {
          "output_type": "execute_result",
          "data": {
            "text/plain": [
              "label  banyak_korban\n",
              "0      1                1369\n",
              "       2                  40\n",
              "1      1                1597\n",
              "       2                  35\n",
              "       3                   5\n",
              "2      1                2009\n",
              "       2                 154\n",
              "       3                  10\n",
              "Name: label, dtype: int64"
            ]
          },
          "metadata": {
            "tags": []
          },
          "execution_count": 13
        }
      ]
    },
    {
      "cell_type": "code",
      "metadata": {
        "colab": {
          "base_uri": "https://localhost:8080/",
          "height": 386
        },
        "id": "Rxq7B36_w0zh",
        "outputId": "6b0d237e-bfa5-4e41-b760-219ccb15c757"
      },
      "source": [
        "sns.catplot(x='banyak_korban', col='label', kind='count', data=dataframe);"
      ],
      "execution_count": 14,
      "outputs": [
        {
          "output_type": "display_data",
          "data": {
            "image/png": "[encoded data removed]",
            "text/plain": [
              "<Figure size 1080x360 with 3 Axes>"
            ]
          },
          "metadata": {
            "tags": [],
            "needs_background": "light"
          }
        }
      ]
    },
    {
      "cell_type": "code",
      "metadata": {
        "colab": {
          "base_uri": "https://localhost:8080/",
          "height": 386
        },
        "id": "jY6wUavuxbX-",
        "outputId": "e94a3b0e-3dd6-4349-b4d7-ba70b8612273"
      },
      "source": [
        "sns.catplot(x='usia', col='label', kind='count', data=dataframe);"
      ],
      "execution_count": 15,
      "outputs": [
        {
          "output_type": "display_data",
          "data": {
            "image/png": "[encoded data removed]",
            "text/plain": [
              "<Figure size 1080x360 with 3 Axes>"
            ]
          },
          "metadata": {
            "tags": [],
            "needs_background": "light"
          }
        }
      ]
    },
    {
      "cell_type": "code",
      "metadata": {
        "colab": {
          "base_uri": "https://localhost:8080/",
          "height": 386
        },
        "id": "pd1Jr-jd0c-1",
        "outputId": "6e623e62-92ac-4957-9a1d-2133d33ff84a"
      },
      "source": [
        "sns.catplot(x='hubungan_pelaku', col='label', kind='count', data=dataframe);"
      ],
      "execution_count": 16,
      "outputs": [
        {
          "output_type": "display_data",
          "data": {
            "image/png": "[encoded data removed]",
            "text/plain": [
              "<Figure size 1080x360 with 3 Axes>"
            ]
          },
          "metadata": {
            "tags": [],
            "needs_background": "light"
          }
        }
      ]
    },
    {
      "cell_type": "code",
      "metadata": {
        "colab": {
          "base_uri": "https://localhost:8080/",
          "height": 248
        },
        "id": "72jvAdru05T4",
        "outputId": "24f2bf4c-26b3-4210-b32b-f7ab8838a54f"
      },
      "source": [
        "sns.catplot(x='hubungan_pelaku', col='jenis', kind='count', data=dataframe);"
      ],
      "execution_count": 17,
      "outputs": [
        {
          "output_type": "display_data",
          "data": {
            "image/png": "[encoded data removed]",
            "text/plain": [
              "<Figure size 2520x360 with 7 Axes>"
            ]
          },
          "metadata": {
            "tags": [],
            "needs_background": "light"
          }
        }
      ]
    },
    {
      "cell_type": "code",
      "metadata": {
        "colab": {
          "base_uri": "https://localhost:8080/",
          "height": 386
        },
        "id": "SnabXfZz6wno",
        "outputId": "4aaf6b97-a6ab-4284-fbc1-e50dc79021cb"
      },
      "source": [
        "sns.catplot(x='tempat', col='label', kind='count', data=dataframe);"
      ],
      "execution_count": 18,
      "outputs": [
        {
          "output_type": "display_data",
          "data": {
            "image/png": "[encoded data removed]",
            "text/plain": [
              "<Figure size 1080x360 with 3 Axes>"
            ]
          },
          "metadata": {
            "tags": [],
            "needs_background": "light"
          }
        }
      ]
    },
    {
      "cell_type": "code",
      "metadata": {
        "id": "zdB4OPL7D0h1",
        "outputId": "ad45a2a8-d29d-497a-b832-5f1f240cf7e2",
        "colab": {
          "base_uri": "https://localhost:8080/",
          "height": 871
        }
      },
      "source": [
        "plt.figure(figsize=(15,15))\n",
        "sns.heatmap(dataframe.corr(),annot=True,cmap='coolwarm')\n",
        "plt.savefig('heatmap.png')"
      ],
      "execution_count": 21,
      "outputs": [
        {
          "output_type": "display_data",
          "data": {
            "image/png": "[encoded data removed]",
            "text/plain": [
              "<Figure size 1080x1080 with 2 Axes>"
            ]
          },
          "metadata": {
            "tags": [],
            "needs_background": "light"
          }
        }
      ]
    }
  ]
}