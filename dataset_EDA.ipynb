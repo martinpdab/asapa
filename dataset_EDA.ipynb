{
  "nbformat": 4,
  "nbformat_minor": 0,
  "metadata": {
    "colab": {
      "name": "dataset_EDA.ipynb",
      "provenance": [],
      "include_colab_link": true
    },
    "kernelspec": {
      "name": "python3",
      "display_name": "Python 3"
    },
    "language_info": {
      "name": "python"
    }
  },
  "cells": [
    {
      "cell_type": "markdown",
      "metadata": {
        "id": "view-in-github",
        "colab_type": "text"
      },
      "source": [
        "<a href=\"https://colab.research.google.com/github/martinpdab/asapa/blob/main/dataset_EDA.ipynb\" target=\"_parent\"><img src=\"https://colab.research.google.com/assets/colab-badge.svg\" alt=\"Open In Colab\"/></a>"
      ]
    },
    {
      "cell_type": "code",
      "metadata": {
        "id": "7tczxYosERvB"
      },
      "source": [
        "import numpy as np\n",
        "import pandas as pd\n",
        "import matplotlib.pyplot as plt\n",
        "import seaborn as sns\n",
        "from sklearn.model_selection import  train_test_split\n",
        "from keras.utils.np_utils import to_categorical\n",
        "%matplotlib inline\n",
        "sns.set()"
      ],
      "execution_count": 1,
      "outputs": []
    },
    {
      "cell_type": "code",
      "metadata": {
        "colab": {
          "base_uri": "https://localhost:8080/",
          "height": 424
        },
        "id": "Dlehc5TdmZVB",
        "outputId": "9b1150c6-8ef3-4b27-a456-0606e4797df4"
      },
      "source": [
        "URL = 'https://raw.githubusercontent.com/martinpdab/asapa/main/dataset/dataset-kasus-shuffled%20(1).csv'\n",
        "dataframe = pd.read_csv(URL)\n",
        "dataframe"
      ],
      "execution_count": 2,
      "outputs": [
        {
          "output_type": "execute_result",
          "data": {
            "text/html": [
              "<div>\n",
              "<style scoped>\n",
              "    .dataframe tbody tr th:only-of-type {\n",
              "        vertical-align: middle;\n",
              "    }\n",
              "\n",
              "    .dataframe tbody tr th {\n",
              "        vertical-align: top;\n",
              "    }\n",
              "\n",
              "    .dataframe thead th {\n",
              "        text-align: right;\n",
              "    }\n",
              "</style>\n",
              "<table border=\"1\" class=\"dataframe\">\n",
              "  <thead>\n",
              "    <tr style=\"text-align: right;\">\n",
              "      <th></th>\n",
              "      <th>tempat</th>\n",
              "      <th>jenis</th>\n",
              "      <th>banyak_kekerasan</th>\n",
              "      <th>banyak_korban</th>\n",
              "      <th>usia</th>\n",
              "      <th>hubungan_pelaku</th>\n",
              "      <th>label</th>\n",
              "    </tr>\n",
              "  </thead>\n",
              "  <tbody>\n",
              "    <tr>\n",
              "      <th>0</th>\n",
              "      <td>rumah-tangga</td>\n",
              "      <td>seksual</td>\n",
              "      <td>1</td>\n",
              "      <td>1</td>\n",
              "      <td>remaja</td>\n",
              "      <td>orang-tua</td>\n",
              "      <td>2</td>\n",
              "    </tr>\n",
              "    <tr>\n",
              "      <th>1</th>\n",
              "      <td>fasilitas-umum</td>\n",
              "      <td>seksual</td>\n",
              "      <td>1</td>\n",
              "      <td>1</td>\n",
              "      <td>dewasa</td>\n",
              "      <td>lainnya</td>\n",
              "      <td>1</td>\n",
              "    </tr>\n",
              "    <tr>\n",
              "      <th>2</th>\n",
              "      <td>rumah-tangga</td>\n",
              "      <td>penelantaran</td>\n",
              "      <td>1</td>\n",
              "      <td>1</td>\n",
              "      <td>balita</td>\n",
              "      <td>keluarga/saudara</td>\n",
              "      <td>2</td>\n",
              "    </tr>\n",
              "    <tr>\n",
              "      <th>3</th>\n",
              "      <td>rumah-tangga</td>\n",
              "      <td>psikis</td>\n",
              "      <td>1</td>\n",
              "      <td>1</td>\n",
              "      <td>remaja</td>\n",
              "      <td>orang-tua</td>\n",
              "      <td>0</td>\n",
              "    </tr>\n",
              "    <tr>\n",
              "      <th>4</th>\n",
              "      <td>rumah-tangga</td>\n",
              "      <td>fisik</td>\n",
              "      <td>1</td>\n",
              "      <td>1</td>\n",
              "      <td>remaja</td>\n",
              "      <td>orang-tua</td>\n",
              "      <td>2</td>\n",
              "    </tr>\n",
              "    <tr>\n",
              "      <th>...</th>\n",
              "      <td>...</td>\n",
              "      <td>...</td>\n",
              "      <td>...</td>\n",
              "      <td>...</td>\n",
              "      <td>...</td>\n",
              "      <td>...</td>\n",
              "      <td>...</td>\n",
              "    </tr>\n",
              "    <tr>\n",
              "      <th>5214</th>\n",
              "      <td>rumah-tangga</td>\n",
              "      <td>seksual</td>\n",
              "      <td>1</td>\n",
              "      <td>1</td>\n",
              "      <td>dewasa</td>\n",
              "      <td>majikan</td>\n",
              "      <td>2</td>\n",
              "    </tr>\n",
              "    <tr>\n",
              "      <th>5215</th>\n",
              "      <td>rumah-tangga</td>\n",
              "      <td>psikis</td>\n",
              "      <td>1</td>\n",
              "      <td>1</td>\n",
              "      <td>dewasa</td>\n",
              "      <td>keluarga/saudara</td>\n",
              "      <td>0</td>\n",
              "    </tr>\n",
              "    <tr>\n",
              "      <th>5216</th>\n",
              "      <td>fasilitas-umum</td>\n",
              "      <td>lainnya</td>\n",
              "      <td>1</td>\n",
              "      <td>1</td>\n",
              "      <td>balita</td>\n",
              "      <td>keluarga/saudara</td>\n",
              "      <td>2</td>\n",
              "    </tr>\n",
              "    <tr>\n",
              "      <th>5217</th>\n",
              "      <td>rumah-tangga</td>\n",
              "      <td>psikis</td>\n",
              "      <td>1</td>\n",
              "      <td>1</td>\n",
              "      <td>dewasa</td>\n",
              "      <td>tetangga</td>\n",
              "      <td>0</td>\n",
              "    </tr>\n",
              "    <tr>\n",
              "      <th>5218</th>\n",
              "      <td>rumah-tangga</td>\n",
              "      <td>fisik</td>\n",
              "      <td>1</td>\n",
              "      <td>1</td>\n",
              "      <td>balita</td>\n",
              "      <td>orang-tua</td>\n",
              "      <td>2</td>\n",
              "    </tr>\n",
              "  </tbody>\n",
              "</table>\n",
              "<p>5219 rows × 7 columns</p>\n",
              "</div>"
            ],
            "text/plain": [
              "              tempat         jenis  ...   hubungan_pelaku  label\n",
              "0       rumah-tangga       seksual  ...         orang-tua      2\n",
              "1     fasilitas-umum       seksual  ...           lainnya      1\n",
              "2       rumah-tangga  penelantaran  ...  keluarga/saudara      2\n",
              "3       rumah-tangga        psikis  ...         orang-tua      0\n",
              "4       rumah-tangga         fisik  ...         orang-tua      2\n",
              "...              ...           ...  ...               ...    ...\n",
              "5214    rumah-tangga       seksual  ...           majikan      2\n",
              "5215    rumah-tangga        psikis  ...  keluarga/saudara      0\n",
              "5216  fasilitas-umum       lainnya  ...  keluarga/saudara      2\n",
              "5217    rumah-tangga        psikis  ...          tetangga      0\n",
              "5218    rumah-tangga         fisik  ...         orang-tua      2\n",
              "\n",
              "[5219 rows x 7 columns]"
            ]
          },
          "metadata": {
            "tags": []
          },
          "execution_count": 2
        }
      ]
    },
    {
      "cell_type": "code",
      "metadata": {
        "colab": {
          "base_uri": "https://localhost:8080/"
        },
        "id": "_RvKNeWGmsgV",
        "outputId": "d5682986-3ae7-430e-d818-761e85b8bfad"
      },
      "source": [
        "train, test = train_test_split(dataframe, test_size=0.1)\n",
        "print(len(train), 'train examples')\n",
        "print(len(test), 'test examples')"
      ],
      "execution_count": 3,
      "outputs": [
        {
          "output_type": "stream",
          "text": [
            "4697 train examples\n",
            "522 test examples\n"
          ],
          "name": "stdout"
        }
      ]
    },
    {
      "cell_type": "code",
      "metadata": {
        "colab": {
          "base_uri": "https://localhost:8080/"
        },
        "id": "bFXVQhoqn96C",
        "outputId": "c972e880-d864-4a52-976f-d199b62f754b"
      },
      "source": [
        "train.info()"
      ],
      "execution_count": 4,
      "outputs": [
        {
          "output_type": "stream",
          "text": [
            "<class 'pandas.core.frame.DataFrame'>\n",
            "Int64Index: 4697 entries, 4275 to 646\n",
            "Data columns (total 7 columns):\n",
            " #   Column            Non-Null Count  Dtype \n",
            "---  ------            --------------  ----- \n",
            " 0   tempat            4697 non-null   object\n",
            " 1   jenis             4697 non-null   object\n",
            " 2   banyak_kekerasan  4697 non-null   int64 \n",
            " 3   banyak_korban     4697 non-null   int64 \n",
            " 4   usia              4697 non-null   object\n",
            " 5   hubungan_pelaku   4697 non-null   object\n",
            " 6   label             4697 non-null   int64 \n",
            "dtypes: int64(3), object(4)\n",
            "memory usage: 293.6+ KB\n"
          ],
          "name": "stdout"
        }
      ]
    },
    {
      "cell_type": "code",
      "metadata": {
        "colab": {
          "base_uri": "https://localhost:8080/",
          "height": 300
        },
        "id": "4RqdCF5job6U",
        "outputId": "7d6d662f-3440-4498-8a1e-34a13b0fc7c9"
      },
      "source": [
        "train.describe()"
      ],
      "execution_count": 5,
      "outputs": [
        {
          "output_type": "execute_result",
          "data": {
            "text/html": [
              "<div>\n",
              "<style scoped>\n",
              "    .dataframe tbody tr th:only-of-type {\n",
              "        vertical-align: middle;\n",
              "    }\n",
              "\n",
              "    .dataframe tbody tr th {\n",
              "        vertical-align: top;\n",
              "    }\n",
              "\n",
              "    .dataframe thead th {\n",
              "        text-align: right;\n",
              "    }\n",
              "</style>\n",
              "<table border=\"1\" class=\"dataframe\">\n",
              "  <thead>\n",
              "    <tr style=\"text-align: right;\">\n",
              "      <th></th>\n",
              "      <th>banyak_kekerasan</th>\n",
              "      <th>banyak_korban</th>\n",
              "      <th>label</th>\n",
              "    </tr>\n",
              "  </thead>\n",
              "  <tbody>\n",
              "    <tr>\n",
              "      <th>count</th>\n",
              "      <td>4697.000000</td>\n",
              "      <td>4697.000000</td>\n",
              "      <td>4697.000000</td>\n",
              "    </tr>\n",
              "    <tr>\n",
              "      <th>mean</th>\n",
              "      <td>1.027677</td>\n",
              "      <td>1.050245</td>\n",
              "      <td>1.137322</td>\n",
              "    </tr>\n",
              "    <tr>\n",
              "      <th>std</th>\n",
              "      <td>0.196000</td>\n",
              "      <td>0.229872</td>\n",
              "      <td>0.815160</td>\n",
              "    </tr>\n",
              "    <tr>\n",
              "      <th>min</th>\n",
              "      <td>1.000000</td>\n",
              "      <td>1.000000</td>\n",
              "      <td>0.000000</td>\n",
              "    </tr>\n",
              "    <tr>\n",
              "      <th>25%</th>\n",
              "      <td>1.000000</td>\n",
              "      <td>1.000000</td>\n",
              "      <td>0.000000</td>\n",
              "    </tr>\n",
              "    <tr>\n",
              "      <th>50%</th>\n",
              "      <td>1.000000</td>\n",
              "      <td>1.000000</td>\n",
              "      <td>1.000000</td>\n",
              "    </tr>\n",
              "    <tr>\n",
              "      <th>75%</th>\n",
              "      <td>1.000000</td>\n",
              "      <td>1.000000</td>\n",
              "      <td>2.000000</td>\n",
              "    </tr>\n",
              "    <tr>\n",
              "      <th>max</th>\n",
              "      <td>4.000000</td>\n",
              "      <td>3.000000</td>\n",
              "      <td>2.000000</td>\n",
              "    </tr>\n",
              "  </tbody>\n",
              "</table>\n",
              "</div>"
            ],
            "text/plain": [
              "       banyak_kekerasan  banyak_korban        label\n",
              "count       4697.000000    4697.000000  4697.000000\n",
              "mean           1.027677       1.050245     1.137322\n",
              "std            0.196000       0.229872     0.815160\n",
              "min            1.000000       1.000000     0.000000\n",
              "25%            1.000000       1.000000     0.000000\n",
              "50%            1.000000       1.000000     1.000000\n",
              "75%            1.000000       1.000000     2.000000\n",
              "max            4.000000       3.000000     2.000000"
            ]
          },
          "metadata": {
            "tags": []
          },
          "execution_count": 5
        }
      ]
    },
    {
      "cell_type": "code",
      "metadata": {
        "colab": {
          "base_uri": "https://localhost:8080/"
        },
        "id": "scsGBwbnranv",
        "outputId": "bfd748fe-ba1a-45bf-bdd2-eda93a5cde08"
      },
      "source": [
        "dataframe.info()"
      ],
      "execution_count": 6,
      "outputs": [
        {
          "output_type": "stream",
          "text": [
            "<class 'pandas.core.frame.DataFrame'>\n",
            "RangeIndex: 5219 entries, 0 to 5218\n",
            "Data columns (total 7 columns):\n",
            " #   Column            Non-Null Count  Dtype \n",
            "---  ------            --------------  ----- \n",
            " 0   tempat            5219 non-null   object\n",
            " 1   jenis             5219 non-null   object\n",
            " 2   banyak_kekerasan  5219 non-null   int64 \n",
            " 3   banyak_korban     5219 non-null   int64 \n",
            " 4   usia              5219 non-null   object\n",
            " 5   hubungan_pelaku   5219 non-null   object\n",
            " 6   label             5219 non-null   int64 \n",
            "dtypes: int64(3), object(4)\n",
            "memory usage: 285.5+ KB\n"
          ],
          "name": "stdout"
        }
      ]
    },
    {
      "cell_type": "code",
      "metadata": {
        "colab": {
          "base_uri": "https://localhost:8080/",
          "height": 300
        },
        "id": "1J6UVpQwrhR1",
        "outputId": "ab0b05ba-989e-4f9c-9021-0ccff3ebc6f9"
      },
      "source": [
        "dataframe.describe()"
      ],
      "execution_count": 7,
      "outputs": [
        {
          "output_type": "execute_result",
          "data": {
            "text/html": [
              "<div>\n",
              "<style scoped>\n",
              "    .dataframe tbody tr th:only-of-type {\n",
              "        vertical-align: middle;\n",
              "    }\n",
              "\n",
              "    .dataframe tbody tr th {\n",
              "        vertical-align: top;\n",
              "    }\n",
              "\n",
              "    .dataframe thead th {\n",
              "        text-align: right;\n",
              "    }\n",
              "</style>\n",
              "<table border=\"1\" class=\"dataframe\">\n",
              "  <thead>\n",
              "    <tr style=\"text-align: right;\">\n",
              "      <th></th>\n",
              "      <th>banyak_kekerasan</th>\n",
              "      <th>banyak_korban</th>\n",
              "      <th>label</th>\n",
              "    </tr>\n",
              "  </thead>\n",
              "  <tbody>\n",
              "    <tr>\n",
              "      <th>count</th>\n",
              "      <td>5219.000000</td>\n",
              "      <td>5219.000000</td>\n",
              "      <td>5219.000000</td>\n",
              "    </tr>\n",
              "    <tr>\n",
              "      <th>mean</th>\n",
              "      <td>1.026825</td>\n",
              "      <td>1.049626</td>\n",
              "      <td>1.133934</td>\n",
              "    </tr>\n",
              "    <tr>\n",
              "      <th>std</th>\n",
              "      <td>0.190943</td>\n",
              "      <td>0.230048</td>\n",
              "      <td>0.815876</td>\n",
              "    </tr>\n",
              "    <tr>\n",
              "      <th>min</th>\n",
              "      <td>1.000000</td>\n",
              "      <td>1.000000</td>\n",
              "      <td>0.000000</td>\n",
              "    </tr>\n",
              "    <tr>\n",
              "      <th>25%</th>\n",
              "      <td>1.000000</td>\n",
              "      <td>1.000000</td>\n",
              "      <td>0.000000</td>\n",
              "    </tr>\n",
              "    <tr>\n",
              "      <th>50%</th>\n",
              "      <td>1.000000</td>\n",
              "      <td>1.000000</td>\n",
              "      <td>1.000000</td>\n",
              "    </tr>\n",
              "    <tr>\n",
              "      <th>75%</th>\n",
              "      <td>1.000000</td>\n",
              "      <td>1.000000</td>\n",
              "      <td>2.000000</td>\n",
              "    </tr>\n",
              "    <tr>\n",
              "      <th>max</th>\n",
              "      <td>4.000000</td>\n",
              "      <td>3.000000</td>\n",
              "      <td>2.000000</td>\n",
              "    </tr>\n",
              "  </tbody>\n",
              "</table>\n",
              "</div>"
            ],
            "text/plain": [
              "       banyak_kekerasan  banyak_korban        label\n",
              "count       5219.000000    5219.000000  5219.000000\n",
              "mean           1.026825       1.049626     1.133934\n",
              "std            0.190943       0.230048     0.815876\n",
              "min            1.000000       1.000000     0.000000\n",
              "25%            1.000000       1.000000     0.000000\n",
              "50%            1.000000       1.000000     1.000000\n",
              "75%            1.000000       1.000000     2.000000\n",
              "max            4.000000       3.000000     2.000000"
            ]
          },
          "metadata": {
            "tags": []
          },
          "execution_count": 7
        }
      ]
    },
    {
      "cell_type": "code",
      "metadata": {
        "colab": {
          "base_uri": "https://localhost:8080/",
          "height": 303
        },
        "id": "6VGPMy60r3vH",
        "outputId": "4b6c7604-6309-4c3a-fc8e-9038d405bb3c"
      },
      "source": [
        "#sns.countplot(x='label', data=train);\n",
        "sns.countplot(x='label', data=dataframe)"
      ],
      "execution_count": 10,
      "outputs": [
        {
          "output_type": "execute_result",
          "data": {
            "text/plain": [
              "<matplotlib.axes._subplots.AxesSubplot at 0x7f50e0742750>"
            ]
          },
          "metadata": {
            "tags": []
          },
          "execution_count": 10
        },
        {
          "output_type": "display_data",
          "data": {
            "image/png": "[encoded data removed]",
            "text/plain": [
              "<Figure size 432x288 with 1 Axes>"
            ]
          },
          "metadata": {
            "tags": [],
            "needs_background": "light"
          }
        }
      ]
    },
    {
      "cell_type": "code",
      "metadata": {
        "colab": {
          "base_uri": "https://localhost:8080/"
        },
        "id": "tcw6Vu7tuwcA",
        "outputId": "7731dac2-f891-47ca-ba13-8874691e10c4"
      },
      "source": [
        "dataframe.groupby(['label','jenis'])['label'].count()"
      ],
      "execution_count": 11,
      "outputs": [
        {
          "output_type": "execute_result",
          "data": {
            "text/plain": [
              "label  jenis       \n",
              "0      fisik            83\n",
              "       lainnya         278\n",
              "       penelantaran      5\n",
              "       psikis          879\n",
              "       seksual         189\n",
              "1      eksploitasi      14\n",
              "       fisik           335\n",
              "       lainnya         232\n",
              "       penelantaran    326\n",
              "       psikis          423\n",
              "       seksual         267\n",
              "       traficking       55\n",
              "2      eksploitasi      30\n",
              "       fisik           933\n",
              "       lainnya          40\n",
              "       penelantaran    118\n",
              "       psikis           13\n",
              "       seksual         961\n",
              "       traficking       38\n",
              "Name: label, dtype: int64"
            ]
          },
          "metadata": {
            "tags": []
          },
          "execution_count": 11
        }
      ]
    },
    {
      "cell_type": "code",
      "metadata": {
        "colab": {
          "base_uri": "https://localhost:8080/",
          "height": 386
        },
        "id": "LO6GBE6dvAOC",
        "outputId": "3ade6c4e-5569-4a6d-e9ba-073361f54e0e"
      },
      "source": [
        "sns.catplot(x='jenis', col='label', kind='count', data=dataframe);"
      ],
      "execution_count": 13,
      "outputs": [
        {
          "output_type": "display_data",
          "data": {
            "image/png": "[encoded data removed]",
            "text/plain": [
              "<Figure size 1080x360 with 3 Axes>"
            ]
          },
          "metadata": {
            "tags": [],
            "needs_background": "light"
          }
        }
      ]
    },
    {
      "cell_type": "code",
      "metadata": {
        "id": "EYLf1N2g8MRv",
        "outputId": "51d4521f-5700-491b-8f23-5161d062f72a",
        "colab": {
          "base_uri": "https://localhost:8080/"
        }
      },
      "source": [
        "dataframe.groupby(['label','banyak_kekerasan'])['label'].count()"
      ],
      "execution_count": 22,
      "outputs": [
        {
          "output_type": "execute_result",
          "data": {
            "text/plain": [
              "label  banyak_kekerasan\n",
              "0      1                   1434\n",
              "1      1                   1629\n",
              "       2                     23\n",
              "2      1                   2040\n",
              "       2                     72\n",
              "       3                     18\n",
              "       4                      3\n",
              "Name: label, dtype: int64"
            ]
          },
          "metadata": {
            "tags": []
          },
          "execution_count": 22
        }
      ]
    },
    {
      "cell_type": "code",
      "metadata": {
        "colab": {
          "base_uri": "https://localhost:8080/",
          "height": 386
        },
        "id": "zdLSaGRBvikn",
        "outputId": "027a763c-881a-4100-dce6-7ce67dada341"
      },
      "source": [
        "sns.catplot(x='banyak_kekerasan', col='label', kind='count', data=dataframe);"
      ],
      "execution_count": 15,
      "outputs": [
        {
          "output_type": "display_data",
          "data": {
            "image/png": "[encoded data removed]",
            "text/plain": [
              "<Figure size 1080x360 with 3 Axes>"
            ]
          },
          "metadata": {
            "tags": [],
            "needs_background": "light"
          }
        }
      ]
    },
    {
      "cell_type": "code",
      "metadata": {
        "id": "-iCs1XbC9gBG",
        "outputId": "7624a56b-2463-4345-a50b-51a53626f4f5",
        "colab": {
          "base_uri": "https://localhost:8080/"
        }
      },
      "source": [
        "dataframe.groupby(['label','banyak_korban'])['label'].count()"
      ],
      "execution_count": 23,
      "outputs": [
        {
          "output_type": "execute_result",
          "data": {
            "text/plain": [
              "label  banyak_korban\n",
              "0      1                1369\n",
              "       2                  60\n",
              "       3                   5\n",
              "1      1                1637\n",
              "       2                  15\n",
              "2      1                1969\n",
              "       2                 154\n",
              "       3                  10\n",
              "Name: label, dtype: int64"
            ]
          },
          "metadata": {
            "tags": []
          },
          "execution_count": 23
        }
      ]
    },
    {
      "cell_type": "code",
      "metadata": {
        "colab": {
          "base_uri": "https://localhost:8080/",
          "height": 386
        },
        "id": "Rxq7B36_w0zh",
        "outputId": "41210bfa-574a-4adc-f572-55ea019293db"
      },
      "source": [
        "sns.catplot(x='banyak_korban', col='label', kind='count', data=dataframe);"
      ],
      "execution_count": 16,
      "outputs": [
        {
          "output_type": "display_data",
          "data": {
            "image/png": "[encoded data removed]",
            "text/plain": [
              "<Figure size 1080x360 with 3 Axes>"
            ]
          },
          "metadata": {
            "tags": [],
            "needs_background": "light"
          }
        }
      ]
    },
    {
      "cell_type": "code",
      "metadata": {
        "colab": {
          "base_uri": "https://localhost:8080/",
          "height": 386
        },
        "id": "jY6wUavuxbX-",
        "outputId": "ca11796e-e70d-49e6-db77-a1bfd7839377"
      },
      "source": [
        "sns.catplot(x='usia', col='label', kind='count', data=dataframe);"
      ],
      "execution_count": 18,
      "outputs": [
        {
          "output_type": "display_data",
          "data": {
            "image/png": "[encoded data removed]",
            "text/plain": [
              "<Figure size 1080x360 with 3 Axes>"
            ]
          },
          "metadata": {
            "tags": [],
            "needs_background": "light"
          }
        }
      ]
    },
    {
      "cell_type": "code",
      "metadata": {
        "colab": {
          "base_uri": "https://localhost:8080/",
          "height": 386
        },
        "id": "pd1Jr-jd0c-1",
        "outputId": "27e1a7e3-f9de-4e61-ab1b-5f66a8a87043"
      },
      "source": [
        "sns.catplot(x='hubungan_pelaku', col='label', kind='count', data=dataframe);"
      ],
      "execution_count": 19,
      "outputs": [
        {
          "output_type": "display_data",
          "data": {
            "image/png": "[encoded data removed]",
            "text/plain": [
              "<Figure size 1080x360 with 3 Axes>"
            ]
          },
          "metadata": {
            "tags": [],
            "needs_background": "light"
          }
        }
      ]
    },
    {
      "cell_type": "code",
      "metadata": {
        "colab": {
          "base_uri": "https://localhost:8080/",
          "height": 406
        },
        "id": "72jvAdru05T4",
        "outputId": "5ebfa492-66c6-423a-e1c4-f4ed02cd2358"
      },
      "source": [
        "sns.catplot(x='hubungan_pelaku', col='jenis', kind='count', data=dataframe);"
      ],
      "execution_count": 20,
      "outputs": [
        {
          "output_type": "display_data",
          "data": {
            "image/png": "[encoded data removed]",
            "text/plain": [
              "<Figure size 2520x360 with 7 Axes>"
            ]
          },
          "metadata": {
            "tags": [],
            "needs_background": "light"
          }
        }
      ]
    },
    {
      "cell_type": "code",
      "metadata": {
        "colab": {
          "base_uri": "https://localhost:8080/",
          "height": 386
        },
        "id": "SnabXfZz6wno",
        "outputId": "a462efd6-8d69-48f7-cff5-f7bf0bb5d4e7"
      },
      "source": [
        "sns.catplot(x='tempat', col='label', kind='count', data=dataframe);"
      ],
      "execution_count": 21,
      "outputs": [
        {
          "output_type": "display_data",
          "data": {
            "image/png": "[encoded data removed]",
            "text/plain": [
              "<Figure size 1080x360 with 3 Axes>"
            ]
          },
          "metadata": {
            "tags": [],
            "needs_background": "light"
          }
        }
      ]
    }
  ]
}