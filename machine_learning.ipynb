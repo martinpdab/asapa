{
  "nbformat": 4,
  "nbformat_minor": 0,
  "metadata": {
    "colab": {
      "name": "machine-learning.ipynb",
      "provenance": [],
      "include_colab_link": true
    },
    "kernelspec": {
      "name": "python3",
      "display_name": "Python 3"
    },
    "language_info": {
      "name": "python"
    }
  },
  "cells": [
    {
      "cell_type": "markdown",
      "metadata": {
        "id": "view-in-github",
        "colab_type": "text"
      },
      "source": [
        "<a href=\"https://colab.research.google.com/github/martinpdab/asapa/blob/main/machine_learning.ipynb\" target=\"_parent\"><img src=\"https://colab.research.google.com/assets/colab-badge.svg\" alt=\"Open In Colab\"/></a>"
      ]
    },
    {
      "cell_type": "code",
      "metadata": {
        "id": "WhuYbC_8VE_x",
        "colab": {
          "base_uri": "https://localhost:8080/"
        },
        "outputId": "68c695a6-6550-4314-f2e3-a5ab8f069da0"
      },
      "source": [
        "!pip install sklearn"
      ],
      "execution_count": 1,
      "outputs": [
        {
          "output_type": "stream",
          "text": [
            "Requirement already satisfied: sklearn in /usr/local/lib/python3.7/dist-packages (0.0)\n",
            "Requirement already satisfied: scikit-learn in /usr/local/lib/python3.7/dist-packages (from sklearn) (0.22.2.post1)\n",
            "Requirement already satisfied: numpy>=1.11.0 in /usr/local/lib/python3.7/dist-packages (from scikit-learn->sklearn) (1.19.5)\n",
            "Requirement already satisfied: joblib>=0.11 in /usr/local/lib/python3.7/dist-packages (from scikit-learn->sklearn) (1.0.1)\n",
            "Requirement already satisfied: scipy>=0.17.0 in /usr/local/lib/python3.7/dist-packages (from scikit-learn->sklearn) (1.4.1)\n"
          ],
          "name": "stdout"
        }
      ]
    },
    {
      "cell_type": "code",
      "metadata": {
        "id": "PRcEi6iJV_Nm"
      },
      "source": [
        "import numpy as np\n",
        "import pandas as pd\n",
        "\n",
        "try:\n",
        "  %tensorflow_version 2.x\n",
        "except Exception:\n",
        "  pass\n",
        "import tensorflow as tf\n",
        "\n",
        "from tensorflow import feature_column\n",
        "from tensorflow.keras import layers\n",
        "from sklearn.model_selection import train_test_split"
      ],
      "execution_count": 2,
      "outputs": []
    },
    {
      "cell_type": "code",
      "metadata": {
        "colab": {
          "base_uri": "https://localhost:8080/",
          "height": 206
        },
        "id": "Y5EXLzOjWMIb",
        "outputId": "9622e59c-beca-4272-a27c-fbeff41d59db"
      },
      "source": [
        "URL = 'https://raw.githubusercontent.com/martinpdab/asapa/main/dataset.csv'\n",
        "dataframe = pd.read_csv(URL)\n",
        "dataframe.head()"
      ],
      "execution_count": 3,
      "outputs": [
        {
          "output_type": "execute_result",
          "data": {
            "text/html": [
              "<div>\n",
              "<style scoped>\n",
              "    .dataframe tbody tr th:only-of-type {\n",
              "        vertical-align: middle;\n",
              "    }\n",
              "\n",
              "    .dataframe tbody tr th {\n",
              "        vertical-align: top;\n",
              "    }\n",
              "\n",
              "    .dataframe thead th {\n",
              "        text-align: right;\n",
              "    }\n",
              "</style>\n",
              "<table border=\"1\" class=\"dataframe\">\n",
              "  <thead>\n",
              "    <tr style=\"text-align: right;\">\n",
              "      <th></th>\n",
              "      <th>Tempat Kejadian</th>\n",
              "      <th>Jenis Kekerasan</th>\n",
              "      <th>Banyak Kekerasan yang dialami</th>\n",
              "      <th>Banyak Korban Kekerasan</th>\n",
              "      <th>Usia Korban</th>\n",
              "      <th>Hubungan Pelaku dengan Korban</th>\n",
              "      <th>Mitigasi Resiko</th>\n",
              "    </tr>\n",
              "  </thead>\n",
              "  <tbody>\n",
              "    <tr>\n",
              "      <th>0</th>\n",
              "      <td>rumah-tangga</td>\n",
              "      <td>fisik</td>\n",
              "      <td>1</td>\n",
              "      <td>1</td>\n",
              "      <td>balita</td>\n",
              "      <td>orang-tua</td>\n",
              "      <td>3</td>\n",
              "    </tr>\n",
              "    <tr>\n",
              "      <th>1</th>\n",
              "      <td>rumah-tangga</td>\n",
              "      <td>fisik</td>\n",
              "      <td>1</td>\n",
              "      <td>1</td>\n",
              "      <td>balita</td>\n",
              "      <td>orang-tua</td>\n",
              "      <td>3</td>\n",
              "    </tr>\n",
              "    <tr>\n",
              "      <th>2</th>\n",
              "      <td>rumah-tangga</td>\n",
              "      <td>fisik</td>\n",
              "      <td>1</td>\n",
              "      <td>1</td>\n",
              "      <td>balita</td>\n",
              "      <td>orang-tua</td>\n",
              "      <td>3</td>\n",
              "    </tr>\n",
              "    <tr>\n",
              "      <th>3</th>\n",
              "      <td>rumah-tangga</td>\n",
              "      <td>fisik</td>\n",
              "      <td>1</td>\n",
              "      <td>1</td>\n",
              "      <td>balita</td>\n",
              "      <td>orang-tua</td>\n",
              "      <td>3</td>\n",
              "    </tr>\n",
              "    <tr>\n",
              "      <th>4</th>\n",
              "      <td>rumah-tangga</td>\n",
              "      <td>fisik</td>\n",
              "      <td>1</td>\n",
              "      <td>1</td>\n",
              "      <td>balita</td>\n",
              "      <td>orang-tua</td>\n",
              "      <td>3</td>\n",
              "    </tr>\n",
              "  </tbody>\n",
              "</table>\n",
              "</div>"
            ],
            "text/plain": [
              "  Tempat Kejadian  ... Mitigasi Resiko\n",
              "0    rumah-tangga  ...               3\n",
              "1    rumah-tangga  ...               3\n",
              "2    rumah-tangga  ...               3\n",
              "3    rumah-tangga  ...               3\n",
              "4    rumah-tangga  ...               3\n",
              "\n",
              "[5 rows x 7 columns]"
            ]
          },
          "metadata": {
            "tags": []
          },
          "execution_count": 3
        }
      ]
    },
    {
      "cell_type": "code",
      "metadata": {
        "id": "V1srYqHmXWVd"
      },
      "source": [
        "from sklearn.utils import shuffle\n",
        "df = shuffle(dataframe)\n"
      ],
      "execution_count": 4,
      "outputs": []
    },
    {
      "cell_type": "code",
      "metadata": {
        "colab": {
          "base_uri": "https://localhost:8080/",
          "height": 224
        },
        "id": "snLKbaMUcQZj",
        "outputId": "f03b3ab9-3fba-448e-bac4-46610b6f1ab9"
      },
      "source": [
        "df.head()"
      ],
      "execution_count": 5,
      "outputs": [
        {
          "output_type": "execute_result",
          "data": {
            "text/html": [
              "<div>\n",
              "<style scoped>\n",
              "    .dataframe tbody tr th:only-of-type {\n",
              "        vertical-align: middle;\n",
              "    }\n",
              "\n",
              "    .dataframe tbody tr th {\n",
              "        vertical-align: top;\n",
              "    }\n",
              "\n",
              "    .dataframe thead th {\n",
              "        text-align: right;\n",
              "    }\n",
              "</style>\n",
              "<table border=\"1\" class=\"dataframe\">\n",
              "  <thead>\n",
              "    <tr style=\"text-align: right;\">\n",
              "      <th></th>\n",
              "      <th>Tempat Kejadian</th>\n",
              "      <th>Jenis Kekerasan</th>\n",
              "      <th>Banyak Kekerasan yang dialami</th>\n",
              "      <th>Banyak Korban Kekerasan</th>\n",
              "      <th>Usia Korban</th>\n",
              "      <th>Hubungan Pelaku dengan Korban</th>\n",
              "      <th>Mitigasi Resiko</th>\n",
              "    </tr>\n",
              "  </thead>\n",
              "  <tbody>\n",
              "    <tr>\n",
              "      <th>2409</th>\n",
              "      <td>rumah-tangga</td>\n",
              "      <td>psikis</td>\n",
              "      <td>1</td>\n",
              "      <td>1</td>\n",
              "      <td>dewasa</td>\n",
              "      <td>tetangga</td>\n",
              "      <td>1</td>\n",
              "    </tr>\n",
              "    <tr>\n",
              "      <th>592</th>\n",
              "      <td>rumah-tangga</td>\n",
              "      <td>fisik</td>\n",
              "      <td>1</td>\n",
              "      <td>1</td>\n",
              "      <td>dewasa</td>\n",
              "      <td>suami/istri</td>\n",
              "      <td>3</td>\n",
              "    </tr>\n",
              "    <tr>\n",
              "      <th>1170</th>\n",
              "      <td>rumah-tangga</td>\n",
              "      <td>seksual</td>\n",
              "      <td>1</td>\n",
              "      <td>1</td>\n",
              "      <td>remaja</td>\n",
              "      <td>orang-tua</td>\n",
              "      <td>3</td>\n",
              "    </tr>\n",
              "    <tr>\n",
              "      <th>82</th>\n",
              "      <td>rumah-tangga</td>\n",
              "      <td>fisik</td>\n",
              "      <td>1</td>\n",
              "      <td>1</td>\n",
              "      <td>balita</td>\n",
              "      <td>keluarga/saudara</td>\n",
              "      <td>3</td>\n",
              "    </tr>\n",
              "    <tr>\n",
              "      <th>2939</th>\n",
              "      <td>rumah-tangga</td>\n",
              "      <td>lainnya</td>\n",
              "      <td>1</td>\n",
              "      <td>1</td>\n",
              "      <td>remaja</td>\n",
              "      <td>orang-tua</td>\n",
              "      <td>1</td>\n",
              "    </tr>\n",
              "  </tbody>\n",
              "</table>\n",
              "</div>"
            ],
            "text/plain": [
              "     Tempat Kejadian  ... Mitigasi Resiko\n",
              "2409    rumah-tangga  ...               1\n",
              "592     rumah-tangga  ...               3\n",
              "1170    rumah-tangga  ...               3\n",
              "82      rumah-tangga  ...               3\n",
              "2939    rumah-tangga  ...               1\n",
              "\n",
              "[5 rows x 7 columns]"
            ]
          },
          "metadata": {
            "tags": []
          },
          "execution_count": 5
        }
      ]
    },
    {
      "cell_type": "code",
      "metadata": {
        "colab": {
          "base_uri": "https://localhost:8080/"
        },
        "id": "FRQypu6oYOUY",
        "outputId": "a34255df-eae8-4d0b-f7c6-185d51f314da"
      },
      "source": [
        "train, test = train_test_split(df, test_size=0.1)\n",
        "print(len(train), 'train examples')\n",
        "print(len(test), 'test examples')"
      ],
      "execution_count": 6,
      "outputs": [
        {
          "output_type": "stream",
          "text": [
            "4697 train examples\n",
            "522 test examples\n"
          ],
          "name": "stdout"
        }
      ]
    },
    {
      "cell_type": "code",
      "metadata": {
        "id": "5e0eOsazZTML"
      },
      "source": [
        "def df_to_dataset(df, shuffle=True, batch_size=32):\n",
        "  df = df.copy()\n",
        "  labels = df.pop('Mitigasi Resiko')\n",
        "  ds = tf.data.Dataset.from_tensor_slices((dict(df), labels))\n",
        "  if shuffle:\n",
        "    ds = ds.shuffle(buffer_size=len(df))\n",
        "  ds = ds.batch(batch_size)\n",
        "  return ds"
      ],
      "execution_count": 7,
      "outputs": []
    },
    {
      "cell_type": "code",
      "metadata": {
        "id": "nQ7pY4vuZ8cH"
      },
      "source": [
        "batch_size = 5\n",
        "train_ds = df_to_dataset(train, batch_size=batch_size)\n",
        "test_ds = df_to_dataset(test, shuffle=False, batch_size=batch_size)"
      ],
      "execution_count": 8,
      "outputs": []
    },
    {
      "cell_type": "code",
      "metadata": {
        "colab": {
          "base_uri": "https://localhost:8080/"
        },
        "id": "3_0voNPRaHUz",
        "outputId": "84b1c6c0-9598-4ab3-bc6d-47b4594e154a"
      },
      "source": [
        "for feature_batch, label_batch in train_ds.take(1):\n",
        "  print('Parameter:', list(feature_batch.keys()))\n",
        "  print('Tempat Kejadian:', feature_batch['Tempat Kejadian'])\n",
        "  print('Jenis Kekerasan:', feature_batch['Jenis Kekerasan'])\n",
        "  print('Banyak Kekerasan:', feature_batch['Banyak Kekerasan yang dialami'])\n",
        "  print('Banyak Korban:', feature_batch['Banyak Korban Kekerasan'])\n",
        "  print('Usia Korban:', feature_batch['Usia Korban'])\n",
        "  print('Hubungan Pelaku dengan Korban:', feature_batch['Hubungan Pelaku dengan Korban'])\n",
        "  print('Label:', label_batch )"
      ],
      "execution_count": 9,
      "outputs": [
        {
          "output_type": "stream",
          "text": [
            "Parameter: ['Tempat Kejadian', 'Jenis Kekerasan', 'Banyak Kekerasan yang dialami', 'Banyak Korban Kekerasan', 'Usia Korban', 'Hubungan Pelaku dengan Korban']\n",
            "Tempat Kejadian: tf.Tensor(\n",
            "[b'rumah-tangga' b'fasilitas-umum' b'fasilitas-umum' b'fasilitas-umum'\n",
            " b'rumah-tangga'], shape=(5,), dtype=string)\n",
            "Jenis Kekerasan: tf.Tensor([b'fisik' b'fisik' b'seksual' b'lainnya' b'psikis'], shape=(5,), dtype=string)\n",
            "Banyak Kekerasan: tf.Tensor([1 2 1 1 1], shape=(5,), dtype=int64)\n",
            "Banyak Korban: tf.Tensor([1 1 1 1 1], shape=(5,), dtype=int64)\n",
            "Usia Korban: tf.Tensor([b'dewasa' b'dewasa' b'dewasa' b'dewasa' b'dewasa'], shape=(5,), dtype=string)\n",
            "Hubungan Pelaku dengan Korban: tf.Tensor(\n",
            "[b'keluarga/saudara' b'suami/istri' b'keluarga/saudara' b'lainnya'\n",
            " b'majikan'], shape=(5,), dtype=string)\n",
            "Label: tf.Tensor([2 3 2 2 1], shape=(5,), dtype=int64)\n"
          ],
          "name": "stdout"
        }
      ]
    },
    {
      "cell_type": "code",
      "metadata": {
        "id": "Exck3gvAdK0_"
      },
      "source": [
        "feature_columns = []\n",
        "\n",
        "tempat_kejadian = tf.feature_column.categorical_column_with_vocabulary_list(\n",
        "                'Tempat Kejadian', ['rumah-tangga', 'tempat-kerja', 'sekolah', 'fasilitas-umum', 'lainnya'])\n",
        "tempat_one_hot = tf.feature_column.indicator_column(tempat_kejadian)\n",
        "feature_columns.append(tempat_one_hot)\n",
        "\n",
        "jenis_kekerasan = tf.feature_column.categorical_column_with_vocabulary_list(\n",
        "    'Jenis Kekerasan', ['fisik', 'seksual', 'psikis', 'penelantaran', 'lainnya', 'eksploitasi', 'traficking'])\n",
        "jenis_one_hot = tf.feature_column.indicator_column(jenis_kekerasan)\n",
        "feature_columns.append(jenis_one_hot)"
      ],
      "execution_count": 15,
      "outputs": []
    },
    {
      "cell_type": "code",
      "metadata": {
        "id": "-phADmTyb-fy"
      },
      "source": [
        ""
      ],
      "execution_count": null,
      "outputs": []
    }
  ]
}