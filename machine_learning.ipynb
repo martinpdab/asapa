{
  "nbformat": 4,
  "nbformat_minor": 0,
  "metadata": {
    "colab": {
      "name": "machine-learning.ipynb",
      "provenance": [],
      "authorship_tag": "ABX9TyPonH6fjQxASpmFgYYyQ4id",
      "include_colab_link": true
    },
    "kernelspec": {
      "name": "python3",
      "display_name": "Python 3"
    },
    "language_info": {
      "name": "python"
    }
  },
  "cells": [
    {
      "cell_type": "markdown",
      "metadata": {
        "id": "view-in-github",
        "colab_type": "text"
      },
      "source": [
        "<a href=\"https://colab.research.google.com/github/martinpdab/asapa/blob/main/machine_learning.ipynb\" target=\"_parent\"><img src=\"https://colab.research.google.com/assets/colab-badge.svg\" alt=\"Open In Colab\"/></a>"
      ]
    },
    {
      "cell_type": "code",
      "metadata": {
        "id": "WhuYbC_8VE_x",
        "colab": {
          "base_uri": "https://localhost:8080/"
        },
        "outputId": "54e50224-a45f-43af-b6a2-64bb655e1f0f"
      },
      "source": [
        "!pip install sklearn"
      ],
      "execution_count": 6,
      "outputs": [
        {
          "output_type": "stream",
          "text": [
            "Requirement already satisfied: sklearn in /usr/local/lib/python3.7/dist-packages (0.0)\n",
            "Requirement already satisfied: scikit-learn in /usr/local/lib/python3.7/dist-packages (from sklearn) (0.22.2.post1)\n",
            "Requirement already satisfied: numpy>=1.11.0 in /usr/local/lib/python3.7/dist-packages (from scikit-learn->sklearn) (1.19.5)\n",
            "Requirement already satisfied: scipy>=0.17.0 in /usr/local/lib/python3.7/dist-packages (from scikit-learn->sklearn) (1.4.1)\n",
            "Requirement already satisfied: joblib>=0.11 in /usr/local/lib/python3.7/dist-packages (from scikit-learn->sklearn) (1.0.1)\n"
          ],
          "name": "stdout"
        }
      ]
    },
    {
      "cell_type": "code",
      "metadata": {
        "id": "PRcEi6iJV_Nm"
      },
      "source": [
        "import numpy as np\n",
        "import pandas as pd\n",
        "\n",
        "try:\n",
        "  %tensorflow_version 2.x\n",
        "except Exception:\n",
        "  pass\n",
        "import tensorflow as tf\n",
        "\n",
        "from tensorflow import feature_column\n",
        "from tensorflow.keras import layers\n",
        "from sklearn.model_selection import train_test_split"
      ],
      "execution_count": 7,
      "outputs": []
    },
    {
      "cell_type": "code",
      "metadata": {
        "colab": {
          "base_uri": "https://localhost:8080/",
          "height": 200
        },
        "id": "Y5EXLzOjWMIb",
        "outputId": "60a79da1-0326-4dbc-d809-417eca742659"
      },
      "source": [
        "URL = 'https://raw.githubusercontent.com/martinpdab/asapa/main/dataset.csv'\n",
        "dataframe = pd.read_csv(URL)\n",
        "dataframe.head()"
      ],
      "execution_count": 8,
      "outputs": [
        {
          "output_type": "execute_result",
          "data": {
            "text/html": [
              "<div>\n",
              "<style scoped>\n",
              "    .dataframe tbody tr th:only-of-type {\n",
              "        vertical-align: middle;\n",
              "    }\n",
              "\n",
              "    .dataframe tbody tr th {\n",
              "        vertical-align: top;\n",
              "    }\n",
              "\n",
              "    .dataframe thead th {\n",
              "        text-align: right;\n",
              "    }\n",
              "</style>\n",
              "<table border=\"1\" class=\"dataframe\">\n",
              "  <thead>\n",
              "    <tr style=\"text-align: right;\">\n",
              "      <th></th>\n",
              "      <th>Tempat Kejadian</th>\n",
              "      <th>Jenis Kekerasan</th>\n",
              "      <th>Banyak Kekerasan yang dialami</th>\n",
              "      <th>Banyak Korban Kekerasan</th>\n",
              "      <th>Usia Korban</th>\n",
              "      <th>Hubungan Pelaku dengan Korban</th>\n",
              "      <th>Mitigasi Resiko</th>\n",
              "    </tr>\n",
              "  </thead>\n",
              "  <tbody>\n",
              "    <tr>\n",
              "      <th>0</th>\n",
              "      <td>rumah-tangga</td>\n",
              "      <td>fisik</td>\n",
              "      <td>1</td>\n",
              "      <td>1</td>\n",
              "      <td>balita</td>\n",
              "      <td>orang-tua</td>\n",
              "      <td>3</td>\n",
              "    </tr>\n",
              "    <tr>\n",
              "      <th>1</th>\n",
              "      <td>rumah-tangga</td>\n",
              "      <td>fisik</td>\n",
              "      <td>1</td>\n",
              "      <td>1</td>\n",
              "      <td>balita</td>\n",
              "      <td>orang-tua</td>\n",
              "      <td>3</td>\n",
              "    </tr>\n",
              "    <tr>\n",
              "      <th>2</th>\n",
              "      <td>rumah-tangga</td>\n",
              "      <td>fisik</td>\n",
              "      <td>1</td>\n",
              "      <td>1</td>\n",
              "      <td>balita</td>\n",
              "      <td>orang-tua</td>\n",
              "      <td>3</td>\n",
              "    </tr>\n",
              "    <tr>\n",
              "      <th>3</th>\n",
              "      <td>rumah-tangga</td>\n",
              "      <td>fisik</td>\n",
              "      <td>1</td>\n",
              "      <td>1</td>\n",
              "      <td>balita</td>\n",
              "      <td>orang-tua</td>\n",
              "      <td>3</td>\n",
              "    </tr>\n",
              "    <tr>\n",
              "      <th>4</th>\n",
              "      <td>rumah-tangga</td>\n",
              "      <td>fisik</td>\n",
              "      <td>1</td>\n",
              "      <td>1</td>\n",
              "      <td>balita</td>\n",
              "      <td>orang-tua</td>\n",
              "      <td>3</td>\n",
              "    </tr>\n",
              "  </tbody>\n",
              "</table>\n",
              "</div>"
            ],
            "text/plain": [
              "  Tempat Kejadian  ... Mitigasi Resiko\n",
              "0    rumah-tangga  ...               3\n",
              "1    rumah-tangga  ...               3\n",
              "2    rumah-tangga  ...               3\n",
              "3    rumah-tangga  ...               3\n",
              "4    rumah-tangga  ...               3\n",
              "\n",
              "[5 rows x 7 columns]"
            ]
          },
          "metadata": {
            "tags": []
          },
          "execution_count": 8
        }
      ]
    },
    {
      "cell_type": "code",
      "metadata": {
        "id": "V1srYqHmXWVd"
      },
      "source": [
        "from sklearn.utils import shuffle\n",
        "df = shuffle(dataframe)\n"
      ],
      "execution_count": 9,
      "outputs": []
    },
    {
      "cell_type": "code",
      "metadata": {
        "colab": {
          "base_uri": "https://localhost:8080/",
          "height": 200
        },
        "id": "snLKbaMUcQZj",
        "outputId": "f8542660-dc08-41d3-c8eb-4d993ee1c2d9"
      },
      "source": [
        "df.head()"
      ],
      "execution_count": 10,
      "outputs": [
        {
          "output_type": "execute_result",
          "data": {
            "text/html": [
              "<div>\n",
              "<style scoped>\n",
              "    .dataframe tbody tr th:only-of-type {\n",
              "        vertical-align: middle;\n",
              "    }\n",
              "\n",
              "    .dataframe tbody tr th {\n",
              "        vertical-align: top;\n",
              "    }\n",
              "\n",
              "    .dataframe thead th {\n",
              "        text-align: right;\n",
              "    }\n",
              "</style>\n",
              "<table border=\"1\" class=\"dataframe\">\n",
              "  <thead>\n",
              "    <tr style=\"text-align: right;\">\n",
              "      <th></th>\n",
              "      <th>Tempat Kejadian</th>\n",
              "      <th>Jenis Kekerasan</th>\n",
              "      <th>Banyak Kekerasan yang dialami</th>\n",
              "      <th>Banyak Korban Kekerasan</th>\n",
              "      <th>Usia Korban</th>\n",
              "      <th>Hubungan Pelaku dengan Korban</th>\n",
              "      <th>Mitigasi Resiko</th>\n",
              "    </tr>\n",
              "  </thead>\n",
              "  <tbody>\n",
              "    <tr>\n",
              "      <th>3312</th>\n",
              "      <td>fasilitas-umum</td>\n",
              "      <td>fisik</td>\n",
              "      <td>1</td>\n",
              "      <td>1</td>\n",
              "      <td>remaja</td>\n",
              "      <td>lainnya</td>\n",
              "      <td>2</td>\n",
              "    </tr>\n",
              "    <tr>\n",
              "      <th>3732</th>\n",
              "      <td>fasilitas-umum</td>\n",
              "      <td>penelantaran</td>\n",
              "      <td>1</td>\n",
              "      <td>1</td>\n",
              "      <td>anak-anak</td>\n",
              "      <td>orang-tua</td>\n",
              "      <td>3</td>\n",
              "    </tr>\n",
              "    <tr>\n",
              "      <th>4850</th>\n",
              "      <td>lainnya</td>\n",
              "      <td>penelantaran</td>\n",
              "      <td>1</td>\n",
              "      <td>2</td>\n",
              "      <td>anak-anak</td>\n",
              "      <td>orang-tua</td>\n",
              "      <td>3</td>\n",
              "    </tr>\n",
              "    <tr>\n",
              "      <th>186</th>\n",
              "      <td>rumah-tangga</td>\n",
              "      <td>fisik</td>\n",
              "      <td>1</td>\n",
              "      <td>1</td>\n",
              "      <td>anak-anak</td>\n",
              "      <td>lainnya</td>\n",
              "      <td>3</td>\n",
              "    </tr>\n",
              "    <tr>\n",
              "      <th>1279</th>\n",
              "      <td>rumah-tangga</td>\n",
              "      <td>seksual</td>\n",
              "      <td>1</td>\n",
              "      <td>1</td>\n",
              "      <td>remaja</td>\n",
              "      <td>tetangga</td>\n",
              "      <td>3</td>\n",
              "    </tr>\n",
              "  </tbody>\n",
              "</table>\n",
              "</div>"
            ],
            "text/plain": [
              "     Tempat Kejadian  ... Mitigasi Resiko\n",
              "3312  fasilitas-umum  ...               2\n",
              "3732  fasilitas-umum  ...               3\n",
              "4850         lainnya  ...               3\n",
              "186     rumah-tangga  ...               3\n",
              "1279    rumah-tangga  ...               3\n",
              "\n",
              "[5 rows x 7 columns]"
            ]
          },
          "metadata": {
            "tags": []
          },
          "execution_count": 10
        }
      ]
    },
    {
      "cell_type": "code",
      "metadata": {
        "colab": {
          "base_uri": "https://localhost:8080/"
        },
        "id": "FRQypu6oYOUY",
        "outputId": "62af6652-e2be-4d3c-801f-d37c4fbfbf04"
      },
      "source": [
        "train, test = train_test_split(df, test_size=0.1)\n",
        "print(len(train), 'train examples')\n",
        "print(len(test), 'test examples')"
      ],
      "execution_count": 11,
      "outputs": [
        {
          "output_type": "stream",
          "text": [
            "4697 train examples\n",
            "522 test examples\n"
          ],
          "name": "stdout"
        }
      ]
    },
    {
      "cell_type": "code",
      "metadata": {
        "id": "5e0eOsazZTML"
      },
      "source": [
        "def df_to_dataset(df, shuffle=True, batch_size=32):\n",
        "  df = df.copy()\n",
        "  labels = df.pop('Mitigasi Resiko')\n",
        "  ds = tf.data.Dataset.from_tensor_slices((dict(df), labels))\n",
        "  if shuffle:\n",
        "    ds = ds.shuffle(buffer_size=len(df))\n",
        "  ds = ds.batch(batch_size)\n",
        "  return ds"
      ],
      "execution_count": 12,
      "outputs": []
    },
    {
      "cell_type": "code",
      "metadata": {
        "id": "nQ7pY4vuZ8cH"
      },
      "source": [
        "batch_size = 5\n",
        "train_ds = df_to_dataset(train, batch_size=batch_size)\n",
        "test_ds = df_to_dataset(test, shuffle=False, batch_size=batch_size)"
      ],
      "execution_count": 14,
      "outputs": []
    },
    {
      "cell_type": "code",
      "metadata": {
        "colab": {
          "base_uri": "https://localhost:8080/"
        },
        "id": "3_0voNPRaHUz",
        "outputId": "6621988c-2dc6-4826-c050-eadfff30b7fd"
      },
      "source": [
        "for feature_batch, label_batch in train_ds.take(1):\n",
        "  print('Parameter:', list(feature_batch.keys()))\n",
        "  print('Tempat Kejadian:', feature_batch['Tempat Kejadian'])\n",
        "  print('Jenis Kekerasan:', feature_batch['Jenis Kekerasan'])\n",
        "  print('Banyak Kekerasan:', feature_batch['Banyak Kekerasan yang dialami'])\n",
        "  print('Banyak Korban:', feature_batch['Banyak Korban Kekerasan'])\n",
        "  print('Usia Korban:', feature_batch['Usia Korban'])\n",
        "  print('Hubungan Pelaku dengan Korban:', feature_batch['Hubungan Pelaku dengan Korban'])\n",
        "  print('Label:', label_batch )"
      ],
      "execution_count": 15,
      "outputs": [
        {
          "output_type": "stream",
          "text": [
            "Parameter: ['Tempat Kejadian', 'Jenis Kekerasan', 'Banyak Kekerasan yang dialami', 'Banyak Korban Kekerasan', 'Usia Korban', 'Hubungan Pelaku dengan Korban']\n",
            "Tempat Kejadian: tf.Tensor([b'rumah-tangga' b'lainnya' b'rumah-tangga' b'lainnya' b'lainnya'], shape=(5,), dtype=string)\n",
            "Jenis Kekerasan: tf.Tensor([b'lainnya' b'psikis' b'seksual' b'fisik' b'fisik'], shape=(5,), dtype=string)\n",
            "Banyak Kekerasan: tf.Tensor([1 1 1 1 2], shape=(5,), dtype=int64)\n",
            "Banyak Korban: tf.Tensor([1 1 1 2 1], shape=(5,), dtype=int64)\n",
            "Usia Korban: tf.Tensor([b'anak-anak' b'dewasa' b'dewasa' b'anak-anak' b'lansia'], shape=(5,), dtype=string)\n",
            "Hubungan Pelaku dengan Korban: tf.Tensor([b'orang-tua' b'pacar/teman' b'suami/istri' b'lainnya' b'keluarga/saudara'], shape=(5,), dtype=string)\n",
            "Label: tf.Tensor([2 2 1 3 3], shape=(5,), dtype=int64)\n"
          ],
          "name": "stdout"
        }
      ]
    },
    {
      "cell_type": "code",
      "metadata": {
        "id": "Exck3gvAdK0_",
        "outputId": "9827ea41-b302-4212-ab75-ee6e0cfd4c8c",
        "colab": {
          "base_uri": "https://localhost:8080/",
          "height": 223
        }
      },
      "source": [
        "feature_column = []\n",
        "tempat_kejadian = feature_column.categorical_column_with_vocabulary_list(\n",
        "                'Tempat Kejadian', ['rumah-tangga', 'tempat-kerja', 'sekolah', 'fasilitas-umum', 'lainnya'])\n",
        "tempat_one_hot = feature_column.indicator_column(tempat_kejadian)\n",
        "feature_columns.append(tempat_one_hot)\n"
      ],
      "execution_count": 18,
      "outputs": [
        {
          "output_type": "error",
          "ename": "AttributeError",
          "evalue": "ignored",
          "traceback": [
            "\u001b[0;31m---------------------------------------------------------------------------\u001b[0m",
            "\u001b[0;31mAttributeError\u001b[0m                            Traceback (most recent call last)",
            "\u001b[0;32m<ipython-input-18-170c8616dcaf>\u001b[0m in \u001b[0;36m<module>\u001b[0;34m()\u001b[0m\n\u001b[1;32m      1\u001b[0m \u001b[0mfeature_column\u001b[0m \u001b[0;34m=\u001b[0m \u001b[0;34m[\u001b[0m\u001b[0;34m]\u001b[0m\u001b[0;34m\u001b[0m\u001b[0;34m\u001b[0m\u001b[0m\n\u001b[0;32m----> 2\u001b[0;31m tempat_kejadian = feature_column.categorical_column_with_vocabulary_list(\n\u001b[0m\u001b[1;32m      3\u001b[0m                 'Tempat Kejadian', ['rumah-tangga', 'tempat-kerja', 'sekolah', 'fasilitas-umum', 'lainnya'])\n\u001b[1;32m      4\u001b[0m \u001b[0mtempat_one_hot\u001b[0m \u001b[0;34m=\u001b[0m \u001b[0mfeature_column\u001b[0m\u001b[0;34m.\u001b[0m\u001b[0mindicator_column\u001b[0m\u001b[0;34m(\u001b[0m\u001b[0mtempat_kejadian\u001b[0m\u001b[0;34m)\u001b[0m\u001b[0;34m\u001b[0m\u001b[0;34m\u001b[0m\u001b[0m\n\u001b[1;32m      5\u001b[0m \u001b[0mfeature_columns\u001b[0m\u001b[0;34m.\u001b[0m\u001b[0mappend\u001b[0m\u001b[0;34m(\u001b[0m\u001b[0mtempat_one_hot\u001b[0m\u001b[0;34m)\u001b[0m\u001b[0;34m\u001b[0m\u001b[0;34m\u001b[0m\u001b[0m\n",
            "\u001b[0;31mAttributeError\u001b[0m: 'list' object has no attribute 'categorical_column_with_vocabulary_list'"
          ]
        }
      ]
    },
    {
      "cell_type": "code",
      "metadata": {
        "id": "-phADmTyb-fy"
      },
      "source": [
        ""
      ],
      "execution_count": null,
      "outputs": []
    }
  ]
}