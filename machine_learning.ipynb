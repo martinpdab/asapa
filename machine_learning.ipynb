{
  "nbformat": 4,
  "nbformat_minor": 0,
  "metadata": {
    "colab": {
      "name": "machine-learning.ipynb",
      "provenance": [],
      "authorship_tag": "ABX9TyMezg1ohtmvXILts3Kb4mcw",
      "include_colab_link": true
    },
    "kernelspec": {
      "name": "python3",
      "display_name": "Python 3"
    },
    "language_info": {
      "name": "python"
    }
  },
  "cells": [
    {
      "cell_type": "markdown",
      "metadata": {
        "id": "view-in-github",
        "colab_type": "text"
      },
      "source": [
        "<a href=\"https://colab.research.google.com/github/martinpdab/asapa/blob/main/machine_learning.ipynb\" target=\"_parent\"><img src=\"https://colab.research.google.com/assets/colab-badge.svg\" alt=\"Open In Colab\"/></a>"
      ]
    },
    {
      "cell_type": "code",
      "metadata": {
        "id": "WhuYbC_8VE_x",
        "colab": {
          "base_uri": "https://localhost:8080/"
        },
        "outputId": "b850ecfa-182b-4629-9ed9-df9714980c09"
      },
      "source": [
        "!pip install sklearn"
      ],
      "execution_count": 1,
      "outputs": [
        {
          "output_type": "stream",
          "text": [
            "Requirement already satisfied: sklearn in /usr/local/lib/python3.7/dist-packages (0.0)\n",
            "Requirement already satisfied: scikit-learn in /usr/local/lib/python3.7/dist-packages (from sklearn) (0.22.2.post1)\n",
            "Requirement already satisfied: numpy>=1.11.0 in /usr/local/lib/python3.7/dist-packages (from scikit-learn->sklearn) (1.19.5)\n",
            "Requirement already satisfied: joblib>=0.11 in /usr/local/lib/python3.7/dist-packages (from scikit-learn->sklearn) (1.0.1)\n",
            "Requirement already satisfied: scipy>=0.17.0 in /usr/local/lib/python3.7/dist-packages (from scikit-learn->sklearn) (1.4.1)\n"
          ],
          "name": "stdout"
        }
      ]
    },
    {
      "cell_type": "code",
      "metadata": {
        "id": "PRcEi6iJV_Nm"
      },
      "source": [
        "import numpy as np\n",
        "import pandas as pd\n",
        "\n",
        "try:\n",
        "  %tensorflow_version 2.x\n",
        "except Exception:\n",
        "  pass\n",
        "import tensorflow as tf\n",
        "\n",
        "from tensorflow import feature_column\n",
        "from tensorflow.keras import layers\n",
        "from sklearn.model_selection import train_test_split"
      ],
      "execution_count": 2,
      "outputs": []
    },
    {
      "cell_type": "code",
      "metadata": {
        "colab": {
          "base_uri": "https://localhost:8080/",
          "height": 200
        },
        "id": "Y5EXLzOjWMIb",
        "outputId": "8f55bda8-e0f2-47c6-826e-64cf8e559a5e"
      },
      "source": [
        "URL = 'https://raw.githubusercontent.com/martinpdab/asapa/main/dataset.csv'\n",
        "dataframe = pd.read_csv(URL)\n",
        "dataframe.head()"
      ],
      "execution_count": 4,
      "outputs": [
        {
          "output_type": "execute_result",
          "data": {
            "text/html": [
              "<div>\n",
              "<style scoped>\n",
              "    .dataframe tbody tr th:only-of-type {\n",
              "        vertical-align: middle;\n",
              "    }\n",
              "\n",
              "    .dataframe tbody tr th {\n",
              "        vertical-align: top;\n",
              "    }\n",
              "\n",
              "    .dataframe thead th {\n",
              "        text-align: right;\n",
              "    }\n",
              "</style>\n",
              "<table border=\"1\" class=\"dataframe\">\n",
              "  <thead>\n",
              "    <tr style=\"text-align: right;\">\n",
              "      <th></th>\n",
              "      <th>Tempat Kejadian</th>\n",
              "      <th>Jenis Kekerasan</th>\n",
              "      <th>Banyak Kekerasan yang dialami</th>\n",
              "      <th>Banyak Korban Kekerasan</th>\n",
              "      <th>Usia Korban</th>\n",
              "      <th>Hubungan Pelaku dengan Korban</th>\n",
              "      <th>Mitigasi Resiko</th>\n",
              "    </tr>\n",
              "  </thead>\n",
              "  <tbody>\n",
              "    <tr>\n",
              "      <th>0</th>\n",
              "      <td>rumah-tangga</td>\n",
              "      <td>fisik</td>\n",
              "      <td>1</td>\n",
              "      <td>1</td>\n",
              "      <td>balita</td>\n",
              "      <td>orang-tua</td>\n",
              "      <td>3</td>\n",
              "    </tr>\n",
              "    <tr>\n",
              "      <th>1</th>\n",
              "      <td>rumah-tangga</td>\n",
              "      <td>fisik</td>\n",
              "      <td>1</td>\n",
              "      <td>1</td>\n",
              "      <td>balita</td>\n",
              "      <td>orang-tua</td>\n",
              "      <td>3</td>\n",
              "    </tr>\n",
              "    <tr>\n",
              "      <th>2</th>\n",
              "      <td>rumah-tangga</td>\n",
              "      <td>fisik</td>\n",
              "      <td>1</td>\n",
              "      <td>1</td>\n",
              "      <td>balita</td>\n",
              "      <td>orang-tua</td>\n",
              "      <td>3</td>\n",
              "    </tr>\n",
              "    <tr>\n",
              "      <th>3</th>\n",
              "      <td>rumah-tangga</td>\n",
              "      <td>fisik</td>\n",
              "      <td>1</td>\n",
              "      <td>1</td>\n",
              "      <td>balita</td>\n",
              "      <td>orang-tua</td>\n",
              "      <td>3</td>\n",
              "    </tr>\n",
              "    <tr>\n",
              "      <th>4</th>\n",
              "      <td>rumah-tangga</td>\n",
              "      <td>fisik</td>\n",
              "      <td>1</td>\n",
              "      <td>1</td>\n",
              "      <td>balita</td>\n",
              "      <td>orang-tua</td>\n",
              "      <td>3</td>\n",
              "    </tr>\n",
              "  </tbody>\n",
              "</table>\n",
              "</div>"
            ],
            "text/plain": [
              "  Tempat Kejadian  ... Mitigasi Resiko\n",
              "0    rumah-tangga  ...               3\n",
              "1    rumah-tangga  ...               3\n",
              "2    rumah-tangga  ...               3\n",
              "3    rumah-tangga  ...               3\n",
              "4    rumah-tangga  ...               3\n",
              "\n",
              "[5 rows x 7 columns]"
            ]
          },
          "metadata": {
            "tags": []
          },
          "execution_count": 4
        }
      ]
    },
    {
      "cell_type": "code",
      "metadata": {
        "colab": {
          "base_uri": "https://localhost:8080/",
          "height": 200
        },
        "id": "V1srYqHmXWVd",
        "outputId": "1726738a-01db-4159-fe18-61ff91ebce71"
      },
      "source": [
        "from sklearn.utils import shuffle\n",
        "df = shuffle(dataframe)\n"
      ],
      "execution_count": 17,
      "outputs": [
        {
          "output_type": "execute_result",
          "data": {
            "text/html": [
              "<div>\n",
              "<style scoped>\n",
              "    .dataframe tbody tr th:only-of-type {\n",
              "        vertical-align: middle;\n",
              "    }\n",
              "\n",
              "    .dataframe tbody tr th {\n",
              "        vertical-align: top;\n",
              "    }\n",
              "\n",
              "    .dataframe thead th {\n",
              "        text-align: right;\n",
              "    }\n",
              "</style>\n",
              "<table border=\"1\" class=\"dataframe\">\n",
              "  <thead>\n",
              "    <tr style=\"text-align: right;\">\n",
              "      <th></th>\n",
              "      <th>Tempat Kejadian</th>\n",
              "      <th>Jenis Kekerasan</th>\n",
              "      <th>Banyak Kekerasan yang dialami</th>\n",
              "      <th>Banyak Korban Kekerasan</th>\n",
              "      <th>Usia Korban</th>\n",
              "      <th>Hubungan Pelaku dengan Korban</th>\n",
              "      <th>Mitigasi Resiko</th>\n",
              "    </tr>\n",
              "  </thead>\n",
              "  <tbody>\n",
              "    <tr>\n",
              "      <th>4925</th>\n",
              "      <td>lainnya</td>\n",
              "      <td>lainnya</td>\n",
              "      <td>1</td>\n",
              "      <td>1</td>\n",
              "      <td>anak-anak</td>\n",
              "      <td>lainnya</td>\n",
              "      <td>2</td>\n",
              "    </tr>\n",
              "    <tr>\n",
              "      <th>433</th>\n",
              "      <td>rumah-tangga</td>\n",
              "      <td>fisik</td>\n",
              "      <td>1</td>\n",
              "      <td>1</td>\n",
              "      <td>remaja</td>\n",
              "      <td>lainnya</td>\n",
              "      <td>3</td>\n",
              "    </tr>\n",
              "    <tr>\n",
              "      <th>402</th>\n",
              "      <td>rumah-tangga</td>\n",
              "      <td>fisik</td>\n",
              "      <td>1</td>\n",
              "      <td>1</td>\n",
              "      <td>remaja</td>\n",
              "      <td>pacar/teman</td>\n",
              "      <td>3</td>\n",
              "    </tr>\n",
              "    <tr>\n",
              "      <th>4850</th>\n",
              "      <td>lainnya</td>\n",
              "      <td>penelantaran</td>\n",
              "      <td>1</td>\n",
              "      <td>2</td>\n",
              "      <td>anak-anak</td>\n",
              "      <td>orang-tua</td>\n",
              "      <td>3</td>\n",
              "    </tr>\n",
              "    <tr>\n",
              "      <th>2174</th>\n",
              "      <td>rumah-tangga</td>\n",
              "      <td>psikis</td>\n",
              "      <td>1</td>\n",
              "      <td>1</td>\n",
              "      <td>remaja</td>\n",
              "      <td>keluarga/saudara</td>\n",
              "      <td>1</td>\n",
              "    </tr>\n",
              "  </tbody>\n",
              "</table>\n",
              "</div>"
            ],
            "text/plain": [
              "     Tempat Kejadian  ... Mitigasi Resiko\n",
              "4925         lainnya  ...               2\n",
              "433     rumah-tangga  ...               3\n",
              "402     rumah-tangga  ...               3\n",
              "4850         lainnya  ...               3\n",
              "2174    rumah-tangga  ...               1\n",
              "\n",
              "[5 rows x 7 columns]"
            ]
          },
          "metadata": {
            "tags": []
          },
          "execution_count": 17
        }
      ]
    },
    {
      "cell_type": "code",
      "metadata": {
        "colab": {
          "base_uri": "https://localhost:8080/",
          "height": 200
        },
        "id": "snLKbaMUcQZj",
        "outputId": "3e292bda-3058-4152-ad49-a51dadbbf1be"
      },
      "source": [
        "df.head()"
      ],
      "execution_count": 20,
      "outputs": [
        {
          "output_type": "execute_result",
          "data": {
            "text/html": [
              "<div>\n",
              "<style scoped>\n",
              "    .dataframe tbody tr th:only-of-type {\n",
              "        vertical-align: middle;\n",
              "    }\n",
              "\n",
              "    .dataframe tbody tr th {\n",
              "        vertical-align: top;\n",
              "    }\n",
              "\n",
              "    .dataframe thead th {\n",
              "        text-align: right;\n",
              "    }\n",
              "</style>\n",
              "<table border=\"1\" class=\"dataframe\">\n",
              "  <thead>\n",
              "    <tr style=\"text-align: right;\">\n",
              "      <th></th>\n",
              "      <th>Tempat Kejadian</th>\n",
              "      <th>Jenis Kekerasan</th>\n",
              "      <th>Banyak Kekerasan yang dialami</th>\n",
              "      <th>Banyak Korban Kekerasan</th>\n",
              "      <th>Usia Korban</th>\n",
              "      <th>Hubungan Pelaku dengan Korban</th>\n",
              "      <th>Mitigasi Resiko</th>\n",
              "    </tr>\n",
              "  </thead>\n",
              "  <tbody>\n",
              "    <tr>\n",
              "      <th>4925</th>\n",
              "      <td>lainnya</td>\n",
              "      <td>lainnya</td>\n",
              "      <td>1</td>\n",
              "      <td>1</td>\n",
              "      <td>anak-anak</td>\n",
              "      <td>lainnya</td>\n",
              "      <td>2</td>\n",
              "    </tr>\n",
              "    <tr>\n",
              "      <th>433</th>\n",
              "      <td>rumah-tangga</td>\n",
              "      <td>fisik</td>\n",
              "      <td>1</td>\n",
              "      <td>1</td>\n",
              "      <td>remaja</td>\n",
              "      <td>lainnya</td>\n",
              "      <td>3</td>\n",
              "    </tr>\n",
              "    <tr>\n",
              "      <th>402</th>\n",
              "      <td>rumah-tangga</td>\n",
              "      <td>fisik</td>\n",
              "      <td>1</td>\n",
              "      <td>1</td>\n",
              "      <td>remaja</td>\n",
              "      <td>pacar/teman</td>\n",
              "      <td>3</td>\n",
              "    </tr>\n",
              "    <tr>\n",
              "      <th>4850</th>\n",
              "      <td>lainnya</td>\n",
              "      <td>penelantaran</td>\n",
              "      <td>1</td>\n",
              "      <td>2</td>\n",
              "      <td>anak-anak</td>\n",
              "      <td>orang-tua</td>\n",
              "      <td>3</td>\n",
              "    </tr>\n",
              "    <tr>\n",
              "      <th>2174</th>\n",
              "      <td>rumah-tangga</td>\n",
              "      <td>psikis</td>\n",
              "      <td>1</td>\n",
              "      <td>1</td>\n",
              "      <td>remaja</td>\n",
              "      <td>keluarga/saudara</td>\n",
              "      <td>1</td>\n",
              "    </tr>\n",
              "  </tbody>\n",
              "</table>\n",
              "</div>"
            ],
            "text/plain": [
              "     Tempat Kejadian  ... Mitigasi Resiko\n",
              "4925         lainnya  ...               2\n",
              "433     rumah-tangga  ...               3\n",
              "402     rumah-tangga  ...               3\n",
              "4850         lainnya  ...               3\n",
              "2174    rumah-tangga  ...               1\n",
              "\n",
              "[5 rows x 7 columns]"
            ]
          },
          "metadata": {
            "tags": []
          },
          "execution_count": 20
        }
      ]
    },
    {
      "cell_type": "code",
      "metadata": {
        "colab": {
          "base_uri": "https://localhost:8080/"
        },
        "id": "FRQypu6oYOUY",
        "outputId": "6fb02d60-a5d2-430d-cbd8-65864050c9ec"
      },
      "source": [
        "train, test = train_test_split(df, test_size=0.1)\n",
        "print(len(train), 'train examples')\n",
        "print(len(test), 'test examples')"
      ],
      "execution_count": 10,
      "outputs": [
        {
          "output_type": "stream",
          "text": [
            "4697 train examples\n",
            "522 test examples\n"
          ],
          "name": "stdout"
        }
      ]
    },
    {
      "cell_type": "code",
      "metadata": {
        "id": "5e0eOsazZTML"
      },
      "source": [
        "def df_to_dataset(df, shuffle=True, batch_size=32):\n",
        "  dataframe = df.copy()\n",
        "  labels = df.pop('Mitigasi Resiko')\n",
        "  ds = tf.data.Dataset.from_tensor_slices((dict(df), labels))\n",
        "  if shuffle:\n",
        "    ds = ds.shuffle(buffer_size=len(df))\n",
        "  ds = ds.batch(batch_size)\n",
        "  return ds"
      ],
      "execution_count": 11,
      "outputs": []
    },
    {
      "cell_type": "code",
      "metadata": {
        "id": "nQ7pY4vuZ8cH"
      },
      "source": [
        "batch_size = 5\n",
        "train_ds = df_to_dataset(train, batch_size=batch_size)\n",
        "val_ds = df_to_dataset(val, shuffle=False, batch_size=batch_size)\n",
        "test_ds = df_to_dataset(test, shuffle=False, batch_size=batch_size)"
      ],
      "execution_count": 12,
      "outputs": []
    },
    {
      "cell_type": "code",
      "metadata": {
        "colab": {
          "base_uri": "https://localhost:8080/"
        },
        "id": "3_0voNPRaHUz",
        "outputId": "b4fc7e84-e0bf-4b05-c6c1-f0cadd33424b"
      },
      "source": [
        "for feature_batch, label_batch in train_ds.take(1):\n",
        "  print('Parameter:', list(feature_batch.keys()))\n",
        "  print('Tempat Kejadian:', feature_batch['Tempat Kejadian'])\n",
        "  print('Jenis Kekerasan:', feature_batch['Jenis Kekerasan'])\n",
        "  print('Banyak Kekerasan:', feature_batch['Banyak Kekerasan yang dialami'])\n",
        "  print('Banyak Korban:', feature_batch['Banyak Korban Kekerasan'])\n",
        "  print('Usia Korban:', feature_batch['Usia Korban'])\n",
        "  print('Hubungan Pelaku dengan Korban:', feature_batch['Hubungan Pelaku dengan Korban'])\n",
        "  print('Label:', label_batch )"
      ],
      "execution_count": 25,
      "outputs": [
        {
          "output_type": "stream",
          "text": [
            "Parameter: ['Tempat Kejadian', 'Jenis Kekerasan', 'Banyak Kekerasan yang dialami', 'Banyak Korban Kekerasan', 'Usia Korban', 'Hubungan Pelaku dengan Korban']\n",
            "Tempat Kejadian: tf.Tensor(\n",
            "[b'lainnya' b'rumah-tangga' b'rumah-tangga' b'rumah-tangga'\n",
            " b'rumah-tangga'], shape=(5,), dtype=string)\n",
            "Jenis Kekerasan: tf.Tensor([b'seksual' b'seksual' b'seksual' b'psikis' b'psikis'], shape=(5,), dtype=string)\n",
            "Banyak Kekerasan: tf.Tensor([1 1 1 1 1], shape=(5,), dtype=int64)\n",
            "Banyak Korban: tf.Tensor([1 1 1 1 1], shape=(5,), dtype=int64)\n",
            "Usia Korban: tf.Tensor([b'anak-anak' b'remaja' b'dewasa' b'dewasa' b'dewasa'], shape=(5,), dtype=string)\n",
            "Hubungan Pelaku dengan Korban: tf.Tensor([b'tetangga' b'orang-tua' b'pacar/teman' b'keluarga/saudara' b'majikan'], shape=(5,), dtype=string)\n",
            "Label: tf.Tensor([3 3 3 1 1], shape=(5,), dtype=int64)\n"
          ],
          "name": "stdout"
        }
      ]
    },
    {
      "cell_type": "code",
      "metadata": {
        "id": "Exck3gvAdK0_"
      },
      "source": [
        "tempat_kejadian = feature_column.categorical_column_with_vocabulary_list(\n",
        "                'Tempat Kejadian', ['rumah-tangga', 'tempat-kerja', 'sekolah', 'fasilitas-umum', 'lainnya'])\n",
        "thal_one_hot = feature_column.indicator_column(thal)\n",
        "feature_columns.append(thal_one_hot)\n"
      ],
      "execution_count": null,
      "outputs": []
    },
    {
      "cell_type": "code",
      "metadata": {
        "id": "-phADmTyb-fy"
      },
      "source": [
        ""
      ],
      "execution_count": null,
      "outputs": []
    }
  ]
}