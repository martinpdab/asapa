{
  "nbformat": 4,
  "nbformat_minor": 0,
  "metadata": {
    "colab": {
      "name": "machine-learning.ipynb",
      "provenance": [],
      "include_colab_link": true
    },
    "kernelspec": {
      "name": "python3",
      "display_name": "Python 3"
    },
    "language_info": {
      "name": "python"
    },
    "accelerator": "GPU"
  },
  "cells": [
    {
      "cell_type": "markdown",
      "metadata": {
        "id": "view-in-github",
        "colab_type": "text"
      },
      "source": [
        "<a href=\"https://colab.research.google.com/github/martinpdab/asapa/blob/main/machine_learning.ipynb\" target=\"_parent\"><img src=\"https://colab.research.google.com/assets/colab-badge.svg\" alt=\"Open In Colab\"/></a>"
      ]
    },
    {
      "cell_type": "code",
      "metadata": {
        "id": "WhuYbC_8VE_x",
        "colab": {
          "base_uri": "https://localhost:8080/"
        },
        "outputId": "f574911a-5726-4b43-a8ec-5c624d48ab52"
      },
      "source": [
        "!pip install sklearn"
      ],
      "execution_count": 1,
      "outputs": [
        {
          "output_type": "stream",
          "text": [
            "Requirement already satisfied: sklearn in /usr/local/lib/python3.7/dist-packages (0.0)\n",
            "Requirement already satisfied: scikit-learn in /usr/local/lib/python3.7/dist-packages (from sklearn) (0.22.2.post1)\n",
            "Requirement already satisfied: joblib>=0.11 in /usr/local/lib/python3.7/dist-packages (from scikit-learn->sklearn) (1.0.1)\n",
            "Requirement already satisfied: scipy>=0.17.0 in /usr/local/lib/python3.7/dist-packages (from scikit-learn->sklearn) (1.4.1)\n",
            "Requirement already satisfied: numpy>=1.11.0 in /usr/local/lib/python3.7/dist-packages (from scikit-learn->sklearn) (1.19.5)\n"
          ],
          "name": "stdout"
        }
      ]
    },
    {
      "cell_type": "code",
      "metadata": {
        "id": "PRcEi6iJV_Nm"
      },
      "source": [
        "import numpy as np\n",
        "import pandas as pd\n",
        "from sklearn.model_selection import  train_test_split\n",
        "from keras.utils.np_utils import to_categorical\n",
        "\n",
        "try:\n",
        "  %tensorflow_version 2.x\n",
        "except Exception:\n",
        "  pass\n",
        "import tensorflow as tf\n",
        "\n",
        "from tensorflow import feature_column\n",
        "from tensorflow.keras import layers\n",
        "from sklearn.utils import shuffle"
      ],
      "execution_count": 2,
      "outputs": []
    },
    {
      "cell_type": "code",
      "metadata": {
        "colab": {
          "base_uri": "https://localhost:8080/",
          "height": 408
        },
        "id": "Y5EXLzOjWMIb",
        "outputId": "f7187a02-abfe-4eaa-cf35-dceb5a1a2fe1"
      },
      "source": [
        "#using new dataset\n",
        "URL = 'https://raw.githubusercontent.com/martinpdab/asapa/main/dataset/New%20Dataset%20Kasus%20Kekerasan.csv' \n",
        "dataframe = pd.read_csv(URL)\n",
        "dataframe"
      ],
      "execution_count": 3,
      "outputs": [
        {
          "output_type": "execute_result",
          "data": {
            "text/html": [
              "<div>\n",
              "<style scoped>\n",
              "    .dataframe tbody tr th:only-of-type {\n",
              "        vertical-align: middle;\n",
              "    }\n",
              "\n",
              "    .dataframe tbody tr th {\n",
              "        vertical-align: top;\n",
              "    }\n",
              "\n",
              "    .dataframe thead th {\n",
              "        text-align: right;\n",
              "    }\n",
              "</style>\n",
              "<table border=\"1\" class=\"dataframe\">\n",
              "  <thead>\n",
              "    <tr style=\"text-align: right;\">\n",
              "      <th></th>\n",
              "      <th>tempat</th>\n",
              "      <th>jenis</th>\n",
              "      <th>banyak_kekerasan</th>\n",
              "      <th>banyak_korban</th>\n",
              "      <th>usia</th>\n",
              "      <th>hubungan_pelaku</th>\n",
              "      <th>label</th>\n",
              "    </tr>\n",
              "  </thead>\n",
              "  <tbody>\n",
              "    <tr>\n",
              "      <th>0</th>\n",
              "      <td>rumah-tangga</td>\n",
              "      <td>fisik</td>\n",
              "      <td>1</td>\n",
              "      <td>1</td>\n",
              "      <td>balita</td>\n",
              "      <td>orang-tua</td>\n",
              "      <td>2</td>\n",
              "    </tr>\n",
              "    <tr>\n",
              "      <th>1</th>\n",
              "      <td>rumah-tangga</td>\n",
              "      <td>fisik</td>\n",
              "      <td>1</td>\n",
              "      <td>1</td>\n",
              "      <td>balita</td>\n",
              "      <td>orang-tua</td>\n",
              "      <td>2</td>\n",
              "    </tr>\n",
              "    <tr>\n",
              "      <th>2</th>\n",
              "      <td>rumah-tangga</td>\n",
              "      <td>fisik</td>\n",
              "      <td>1</td>\n",
              "      <td>1</td>\n",
              "      <td>balita</td>\n",
              "      <td>orang-tua</td>\n",
              "      <td>2</td>\n",
              "    </tr>\n",
              "    <tr>\n",
              "      <th>3</th>\n",
              "      <td>rumah-tangga</td>\n",
              "      <td>fisik</td>\n",
              "      <td>1</td>\n",
              "      <td>1</td>\n",
              "      <td>balita</td>\n",
              "      <td>orang-tua</td>\n",
              "      <td>2</td>\n",
              "    </tr>\n",
              "    <tr>\n",
              "      <th>4</th>\n",
              "      <td>rumah-tangga</td>\n",
              "      <td>fisik</td>\n",
              "      <td>1</td>\n",
              "      <td>1</td>\n",
              "      <td>balita</td>\n",
              "      <td>orang-tua</td>\n",
              "      <td>2</td>\n",
              "    </tr>\n",
              "    <tr>\n",
              "      <th>...</th>\n",
              "      <td>...</td>\n",
              "      <td>...</td>\n",
              "      <td>...</td>\n",
              "      <td>...</td>\n",
              "      <td>...</td>\n",
              "      <td>...</td>\n",
              "      <td>...</td>\n",
              "    </tr>\n",
              "    <tr>\n",
              "      <th>5214</th>\n",
              "      <td>lainnya</td>\n",
              "      <td>traficking</td>\n",
              "      <td>1</td>\n",
              "      <td>2</td>\n",
              "      <td>dewasa</td>\n",
              "      <td>lainnya</td>\n",
              "      <td>2</td>\n",
              "    </tr>\n",
              "    <tr>\n",
              "      <th>5215</th>\n",
              "      <td>lainnya</td>\n",
              "      <td>traficking</td>\n",
              "      <td>1</td>\n",
              "      <td>2</td>\n",
              "      <td>dewasa</td>\n",
              "      <td>lainnya</td>\n",
              "      <td>2</td>\n",
              "    </tr>\n",
              "    <tr>\n",
              "      <th>5216</th>\n",
              "      <td>lainnya</td>\n",
              "      <td>traficking</td>\n",
              "      <td>2</td>\n",
              "      <td>1</td>\n",
              "      <td>remaja</td>\n",
              "      <td>lainnya</td>\n",
              "      <td>2</td>\n",
              "    </tr>\n",
              "    <tr>\n",
              "      <th>5217</th>\n",
              "      <td>lainnya</td>\n",
              "      <td>traficking</td>\n",
              "      <td>2</td>\n",
              "      <td>1</td>\n",
              "      <td>dewasa</td>\n",
              "      <td>lainnya</td>\n",
              "      <td>2</td>\n",
              "    </tr>\n",
              "    <tr>\n",
              "      <th>5218</th>\n",
              "      <td>lainnya</td>\n",
              "      <td>traficking</td>\n",
              "      <td>2</td>\n",
              "      <td>2</td>\n",
              "      <td>dewasa</td>\n",
              "      <td>lainnya</td>\n",
              "      <td>2</td>\n",
              "    </tr>\n",
              "  </tbody>\n",
              "</table>\n",
              "<p>5219 rows × 7 columns</p>\n",
              "</div>"
            ],
            "text/plain": [
              "            tempat       jenis  banyak_kekerasan  ...    usia hubungan_pelaku label\n",
              "0     rumah-tangga       fisik                 1  ...  balita       orang-tua     2\n",
              "1     rumah-tangga       fisik                 1  ...  balita       orang-tua     2\n",
              "2     rumah-tangga       fisik                 1  ...  balita       orang-tua     2\n",
              "3     rumah-tangga       fisik                 1  ...  balita       orang-tua     2\n",
              "4     rumah-tangga       fisik                 1  ...  balita       orang-tua     2\n",
              "...            ...         ...               ...  ...     ...             ...   ...\n",
              "5214       lainnya  traficking                 1  ...  dewasa         lainnya     2\n",
              "5215       lainnya  traficking                 1  ...  dewasa         lainnya     2\n",
              "5216       lainnya  traficking                 2  ...  remaja         lainnya     2\n",
              "5217       lainnya  traficking                 2  ...  dewasa         lainnya     2\n",
              "5218       lainnya  traficking                 2  ...  dewasa         lainnya     2\n",
              "\n",
              "[5219 rows x 7 columns]"
            ]
          },
          "metadata": {
            "tags": []
          },
          "execution_count": 3
        }
      ]
    },
    {
      "cell_type": "code",
      "metadata": {
        "id": "3QzCLjqNHfm2",
        "colab": {
          "base_uri": "https://localhost:8080/",
          "height": 200
        },
        "outputId": "216aae2d-af0b-450d-ef0e-139ba6fdfea5"
      },
      "source": [
        "dataframe = shuffle(dataframe)\n",
        "dataframe.head()"
      ],
      "execution_count": 4,
      "outputs": [
        {
          "output_type": "execute_result",
          "data": {
            "text/html": [
              "<div>\n",
              "<style scoped>\n",
              "    .dataframe tbody tr th:only-of-type {\n",
              "        vertical-align: middle;\n",
              "    }\n",
              "\n",
              "    .dataframe tbody tr th {\n",
              "        vertical-align: top;\n",
              "    }\n",
              "\n",
              "    .dataframe thead th {\n",
              "        text-align: right;\n",
              "    }\n",
              "</style>\n",
              "<table border=\"1\" class=\"dataframe\">\n",
              "  <thead>\n",
              "    <tr style=\"text-align: right;\">\n",
              "      <th></th>\n",
              "      <th>tempat</th>\n",
              "      <th>jenis</th>\n",
              "      <th>banyak_kekerasan</th>\n",
              "      <th>banyak_korban</th>\n",
              "      <th>usia</th>\n",
              "      <th>hubungan_pelaku</th>\n",
              "      <th>label</th>\n",
              "    </tr>\n",
              "  </thead>\n",
              "  <tbody>\n",
              "    <tr>\n",
              "      <th>2289</th>\n",
              "      <td>rumah-tangga</td>\n",
              "      <td>psikis</td>\n",
              "      <td>1</td>\n",
              "      <td>1</td>\n",
              "      <td>dewasa</td>\n",
              "      <td>orang-tua</td>\n",
              "      <td>0</td>\n",
              "    </tr>\n",
              "    <tr>\n",
              "      <th>2103</th>\n",
              "      <td>rumah-tangga</td>\n",
              "      <td>psikis</td>\n",
              "      <td>1</td>\n",
              "      <td>1</td>\n",
              "      <td>remaja</td>\n",
              "      <td>orang-tua</td>\n",
              "      <td>0</td>\n",
              "    </tr>\n",
              "    <tr>\n",
              "      <th>2607</th>\n",
              "      <td>rumah-tangga</td>\n",
              "      <td>psikis</td>\n",
              "      <td>1</td>\n",
              "      <td>1</td>\n",
              "      <td>dewasa</td>\n",
              "      <td>suami/istri</td>\n",
              "      <td>0</td>\n",
              "    </tr>\n",
              "    <tr>\n",
              "      <th>1735</th>\n",
              "      <td>rumah-tangga</td>\n",
              "      <td>seksual</td>\n",
              "      <td>1</td>\n",
              "      <td>1</td>\n",
              "      <td>dewasa</td>\n",
              "      <td>majikan</td>\n",
              "      <td>2</td>\n",
              "    </tr>\n",
              "    <tr>\n",
              "      <th>634</th>\n",
              "      <td>rumah-tangga</td>\n",
              "      <td>fisik</td>\n",
              "      <td>1</td>\n",
              "      <td>1</td>\n",
              "      <td>dewasa</td>\n",
              "      <td>suami/istri</td>\n",
              "      <td>2</td>\n",
              "    </tr>\n",
              "  </tbody>\n",
              "</table>\n",
              "</div>"
            ],
            "text/plain": [
              "            tempat    jenis  banyak_kekerasan  ...    usia hubungan_pelaku label\n",
              "2289  rumah-tangga   psikis                 1  ...  dewasa       orang-tua     0\n",
              "2103  rumah-tangga   psikis                 1  ...  remaja       orang-tua     0\n",
              "2607  rumah-tangga   psikis                 1  ...  dewasa     suami/istri     0\n",
              "1735  rumah-tangga  seksual                 1  ...  dewasa         majikan     2\n",
              "634   rumah-tangga    fisik                 1  ...  dewasa     suami/istri     2\n",
              "\n",
              "[5 rows x 7 columns]"
            ]
          },
          "metadata": {
            "tags": []
          },
          "execution_count": 4
        }
      ]
    },
    {
      "cell_type": "code",
      "metadata": {
        "id": "N-Ed3V01I8sc",
        "colab": {
          "base_uri": "https://localhost:8080/"
        },
        "outputId": "d09a6ae9-331c-4ce1-f40b-be54c0ee5a6a"
      },
      "source": [
        "list(dataframe[\"label\"].unique())"
      ],
      "execution_count": 5,
      "outputs": [
        {
          "output_type": "execute_result",
          "data": {
            "text/plain": [
              "[0, 2, 1]"
            ]
          },
          "metadata": {
            "tags": []
          },
          "execution_count": 5
        }
      ]
    },
    {
      "cell_type": "code",
      "metadata": {
        "id": "HjZBbTLzJGHb",
        "colab": {
          "base_uri": "https://localhost:8080/"
        },
        "outputId": "32e76240-4470-4901-909f-9510e90e5924"
      },
      "source": [
        "dataframe.columns"
      ],
      "execution_count": 6,
      "outputs": [
        {
          "output_type": "execute_result",
          "data": {
            "text/plain": [
              "Index(['tempat', 'jenis', 'banyak_kekerasan', 'banyak_korban', 'usia',\n",
              "       'hubungan_pelaku', 'label'],\n",
              "      dtype='object')"
            ]
          },
          "metadata": {
            "tags": []
          },
          "execution_count": 6
        }
      ]
    },
    {
      "cell_type": "code",
      "metadata": {
        "id": "hp34vn-8f0Tm",
        "colab": {
          "base_uri": "https://localhost:8080/"
        },
        "outputId": "85de1395-77d5-4676-d05d-4cee5d276c35"
      },
      "source": [
        "train, test = train_test_split(dataframe, test_size=0.1)\n",
        "print(len(train), 'train examples')\n",
        "print(len(test), 'test examples')"
      ],
      "execution_count": 7,
      "outputs": [
        {
          "output_type": "stream",
          "text": [
            "4697 train examples\n",
            "522 test examples\n"
          ],
          "name": "stdout"
        }
      ]
    },
    {
      "cell_type": "code",
      "metadata": {
        "id": "nQ7pY4vuZ8cH"
      },
      "source": [
        "def df_to_dataset(dataframe, batch_size=32):\n",
        "    dataframe = dataframe.copy()\n",
        "#     labels = dataframe.pop('Species') \n",
        "    #########\n",
        "    labels = dataframe['label'].to_numpy() \n",
        "    labels = tf.one_hot(labels, 3)\n",
        "    #########\n",
        "    ds = tf.data.Dataset.from_tensor_slices((dict(dataframe), labels))\n",
        "    ds = ds.batch(batch_size)\n",
        "    return ds"
      ],
      "execution_count": 8,
      "outputs": []
    },
    {
      "cell_type": "code",
      "metadata": {
        "id": "pM2fKP7Rg2BZ"
      },
      "source": [
        "batch_size = 5 \n",
        "train_ds = df_to_dataset(train, batch_size=batch_size)\n",
        "test_ds = df_to_dataset(test, batch_size=batch_size)"
      ],
      "execution_count": 9,
      "outputs": []
    },
    {
      "cell_type": "code",
      "metadata": {
        "colab": {
          "base_uri": "https://localhost:8080/"
        },
        "id": "3_0voNPRaHUz",
        "outputId": "a3c211db-0145-477b-dced-35d9f69eca46"
      },
      "source": [
        "for feature_batch, label_batch in train_ds.take(1):\n",
        "  print('Parameter:', list(feature_batch.keys()))\n",
        "  print('Tempat Kejadian:', feature_batch['tempat'])\n",
        "  print('Jenis Kekerasan:', feature_batch['jenis'])\n",
        "  print('Banyak Kekerasan:', feature_batch['banyak_kekerasan'])\n",
        "  print('Banyak Korban:', feature_batch['banyak_korban'])\n",
        "  print('Usia Korban:', feature_batch['usia'])\n",
        "  print('Hubungan Pelaku dengan Korban:', feature_batch['hubungan_pelaku'])\n",
        "  print('Label:', label_batch )\n",
        "\n",
        "for feature_batch, label_batch in test_ds.take(1):\n",
        "    print(\"Tempat kejadian:\", feature_batch[\"tempat\"])\n",
        "    print(\"Jenis kekerasan:\", feature_batch[\"jenis\"])\n",
        "    print(\"Mitigasi resiko:\", label_batch)"
      ],
      "execution_count": 10,
      "outputs": [
        {
          "output_type": "stream",
          "text": [
            "Parameter: ['tempat', 'jenis', 'banyak_kekerasan', 'banyak_korban', 'usia', 'hubungan_pelaku', 'label']\n",
            "Tempat Kejadian: tf.Tensor([b'lainnya' b'fasilitas-umum' b'lainnya' b'lainnya' b'rumah-tangga'], shape=(5,), dtype=string)\n",
            "Jenis Kekerasan: tf.Tensor([b'fisik' b'penelantaran' b'lainnya' b'psikis' b'fisik'], shape=(5,), dtype=string)\n",
            "Banyak Kekerasan: tf.Tensor([1 1 1 1 1], shape=(5,), dtype=int64)\n",
            "Banyak Korban: tf.Tensor([1 1 1 1 1], shape=(5,), dtype=int64)\n",
            "Usia Korban: tf.Tensor([b'remaja' b'remaja' b'lansia' b'lansia' b'balita'], shape=(5,), dtype=string)\n",
            "Hubungan Pelaku dengan Korban: tf.Tensor(\n",
            "[b'pacar/teman' b'keluarga/saudara' b'tetangga' b'lainnya'\n",
            " b'keluarga/saudara'], shape=(5,), dtype=string)\n",
            "Label: tf.Tensor(\n",
            "[[0. 1. 0.]\n",
            " [0. 1. 0.]\n",
            " [1. 0. 0.]\n",
            " [0. 1. 0.]\n",
            " [0. 0. 1.]], shape=(5, 3), dtype=float32)\n",
            "Tempat kejadian: tf.Tensor(\n",
            "[b'tempat-kerja' b'rumah-tangga' b'rumah-tangga' b'lainnya'\n",
            " b'rumah-tangga'], shape=(5,), dtype=string)\n",
            "Jenis kekerasan: tf.Tensor([b'seksual' b'psikis' b'fisik' b'traficking' b'psikis'], shape=(5,), dtype=string)\n",
            "Mitigasi resiko: tf.Tensor(\n",
            "[[0. 0. 1.]\n",
            " [1. 0. 0.]\n",
            " [0. 0. 1.]\n",
            " [0. 0. 1.]\n",
            " [1. 0. 0.]], shape=(5, 3), dtype=float32)\n"
          ],
          "name": "stdout"
        }
      ]
    },
    {
      "cell_type": "code",
      "metadata": {
        "id": "Exck3gvAdK0_",
        "colab": {
          "base_uri": "https://localhost:8080/",
          "height": 191
        },
        "outputId": "4f71827d-1258-4fe7-cc91-f1d6e83fb4c5"
      },
      "source": [
        "feature_columns = []\n",
        "\n",
        "feature_columns.append(feature_column.numeric_column('banyak_korban'))\n",
        "banyak_kekerasan = feature_column.numeric_column('banyak_kekerasan')\n",
        "\n",
        "feature_columns.append(banyak_kekerasan)\n",
        "\n",
        "'''tempat_kejadian = tf.feature_column.categorical_column_with_vocabulary_list(\n",
        "                'tempat', ['rumah-tangga', 'tempat-kerja', 'sekolah', 'fasilitas-umum', 'lainnya'])\n",
        "tempat_one_hot = tf.feature_column.indicator_column(tempat_kejadian)\n",
        "feature_columns.append(tempat_one_hot)'''\n",
        "\n",
        "jenis_kekerasan = tf.feature_column.categorical_column_with_vocabulary_list(\n",
        "    'jenis', ['fisik', 'seksual', 'psikis', 'penelantaran', 'lainnya', 'eksploitasi', 'traficking'])\n",
        "jenis_one_hot = tf.feature_column.indicator_column(jenis_kekerasan)\n",
        "feature_columns.append(jenis_one_hot)\n",
        "\n",
        "usia_korban = tf.feature_column.categorical_column_with_vocabulary_list(\n",
        "    'usia', ['balita', 'anak-anak', 'remaja', 'dewasa', 'lansia'])\n",
        "usia_one_hot = tf.feature_column.indicator_column(usia_korban)\n",
        "feature_columns.append(usia_one_hot)\n",
        "\n",
        "hubungan_pelaku = tf.feature_column.categorical_column_with_vocabulary_list(\n",
        "    'hubungan_pelaku', ['orang-tua', 'keluarga/saudara', 'tetangga', 'suami/istri', 'majikan', 'rekan-kerja', 'guru', 'pacar/teman', 'lainnya'])\n",
        "hubungan_one_hot = tf.feature_column.indicator_column(hubungan_pelaku)\n",
        "feature_columns.append(hubungan_one_hot)\n",
        "\n",
        "\n",
        "\n",
        "feature_columns.shape()"
      ],
      "execution_count": 31,
      "outputs": [
        {
          "output_type": "error",
          "ename": "AttributeError",
          "evalue": "ignored",
          "traceback": [
            "\u001b[0;31m---------------------------------------------------------------------------\u001b[0m",
            "\u001b[0;31mAttributeError\u001b[0m                            Traceback (most recent call last)",
            "\u001b[0;32m<ipython-input-31-b96f63ccbff8>\u001b[0m in \u001b[0;36m<module>\u001b[0;34m()\u001b[0m\n\u001b[1;32m     28\u001b[0m \u001b[0;34m\u001b[0m\u001b[0m\n\u001b[1;32m     29\u001b[0m \u001b[0;34m\u001b[0m\u001b[0m\n\u001b[0;32m---> 30\u001b[0;31m \u001b[0mfeature_columns\u001b[0m\u001b[0;34m.\u001b[0m\u001b[0mshape\u001b[0m\u001b[0;34m(\u001b[0m\u001b[0;34m)\u001b[0m\u001b[0;34m\u001b[0m\u001b[0;34m\u001b[0m\u001b[0m\n\u001b[0m",
            "\u001b[0;31mAttributeError\u001b[0m: 'list' object has no attribute 'shape'"
          ]
        }
      ]
    },
    {
      "cell_type": "code",
      "metadata": {
        "id": "al1FVMq7JQJr",
        "colab": {
          "base_uri": "https://localhost:8080/",
          "height": 175
        },
        "outputId": "62abe086-5f6b-4278-ab33-3122b43845c0"
      },
      "source": [
        "feature_layer = tf.keras.layers.DenseFeatures(feature_columns)\n",
        "feature_layer"
      ],
      "execution_count": 30,
      "outputs": [
        {
          "output_type": "error",
          "ename": "AttributeError",
          "evalue": "ignored",
          "traceback": [
            "\u001b[0;31m---------------------------------------------------------------------------\u001b[0m",
            "\u001b[0;31mAttributeError\u001b[0m                            Traceback (most recent call last)",
            "\u001b[0;32m<ipython-input-30-51cfb8858ca0>\u001b[0m in \u001b[0;36m<module>\u001b[0;34m()\u001b[0m\n\u001b[1;32m      1\u001b[0m \u001b[0mfeature_layer\u001b[0m \u001b[0;34m=\u001b[0m \u001b[0mtf\u001b[0m\u001b[0;34m.\u001b[0m\u001b[0mkeras\u001b[0m\u001b[0;34m.\u001b[0m\u001b[0mlayers\u001b[0m\u001b[0;34m.\u001b[0m\u001b[0mDenseFeatures\u001b[0m\u001b[0;34m(\u001b[0m\u001b[0mfeature_columns\u001b[0m\u001b[0;34m)\u001b[0m\u001b[0;34m\u001b[0m\u001b[0;34m\u001b[0m\u001b[0m\n\u001b[0;32m----> 2\u001b[0;31m \u001b[0mfeature_layer\u001b[0m\u001b[0;34m.\u001b[0m\u001b[0mshape\u001b[0m\u001b[0;34m(\u001b[0m\u001b[0;34m)\u001b[0m\u001b[0;34m\u001b[0m\u001b[0;34m\u001b[0m\u001b[0m\n\u001b[0m",
            "\u001b[0;31mAttributeError\u001b[0m: 'DenseFeatures' object has no attribute 'shape'"
          ]
        }
      ]
    },
    {
      "cell_type": "code",
      "metadata": {
        "id": "-phADmTyb-fy"
      },
      "source": [
        "batch_size = 32\n",
        "train_ds = df_to_dataset(train, batch_size=batch_size)\n",
        "test_ds = df_to_dataset(test, batch_size=batch_size)"
      ],
      "execution_count": 13,
      "outputs": []
    },
    {
      "cell_type": "code",
      "metadata": {
        "id": "9Nw_QPGTix9M",
        "outputId": "2e0a41cb-5082-4bf8-ff6c-935834a8306f",
        "colab": {
          "base_uri": "https://localhost:8080/"
        }
      },
      "source": [
        "class myCallback(tf.keras.callbacks.Callback):\n",
        "        def on_epoch_end(self, epoch, logs={}):\n",
        "            if (logs.get('accuracy') > 0.95):\n",
        "                print(\"\\nReached 95% accuracy so cancelling training!\")\n",
        "                self.model.stop_training = True\n",
        "\n",
        "callbacks = myCallback()\n",
        "model.summary()"
      ],
      "execution_count": 21,
      "outputs": [
        {
          "output_type": "stream",
          "text": [
            "Model: \"sequential\"\n",
            "_________________________________________________________________\n",
            "Layer (type)                 Output Shape              Param #   \n",
            "=================================================================\n",
            "dense_features (DenseFeature multiple                  0         \n",
            "_________________________________________________________________\n",
            "dense (Dense)                multiple                  6144      \n",
            "_________________________________________________________________\n",
            "dense_1 (Dense)              multiple                  32896     \n",
            "_________________________________________________________________\n",
            "dropout (Dropout)            multiple                  0         \n",
            "_________________________________________________________________\n",
            "dense_2 (Dense)              multiple                  387       \n",
            "=================================================================\n",
            "Total params: 39,427\n",
            "Trainable params: 39,427\n",
            "Non-trainable params: 0\n",
            "_________________________________________________________________\n"
          ],
          "name": "stdout"
        }
      ]
    },
    {
      "cell_type": "code",
      "metadata": {
        "id": "nif873TQKcS3",
        "colab": {
          "base_uri": "https://localhost:8080/"
        },
        "outputId": "4b202936-be1e-452a-d261-10f0457b8116"
      },
      "source": [
        "model = tf.keras.Sequential([\n",
        "  feature_layer,\n",
        "  layers.Dense(256, activation='relu'),\n",
        "  layers.Dense(128, activation='relu'),\n",
        "  layers.Dropout(.1),\n",
        "  layers.Dense(3, activation='softmax')\n",
        "])\n",
        "\n",
        "model.compile(optimizer='adam',\n",
        "              loss='categorical_crossentropy',\n",
        "              metrics=['accuracy'])\n",
        "\n",
        "\n",
        "history = model.fit(train_ds,\n",
        "                  validation_data=test_ds,\n",
        "                  callbacks = [callbacks],\n",
        "                  epochs=25)"
      ],
      "execution_count": 15,
      "outputs": [
        {
          "output_type": "stream",
          "text": [
            "Epoch 1/25\n",
            "WARNING:tensorflow:Layers in a Sequential model should only have a single input tensor, but we receive a <class 'dict'> input: {'tempat': <tf.Tensor 'ExpandDims_5:0' shape=(None, 1) dtype=string>, 'jenis': <tf.Tensor 'ExpandDims_3:0' shape=(None, 1) dtype=string>, 'banyak_kekerasan': <tf.Tensor 'ExpandDims:0' shape=(None, 1) dtype=int64>, 'banyak_korban': <tf.Tensor 'ExpandDims_1:0' shape=(None, 1) dtype=int64>, 'usia': <tf.Tensor 'ExpandDims_6:0' shape=(None, 1) dtype=string>, 'hubungan_pelaku': <tf.Tensor 'ExpandDims_2:0' shape=(None, 1) dtype=string>, 'label': <tf.Tensor 'ExpandDims_4:0' shape=(None, 1) dtype=int64>}\n",
            "Consider rewriting this model with the Functional API.\n",
            "WARNING:tensorflow:Layers in a Sequential model should only have a single input tensor, but we receive a <class 'dict'> input: {'tempat': <tf.Tensor 'ExpandDims_5:0' shape=(None, 1) dtype=string>, 'jenis': <tf.Tensor 'ExpandDims_3:0' shape=(None, 1) dtype=string>, 'banyak_kekerasan': <tf.Tensor 'ExpandDims:0' shape=(None, 1) dtype=int64>, 'banyak_korban': <tf.Tensor 'ExpandDims_1:0' shape=(None, 1) dtype=int64>, 'usia': <tf.Tensor 'ExpandDims_6:0' shape=(None, 1) dtype=string>, 'hubungan_pelaku': <tf.Tensor 'ExpandDims_2:0' shape=(None, 1) dtype=string>, 'label': <tf.Tensor 'ExpandDims_4:0' shape=(None, 1) dtype=int64>}\n",
            "Consider rewriting this model with the Functional API.\n",
            "145/147 [============================>.] - ETA: 0s - loss: 0.5783 - accuracy: 0.7593WARNING:tensorflow:Layers in a Sequential model should only have a single input tensor, but we receive a <class 'dict'> input: {'tempat': <tf.Tensor 'ExpandDims_5:0' shape=(None, 1) dtype=string>, 'jenis': <tf.Tensor 'ExpandDims_3:0' shape=(None, 1) dtype=string>, 'banyak_kekerasan': <tf.Tensor 'ExpandDims:0' shape=(None, 1) dtype=int64>, 'banyak_korban': <tf.Tensor 'ExpandDims_1:0' shape=(None, 1) dtype=int64>, 'usia': <tf.Tensor 'ExpandDims_6:0' shape=(None, 1) dtype=string>, 'hubungan_pelaku': <tf.Tensor 'ExpandDims_2:0' shape=(None, 1) dtype=string>, 'label': <tf.Tensor 'ExpandDims_4:0' shape=(None, 1) dtype=int64>}\n",
            "Consider rewriting this model with the Functional API.\n",
            "147/147 [==============================] - 4s 5ms/step - loss: 0.5762 - accuracy: 0.7601 - val_loss: 0.3638 - val_accuracy: 0.8563\n",
            "Epoch 2/25\n",
            "147/147 [==============================] - 0s 3ms/step - loss: 0.3556 - accuracy: 0.8369 - val_loss: 0.3130 - val_accuracy: 0.8774\n",
            "Epoch 3/25\n",
            "147/147 [==============================] - 0s 3ms/step - loss: 0.3164 - accuracy: 0.8501 - val_loss: 0.3029 - val_accuracy: 0.8755\n",
            "Epoch 4/25\n",
            "147/147 [==============================] - 1s 3ms/step - loss: 0.3028 - accuracy: 0.8514 - val_loss: 0.2928 - val_accuracy: 0.8774\n",
            "Epoch 5/25\n",
            "147/147 [==============================] - 1s 3ms/step - loss: 0.2940 - accuracy: 0.8512 - val_loss: 0.2932 - val_accuracy: 0.8812\n",
            "Epoch 6/25\n",
            "147/147 [==============================] - 0s 3ms/step - loss: 0.2865 - accuracy: 0.8550 - val_loss: 0.2864 - val_accuracy: 0.8831\n",
            "Epoch 7/25\n",
            "147/147 [==============================] - 1s 4ms/step - loss: 0.2824 - accuracy: 0.8567 - val_loss: 0.2821 - val_accuracy: 0.8697\n",
            "Epoch 8/25\n",
            "147/147 [==============================] - 1s 3ms/step - loss: 0.2768 - accuracy: 0.8603 - val_loss: 0.2767 - val_accuracy: 0.8851\n",
            "Epoch 9/25\n",
            "147/147 [==============================] - 1s 4ms/step - loss: 0.2753 - accuracy: 0.8601 - val_loss: 0.2782 - val_accuracy: 0.8697\n",
            "Epoch 10/25\n",
            "147/147 [==============================] - 1s 3ms/step - loss: 0.2711 - accuracy: 0.8595 - val_loss: 0.2744 - val_accuracy: 0.8716\n",
            "Epoch 11/25\n",
            "147/147 [==============================] - 0s 3ms/step - loss: 0.2700 - accuracy: 0.8601 - val_loss: 0.2710 - val_accuracy: 0.8716\n",
            "Epoch 12/25\n",
            "147/147 [==============================] - 0s 3ms/step - loss: 0.2665 - accuracy: 0.8597 - val_loss: 0.2720 - val_accuracy: 0.8716\n",
            "Epoch 13/25\n",
            "147/147 [==============================] - 0s 3ms/step - loss: 0.2656 - accuracy: 0.8644 - val_loss: 0.2706 - val_accuracy: 0.8678\n",
            "Epoch 14/25\n",
            "147/147 [==============================] - 0s 3ms/step - loss: 0.2658 - accuracy: 0.8597 - val_loss: 0.2698 - val_accuracy: 0.8812\n",
            "Epoch 15/25\n",
            "147/147 [==============================] - 1s 3ms/step - loss: 0.2623 - accuracy: 0.8627 - val_loss: 0.2685 - val_accuracy: 0.8678\n",
            "Epoch 16/25\n",
            "147/147 [==============================] - 0s 3ms/step - loss: 0.2608 - accuracy: 0.8623 - val_loss: 0.2689 - val_accuracy: 0.8812\n",
            "Epoch 17/25\n",
            "147/147 [==============================] - 1s 4ms/step - loss: 0.2597 - accuracy: 0.8640 - val_loss: 0.2681 - val_accuracy: 0.8678\n",
            "Epoch 18/25\n",
            "147/147 [==============================] - 0s 3ms/step - loss: 0.2607 - accuracy: 0.8614 - val_loss: 0.2676 - val_accuracy: 0.8678\n",
            "Epoch 19/25\n",
            "147/147 [==============================] - 0s 3ms/step - loss: 0.2599 - accuracy: 0.8646 - val_loss: 0.2662 - val_accuracy: 0.8678\n",
            "Epoch 20/25\n",
            "147/147 [==============================] - 0s 3ms/step - loss: 0.2579 - accuracy: 0.8614 - val_loss: 0.2669 - val_accuracy: 0.8659\n",
            "Epoch 21/25\n",
            "147/147 [==============================] - 1s 4ms/step - loss: 0.2566 - accuracy: 0.8610 - val_loss: 0.2671 - val_accuracy: 0.8678\n",
            "Epoch 22/25\n",
            "147/147 [==============================] - 0s 3ms/step - loss: 0.2580 - accuracy: 0.8623 - val_loss: 0.2649 - val_accuracy: 0.8678\n",
            "Epoch 23/25\n",
            "147/147 [==============================] - 1s 3ms/step - loss: 0.2569 - accuracy: 0.8635 - val_loss: 0.2664 - val_accuracy: 0.8697\n",
            "Epoch 24/25\n",
            "147/147 [==============================] - 0s 3ms/step - loss: 0.2550 - accuracy: 0.8648 - val_loss: 0.2650 - val_accuracy: 0.8697\n",
            "Epoch 25/25\n",
            "147/147 [==============================] - 1s 3ms/step - loss: 0.2538 - accuracy: 0.8661 - val_loss: 0.2645 - val_accuracy: 0.8697\n"
          ],
          "name": "stdout"
        }
      ]
    },
    {
      "cell_type": "code",
      "metadata": {
        "colab": {
          "base_uri": "https://localhost:8080/",
          "height": 588
        },
        "id": "xgO3KxWujlpW",
        "outputId": "a3bf3d4a-6c56-4dfd-cc91-380f211efe16"
      },
      "source": [
        "import matplotlib.pyplot as plt\n",
        "import numpy\n",
        "\n",
        "print(history.history.keys())\n",
        "# summarize history for accuracy\n",
        "plt.plot(history.history['accuracy'])\n",
        "plt.plot(history.history['val_accuracy'])\n",
        "plt.title('model accuracy')\n",
        "plt.ylabel('accuracy')\n",
        "plt.xlabel('epoch')\n",
        "plt.legend(['train', 'test'], loc='upper left')\n",
        "plt.show()\n",
        "# summarize history for loss\n",
        "plt.plot(history.history['loss'])\n",
        "plt.plot(history.history['val_loss'])\n",
        "plt.title('model loss')\n",
        "plt.ylabel('loss')\n",
        "plt.xlabel('epoch')\n",
        "plt.legend(['train', 'test'], loc='upper left')\n",
        "plt.show()"
      ],
      "execution_count": 16,
      "outputs": [
        {
          "output_type": "stream",
          "text": [
            "dict_keys(['loss', 'accuracy', 'val_loss', 'val_accuracy'])\n"
          ],
          "name": "stdout"
        },
        {
          "output_type": "display_data",
          "data": {
            "image/png": "[encoded data removed]",
            "text/plain": [
              "<Figure size 432x288 with 1 Axes>"
            ]
          },
          "metadata": {
            "tags": [],
            "needs_background": "light"
          }
        },
        {
          "output_type": "display_data",
          "data": {
            "image/png": "[encoded data removed]",
            "text/plain": [
              "<Figure size 432x288 with 1 Axes>"
            ]
          },
          "metadata": {
            "tags": [],
            "needs_background": "light"
          }
        }
      ]
    },
    {
      "cell_type": "code",
      "metadata": {
        "id": "s7RuLYsSN5f4",
        "colab": {
          "base_uri": "https://localhost:8080/"
        },
        "outputId": "c73dc514-12af-457a-dac8-3174838fdb6c"
      },
      "source": [
        "loss, accuracy = model.evaluate(test_ds)\n",
        "print(\"Accuracy\", accuracy)"
      ],
      "execution_count": 17,
      "outputs": [
        {
          "output_type": "stream",
          "text": [
            "17/17 [==============================] - 0s 3ms/step - loss: 0.2645 - accuracy: 0.8697\n",
            "Accuracy 0.8697317838668823\n"
          ],
          "name": "stdout"
        }
      ]
    },
    {
      "cell_type": "markdown",
      "metadata": {
        "id": "RTbqldsAg0CW"
      },
      "source": [
        "Untuk mengkonversi ke tensorflowjs"
      ]
    },
    {
      "cell_type": "code",
      "metadata": {
        "id": "mwdtNmS0hwi_",
        "colab": {
          "base_uri": "https://localhost:8080/"
        },
        "outputId": "aa51f3c8-e12c-4a29-bab7-8ffb3d501a99"
      },
      "source": [
        "!pip install tensorflowjs"
      ],
      "execution_count": 18,
      "outputs": [
        {
          "output_type": "stream",
          "text": [
            "Collecting tensorflowjs\n",
            "\u001b[?25l  Downloading https://files.pythonhosted.org/packages/51/19/5ab51223cb178ab0f44fbc2ac494d015da135c70603a13eecb2328a59000/tensorflowjs-3.7.0-py3-none-any.whl (64kB)\n",
            "\r\u001b[K     |█████                           | 10kB 24.9MB/s eta 0:00:01\r\u001b[K     |██████████▏                     | 20kB 32.2MB/s eta 0:00:01\r\u001b[K     |███████████████▏                | 30kB 37.4MB/s eta 0:00:01\r\u001b[K     |████████████████████▎           | 40kB 30.3MB/s eta 0:00:01\r\u001b[K     |█████████████████████████▎      | 51kB 24.3MB/s eta 0:00:01\r\u001b[K     |██████████████████████████████▍ | 61kB 26.9MB/s eta 0:00:01\r\u001b[K     |████████████████████████████████| 71kB 9.1MB/s \n",
            "\u001b[?25hRequirement already satisfied: tensorflow-hub<0.13,>=0.7.0; python_version >= \"3\" in /usr/local/lib/python3.7/dist-packages (from tensorflowjs) (0.12.0)\n",
            "Requirement already satisfied: tensorflow<3,>=2.1.0 in /usr/local/lib/python3.7/dist-packages (from tensorflowjs) (2.5.0)\n",
            "Requirement already satisfied: six<2,>=1.12.0 in /usr/local/lib/python3.7/dist-packages (from tensorflowjs) (1.15.0)\n",
            "Requirement already satisfied: protobuf>=3.8.0 in /usr/local/lib/python3.7/dist-packages (from tensorflow-hub<0.13,>=0.7.0; python_version >= \"3\"->tensorflowjs) (3.12.4)\n",
            "Requirement already satisfied: numpy>=1.12.0 in /usr/local/lib/python3.7/dist-packages (from tensorflow-hub<0.13,>=0.7.0; python_version >= \"3\"->tensorflowjs) (1.19.5)\n",
            "Requirement already satisfied: absl-py~=0.10 in /usr/local/lib/python3.7/dist-packages (from tensorflow<3,>=2.1.0->tensorflowjs) (0.12.0)\n",
            "Requirement already satisfied: wheel~=0.35 in /usr/local/lib/python3.7/dist-packages (from tensorflow<3,>=2.1.0->tensorflowjs) (0.36.2)\n",
            "Requirement already satisfied: tensorboard~=2.5 in /usr/local/lib/python3.7/dist-packages (from tensorflow<3,>=2.1.0->tensorflowjs) (2.5.0)\n",
            "Requirement already satisfied: wrapt~=1.12.1 in /usr/local/lib/python3.7/dist-packages (from tensorflow<3,>=2.1.0->tensorflowjs) (1.12.1)\n",
            "Requirement already satisfied: flatbuffers~=1.12.0 in /usr/local/lib/python3.7/dist-packages (from tensorflow<3,>=2.1.0->tensorflowjs) (1.12)\n",
            "Requirement already satisfied: grpcio~=1.34.0 in /usr/local/lib/python3.7/dist-packages (from tensorflow<3,>=2.1.0->tensorflowjs) (1.34.1)\n",
            "Requirement already satisfied: keras-nightly~=2.5.0.dev in /usr/local/lib/python3.7/dist-packages (from tensorflow<3,>=2.1.0->tensorflowjs) (2.5.0.dev2021032900)\n",
            "Requirement already satisfied: google-pasta~=0.2 in /usr/local/lib/python3.7/dist-packages (from tensorflow<3,>=2.1.0->tensorflowjs) (0.2.0)\n",
            "Requirement already satisfied: keras-preprocessing~=1.1.2 in /usr/local/lib/python3.7/dist-packages (from tensorflow<3,>=2.1.0->tensorflowjs) (1.1.2)\n",
            "Requirement already satisfied: typing-extensions~=3.7.4 in /usr/local/lib/python3.7/dist-packages (from tensorflow<3,>=2.1.0->tensorflowjs) (3.7.4.3)\n",
            "Requirement already satisfied: opt-einsum~=3.3.0 in /usr/local/lib/python3.7/dist-packages (from tensorflow<3,>=2.1.0->tensorflowjs) (3.3.0)\n",
            "Requirement already satisfied: astunparse~=1.6.3 in /usr/local/lib/python3.7/dist-packages (from tensorflow<3,>=2.1.0->tensorflowjs) (1.6.3)\n",
            "Requirement already satisfied: termcolor~=1.1.0 in /usr/local/lib/python3.7/dist-packages (from tensorflow<3,>=2.1.0->tensorflowjs) (1.1.0)\n",
            "Requirement already satisfied: gast==0.4.0 in /usr/local/lib/python3.7/dist-packages (from tensorflow<3,>=2.1.0->tensorflowjs) (0.4.0)\n",
            "Requirement already satisfied: h5py~=3.1.0 in /usr/local/lib/python3.7/dist-packages (from tensorflow<3,>=2.1.0->tensorflowjs) (3.1.0)\n",
            "Requirement already satisfied: tensorflow-estimator<2.6.0,>=2.5.0rc0 in /usr/local/lib/python3.7/dist-packages (from tensorflow<3,>=2.1.0->tensorflowjs) (2.5.0)\n",
            "Requirement already satisfied: setuptools in /usr/local/lib/python3.7/dist-packages (from protobuf>=3.8.0->tensorflow-hub<0.13,>=0.7.0; python_version >= \"3\"->tensorflowjs) (57.0.0)\n",
            "Requirement already satisfied: tensorboard-plugin-wit>=1.6.0 in /usr/local/lib/python3.7/dist-packages (from tensorboard~=2.5->tensorflow<3,>=2.1.0->tensorflowjs) (1.8.0)\n",
            "Requirement already satisfied: markdown>=2.6.8 in /usr/local/lib/python3.7/dist-packages (from tensorboard~=2.5->tensorflow<3,>=2.1.0->tensorflowjs) (3.3.4)\n",
            "Requirement already satisfied: requests<3,>=2.21.0 in /usr/local/lib/python3.7/dist-packages (from tensorboard~=2.5->tensorflow<3,>=2.1.0->tensorflowjs) (2.23.0)\n",
            "Requirement already satisfied: werkzeug>=0.11.15 in /usr/local/lib/python3.7/dist-packages (from tensorboard~=2.5->tensorflow<3,>=2.1.0->tensorflowjs) (1.0.1)\n",
            "Requirement already satisfied: tensorboard-data-server<0.7.0,>=0.6.0 in /usr/local/lib/python3.7/dist-packages (from tensorboard~=2.5->tensorflow<3,>=2.1.0->tensorflowjs) (0.6.1)\n",
            "Requirement already satisfied: google-auth<2,>=1.6.3 in /usr/local/lib/python3.7/dist-packages (from tensorboard~=2.5->tensorflow<3,>=2.1.0->tensorflowjs) (1.30.0)\n",
            "Requirement already satisfied: google-auth-oauthlib<0.5,>=0.4.1 in /usr/local/lib/python3.7/dist-packages (from tensorboard~=2.5->tensorflow<3,>=2.1.0->tensorflowjs) (0.4.4)\n",
            "Requirement already satisfied: cached-property; python_version < \"3.8\" in /usr/local/lib/python3.7/dist-packages (from h5py~=3.1.0->tensorflow<3,>=2.1.0->tensorflowjs) (1.5.2)\n",
            "Requirement already satisfied: importlib-metadata; python_version < \"3.8\" in /usr/local/lib/python3.7/dist-packages (from markdown>=2.6.8->tensorboard~=2.5->tensorflow<3,>=2.1.0->tensorflowjs) (4.0.1)\n",
            "Requirement already satisfied: urllib3!=1.25.0,!=1.25.1,<1.26,>=1.21.1 in /usr/local/lib/python3.7/dist-packages (from requests<3,>=2.21.0->tensorboard~=2.5->tensorflow<3,>=2.1.0->tensorflowjs) (1.24.3)\n",
            "Requirement already satisfied: certifi>=2017.4.17 in /usr/local/lib/python3.7/dist-packages (from requests<3,>=2.21.0->tensorboard~=2.5->tensorflow<3,>=2.1.0->tensorflowjs) (2020.12.5)\n",
            "Requirement already satisfied: chardet<4,>=3.0.2 in /usr/local/lib/python3.7/dist-packages (from requests<3,>=2.21.0->tensorboard~=2.5->tensorflow<3,>=2.1.0->tensorflowjs) (3.0.4)\n",
            "Requirement already satisfied: idna<3,>=2.5 in /usr/local/lib/python3.7/dist-packages (from requests<3,>=2.21.0->tensorboard~=2.5->tensorflow<3,>=2.1.0->tensorflowjs) (2.10)\n",
            "Requirement already satisfied: pyasn1-modules>=0.2.1 in /usr/local/lib/python3.7/dist-packages (from google-auth<2,>=1.6.3->tensorboard~=2.5->tensorflow<3,>=2.1.0->tensorflowjs) (0.2.8)\n",
            "Requirement already satisfied: cachetools<5.0,>=2.0.0 in /usr/local/lib/python3.7/dist-packages (from google-auth<2,>=1.6.3->tensorboard~=2.5->tensorflow<3,>=2.1.0->tensorflowjs) (4.2.2)\n",
            "Requirement already satisfied: rsa<5,>=3.1.4; python_version >= \"3.6\" in /usr/local/lib/python3.7/dist-packages (from google-auth<2,>=1.6.3->tensorboard~=2.5->tensorflow<3,>=2.1.0->tensorflowjs) (4.7.2)\n",
            "Requirement already satisfied: requests-oauthlib>=0.7.0 in /usr/local/lib/python3.7/dist-packages (from google-auth-oauthlib<0.5,>=0.4.1->tensorboard~=2.5->tensorflow<3,>=2.1.0->tensorflowjs) (1.3.0)\n",
            "Requirement already satisfied: zipp>=0.5 in /usr/local/lib/python3.7/dist-packages (from importlib-metadata; python_version < \"3.8\"->markdown>=2.6.8->tensorboard~=2.5->tensorflow<3,>=2.1.0->tensorflowjs) (3.4.1)\n",
            "Requirement already satisfied: pyasn1<0.5.0,>=0.4.6 in /usr/local/lib/python3.7/dist-packages (from pyasn1-modules>=0.2.1->google-auth<2,>=1.6.3->tensorboard~=2.5->tensorflow<3,>=2.1.0->tensorflowjs) (0.4.8)\n",
            "Requirement already satisfied: oauthlib>=3.0.0 in /usr/local/lib/python3.7/dist-packages (from requests-oauthlib>=0.7.0->google-auth-oauthlib<0.5,>=0.4.1->tensorboard~=2.5->tensorflow<3,>=2.1.0->tensorflowjs) (3.1.0)\n",
            "Installing collected packages: tensorflowjs\n",
            "Successfully installed tensorflowjs-3.7.0\n"
          ],
          "name": "stdout"
        }
      ]
    },
    {
      "cell_type": "code",
      "metadata": {
        "id": "WkVsagbIg-xu",
        "outputId": "3b140db3-fe44-4596-96c1-46e381b75e81",
        "colab": {
          "base_uri": "https://localhost:8080/"
        }
      },
      "source": [
        "import time\n",
        "saved_model_path = \"./{}.h5\".format(int(time.time()))\n",
        "model.save('mitigasi')\n",
        "reloaded_model = tf.keras.models.load_model('mitigasi')\n",
        "\n",
        "model.save(saved_model_path)"
      ],
      "execution_count": 39,
      "outputs": [
        {
          "output_type": "stream",
          "text": [
            "WARNING:tensorflow:Layers in a Sequential model should only have a single input tensor, but we receive a <class 'dict'> input: {'tempat': <tf.Tensor 'tempat:0' shape=(None, 1) dtype=string>, 'jenis': <tf.Tensor 'jenis:0' shape=(None, 1) dtype=string>, 'banyak_kekerasan': <tf.Tensor 'banyak_kekerasan:0' shape=(None, 1) dtype=int64>, 'banyak_korban': <tf.Tensor 'banyak_korban:0' shape=(None, 1) dtype=int64>, 'usia': <tf.Tensor 'usia:0' shape=(None, 1) dtype=string>, 'hubungan_pelaku': <tf.Tensor 'hubungan_pelaku:0' shape=(None, 1) dtype=string>, 'label': <tf.Tensor 'label:0' shape=(None, 1) dtype=int64>}\n",
            "Consider rewriting this model with the Functional API.\n",
            "WARNING:tensorflow:Layers in a Sequential model should only have a single input tensor, but we receive a <class 'dict'> input: {'tempat': <tf.Tensor 'inputs_5:0' shape=(None, 1) dtype=string>, 'jenis': <tf.Tensor 'inputs_3:0' shape=(None, 1) dtype=string>, 'banyak_kekerasan': <tf.Tensor 'inputs:0' shape=(None, 1) dtype=int64>, 'banyak_korban': <tf.Tensor 'inputs_1:0' shape=(None, 1) dtype=int64>, 'usia': <tf.Tensor 'inputs_6:0' shape=(None, 1) dtype=string>, 'hubungan_pelaku': <tf.Tensor 'inputs_2:0' shape=(None, 1) dtype=string>, 'label': <tf.Tensor 'inputs_4:0' shape=(None, 1) dtype=int64>}\n",
            "Consider rewriting this model with the Functional API.\n",
            "WARNING:tensorflow:Layers in a Sequential model should only have a single input tensor, but we receive a <class 'dict'> input: {'tempat': <tf.Tensor 'inputs_5:0' shape=(None, 1) dtype=string>, 'jenis': <tf.Tensor 'inputs_3:0' shape=(None, 1) dtype=string>, 'banyak_kekerasan': <tf.Tensor 'inputs:0' shape=(None, 1) dtype=int64>, 'banyak_korban': <tf.Tensor 'inputs_1:0' shape=(None, 1) dtype=int64>, 'usia': <tf.Tensor 'inputs_6:0' shape=(None, 1) dtype=string>, 'hubungan_pelaku': <tf.Tensor 'inputs_2:0' shape=(None, 1) dtype=string>, 'label': <tf.Tensor 'inputs_4:0' shape=(None, 1) dtype=int64>}\n",
            "Consider rewriting this model with the Functional API.\n",
            "WARNING:tensorflow:Layers in a Sequential model should only have a single input tensor, but we receive a <class 'dict'> input: {'tempat': <tf.Tensor 'tempat:0' shape=(None, 1) dtype=string>, 'jenis': <tf.Tensor 'jenis:0' shape=(None, 1) dtype=string>, 'banyak_kekerasan': <tf.Tensor 'banyak_kekerasan:0' shape=(None, 1) dtype=int64>, 'banyak_korban': <tf.Tensor 'banyak_korban:0' shape=(None, 1) dtype=int64>, 'usia': <tf.Tensor 'usia:0' shape=(None, 1) dtype=string>, 'hubungan_pelaku': <tf.Tensor 'hubungan_pelaku:0' shape=(None, 1) dtype=string>, 'label': <tf.Tensor 'label:0' shape=(None, 1) dtype=int64>}\n",
            "Consider rewriting this model with the Functional API.\n",
            "WARNING:tensorflow:Layers in a Sequential model should only have a single input tensor, but we receive a <class 'dict'> input: {'tempat': <tf.Tensor 'tempat:0' shape=(None, 1) dtype=string>, 'jenis': <tf.Tensor 'jenis:0' shape=(None, 1) dtype=string>, 'banyak_kekerasan': <tf.Tensor 'banyak_kekerasan:0' shape=(None, 1) dtype=int64>, 'banyak_korban': <tf.Tensor 'banyak_korban:0' shape=(None, 1) dtype=int64>, 'usia': <tf.Tensor 'usia:0' shape=(None, 1) dtype=string>, 'hubungan_pelaku': <tf.Tensor 'hubungan_pelaku:0' shape=(None, 1) dtype=string>, 'label': <tf.Tensor 'label:0' shape=(None, 1) dtype=int64>}\n",
            "Consider rewriting this model with the Functional API.\n",
            "WARNING:tensorflow:Layers in a Sequential model should only have a single input tensor, but we receive a <class 'dict'> input: {'tempat': <tf.Tensor 'inputs/tempat:0' shape=(None, 1) dtype=string>, 'jenis': <tf.Tensor 'inputs/jenis:0' shape=(None, 1) dtype=string>, 'banyak_kekerasan': <tf.Tensor 'inputs/banyak_kekerasan:0' shape=(None, 1) dtype=int64>, 'banyak_korban': <tf.Tensor 'inputs/banyak_korban:0' shape=(None, 1) dtype=int64>, 'usia': <tf.Tensor 'inputs/usia:0' shape=(None, 1) dtype=string>, 'hubungan_pelaku': <tf.Tensor 'inputs/hubungan_pelaku:0' shape=(None, 1) dtype=string>, 'label': <tf.Tensor 'inputs/label:0' shape=(None, 1) dtype=int64>}\n",
            "Consider rewriting this model with the Functional API.\n",
            "WARNING:tensorflow:Layers in a Sequential model should only have a single input tensor, but we receive a <class 'dict'> input: {'tempat': <tf.Tensor 'inputs/tempat:0' shape=(None, 1) dtype=string>, 'jenis': <tf.Tensor 'inputs/jenis:0' shape=(None, 1) dtype=string>, 'banyak_kekerasan': <tf.Tensor 'inputs/banyak_kekerasan:0' shape=(None, 1) dtype=int64>, 'banyak_korban': <tf.Tensor 'inputs/banyak_korban:0' shape=(None, 1) dtype=int64>, 'usia': <tf.Tensor 'inputs/usia:0' shape=(None, 1) dtype=string>, 'hubungan_pelaku': <tf.Tensor 'inputs/hubungan_pelaku:0' shape=(None, 1) dtype=string>, 'label': <tf.Tensor 'inputs/label:0' shape=(None, 1) dtype=int64>}\n",
            "Consider rewriting this model with the Functional API.\n",
            "INFO:tensorflow:Assets written to: mitigasi/assets\n"
          ],
          "name": "stdout"
        }
      ]
    },
    {
      "cell_type": "code",
      "metadata": {
        "id": "amRszMCFuwn8",
        "outputId": "566afa96-c10c-40c8-f778-11dbbd693b78",
        "colab": {
          "base_uri": "https://localhost:8080/"
        }
      },
      "source": [
        "sample = {\n",
        "    \"banyak_korban\" : 2,\n",
        "    \"banyak_kekerasan\" : 2,\n",
        "    \"jenis\" : \"fisik\",\n",
        "    \"usia\" : \"anak-anak\",\n",
        "    \"hubungan_pelaku\" : \"orang-tua\"\n",
        "}\n",
        "\n",
        "input_dict = {name: tf.convert_to_tensor([value]) for name, value in sample.items()}\n",
        "prediction = reloaded_model.predict(input_dict)\n",
        "\n",
        "predictions = prediction.round()\n",
        "\n",
        "if predictions[0][0]==1:\n",
        "    print(\"Mitigasi resiko: rendah, dan non krisis\")\n",
        "elif predictions[0][1]==1:\n",
        "    print(\"Mitigasi resiko: tinggi, dan non krisis\")\n",
        "elif predictions[0][2]==1:\n",
        "    print(\"Mitigasi resiko: tinggi, dan krisis\")\n",
        "\n",
        "\n",
        "\n"
      ],
      "execution_count": 61,
      "outputs": [
        {
          "output_type": "stream",
          "text": [
            "Mitigasi resiko: tinggi, dan krisis\n"
          ],
          "name": "stdout"
        }
      ]
    },
    {
      "cell_type": "code",
      "metadata": {
        "id": "SfNxPmQuhKCc",
        "colab": {
          "base_uri": "https://localhost:8080/"
        },
        "outputId": "8fac54ca-18e8-4eaa-c41b-f2f6ac09cfd0"
      },
      "source": [
        "!tensorflowjs_converter --input_format=keras {saved_model_path} ./"
      ],
      "execution_count": 20,
      "outputs": [
        {
          "output_type": "stream",
          "text": [
            "2021-06-09 11:49:38.021894: I tensorflow/stream_executor/platform/default/dso_loader.cc:53] Successfully opened dynamic library libcudart.so.11.0\n"
          ],
          "name": "stdout"
        }
      ]
    }
  ]
}