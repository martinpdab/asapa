{
  "nbformat": 4,
  "nbformat_minor": 0,
  "metadata": {
    "colab": {
      "name": "machine-learning.ipynb",
      "provenance": [],
      "include_colab_link": true
    },
    "kernelspec": {
      "name": "python3",
      "display_name": "Python 3"
    },
    "language_info": {
      "name": "python"
    },
    "accelerator": "GPU"
  },
  "cells": [
    {
      "cell_type": "markdown",
      "metadata": {
        "id": "view-in-github",
        "colab_type": "text"
      },
      "source": [
        "<a href=\"https://colab.research.google.com/github/martinpdab/asapa/blob/main/machine_learning.ipynb\" target=\"_parent\"><img src=\"https://colab.research.google.com/assets/colab-badge.svg\" alt=\"Open In Colab\"/></a>"
      ]
    },
    {
      "cell_type": "code",
      "metadata": {
        "id": "WhuYbC_8VE_x",
        "colab": {
          "base_uri": "https://localhost:8080/"
        },
        "outputId": "99aedfdf-e52b-4a94-dd70-ca5363003d41"
      },
      "source": [
        "!pip install sklearn"
      ],
      "execution_count": 1,
      "outputs": [
        {
          "output_type": "stream",
          "text": [
            "Requirement already satisfied: sklearn in /usr/local/lib/python3.7/dist-packages (0.0)\n",
            "Requirement already satisfied: scikit-learn in /usr/local/lib/python3.7/dist-packages (from sklearn) (0.22.2.post1)\n",
            "Requirement already satisfied: numpy>=1.11.0 in /usr/local/lib/python3.7/dist-packages (from scikit-learn->sklearn) (1.19.5)\n",
            "Requirement already satisfied: scipy>=0.17.0 in /usr/local/lib/python3.7/dist-packages (from scikit-learn->sklearn) (1.4.1)\n",
            "Requirement already satisfied: joblib>=0.11 in /usr/local/lib/python3.7/dist-packages (from scikit-learn->sklearn) (1.0.1)\n"
          ],
          "name": "stdout"
        }
      ]
    },
    {
      "cell_type": "code",
      "metadata": {
        "id": "PRcEi6iJV_Nm"
      },
      "source": [
        "import numpy as np\n",
        "import pandas as pd\n",
        "from sklearn.model_selection import  train_test_split\n",
        "from keras.utils.np_utils import to_categorical\n",
        "\n",
        "try:\n",
        "  %tensorflow_version 2.x\n",
        "except Exception:\n",
        "  pass\n",
        "import tensorflow as tf\n",
        "\n",
        "from tensorflow import feature_column\n",
        "from tensorflow.keras import layers\n",
        "from sklearn.model_selection import train_test_split"
      ],
      "execution_count": 2,
      "outputs": []
    },
    {
      "cell_type": "code",
      "metadata": {
        "colab": {
          "base_uri": "https://localhost:8080/"
        },
        "id": "Y5EXLzOjWMIb",
        "outputId": "09a074da-c2ce-4ea5-e459-f145fcf2a971"
      },
      "source": [
        "URL = 'https://raw.githubusercontent.com/martinpdab/asapa/main/dataset/dataset-kasus-shuffled%20(1).csv'\n",
        "dataframe = pd.read_csv(URL)\n",
        "print(dataframe.head())"
      ],
      "execution_count": 33,
      "outputs": [
        {
          "output_type": "stream",
          "text": [
            "           tempat         jenis  ...   hubungan_pelaku  label\n",
            "0    rumah-tangga       seksual  ...         orang-tua      2\n",
            "1  fasilitas-umum       seksual  ...           lainnya      1\n",
            "2    rumah-tangga  penelantaran  ...  keluarga/saudara      2\n",
            "3    rumah-tangga        psikis  ...         orang-tua      0\n",
            "4    rumah-tangga         fisik  ...         orang-tua      2\n",
            "\n",
            "[5 rows x 7 columns]\n"
          ],
          "name": "stdout"
        }
      ]
    },
    {
      "cell_type": "code",
      "metadata": {
        "colab": {
          "base_uri": "https://localhost:8080/"
        },
        "id": "8PVI6bXigD_r",
        "outputId": "9d8cf00f-5e2a-4116-e61d-514e7a55e014"
      },
      "source": [
        "dataframe['target'] = np.where(dataframe['label']==2, 1, 0)\n",
        "\n",
        "# Drop un-used columns.\n",
        "dataframe = dataframe.drop(columns=['label'])\n",
        "\n",
        "print(dataframe.head())"
      ],
      "execution_count": 34,
      "outputs": [
        {
          "output_type": "stream",
          "text": [
            "           tempat         jenis  ...   hubungan_pelaku  target\n",
            "0    rumah-tangga       seksual  ...         orang-tua       1\n",
            "1  fasilitas-umum       seksual  ...           lainnya       0\n",
            "2    rumah-tangga  penelantaran  ...  keluarga/saudara       1\n",
            "3    rumah-tangga        psikis  ...         orang-tua       0\n",
            "4    rumah-tangga         fisik  ...         orang-tua       1\n",
            "\n",
            "[5 rows x 7 columns]\n"
          ],
          "name": "stdout"
        }
      ]
    },
    {
      "cell_type": "code",
      "metadata": {
        "id": "hp34vn-8f0Tm",
        "outputId": "1f5d9f52-8110-409d-fa9b-7d6daf39f043",
        "colab": {
          "base_uri": "https://localhost:8080/"
        }
      },
      "source": [
        "train, test = train_test_split(dataframe, test_size=0.1)\n",
        "print(len(train), 'train examples')\n",
        "print(len(test), 'test examples')"
      ],
      "execution_count": 35,
      "outputs": [
        {
          "output_type": "stream",
          "text": [
            "4697 train examples\n",
            "522 test examples\n"
          ],
          "name": "stdout"
        }
      ]
    },
    {
      "cell_type": "code",
      "metadata": {
        "id": "nQ7pY4vuZ8cH"
      },
      "source": [
        "def df_to_dataset(dataframe, batch_size=32):\n",
        "  dataframe = dataframe.copy()\n",
        "  labels = dataframe.pop('target')\n",
        "  ds = tf.data.Dataset.from_tensor_slices((dict(dataframe), labels))\n",
        "  ds = ds.batch(batch_size)\n",
        "  return ds"
      ],
      "execution_count": 36,
      "outputs": []
    },
    {
      "cell_type": "code",
      "metadata": {
        "id": "pM2fKP7Rg2BZ"
      },
      "source": [
        "batch_size = 5 # A small batch sized is used for demonstration purposes\n",
        "train_ds = df_to_dataset(train, batch_size=batch_size)\n",
        "test_ds = df_to_dataset(test, batch_size=batch_size)"
      ],
      "execution_count": 37,
      "outputs": []
    },
    {
      "cell_type": "code",
      "metadata": {
        "colab": {
          "base_uri": "https://localhost:8080/"
        },
        "id": "3_0voNPRaHUz",
        "outputId": "e7ca80b6-4368-4340-8366-d5a4f2aa467b"
      },
      "source": [
        "for feature_batch, label_batch in train_ds.take(1):\n",
        "  print('Parameter:', list(feature_batch.keys()))\n",
        "  print('Tempat Kejadian:', feature_batch['tempat'])\n",
        "  print('Jenis Kekerasan:', feature_batch['jenis'])\n",
        "  print('Banyak Kekerasan:', feature_batch['banyak_kekerasan'])\n",
        "  print('Banyak Korban:', feature_batch['banyak_korban'])\n",
        "  print('Usia Korban:', feature_batch['usia'])\n",
        "  print('Hubungan Pelaku dengan Korban:', feature_batch['hubungan_pelaku'])\n",
        "  print('Label:', label_batch )"
      ],
      "execution_count": 38,
      "outputs": [
        {
          "output_type": "stream",
          "text": [
            "Parameter: ['tempat', 'jenis', 'banyak_kekerasan', 'banyak_korban', 'usia', 'hubungan_pelaku']\n",
            "Tempat Kejadian: tf.Tensor(\n",
            "[b'fasilitas-umum' b'rumah-tangga' b'lainnya' b'rumah-tangga'\n",
            " b'fasilitas-umum'], shape=(5,), dtype=string)\n",
            "Jenis Kekerasan: tf.Tensor([b'fisik' b'seksual' b'lainnya' b'seksual' b'psikis'], shape=(5,), dtype=string)\n",
            "Banyak Kekerasan: tf.Tensor([1 1 1 1 1], shape=(5,), dtype=int64)\n",
            "Banyak Korban: tf.Tensor([1 1 1 1 2], shape=(5,), dtype=int64)\n",
            "Usia Korban: tf.Tensor([b'remaja' b'dewasa' b'anak-anak' b'dewasa' b'dewasa'], shape=(5,), dtype=string)\n",
            "Hubungan Pelaku dengan Korban: tf.Tensor([b'pacar/teman' b'suami/istri' b'lainnya' b'majikan' b'lainnya'], shape=(5,), dtype=string)\n",
            "Label: tf.Tensor([0 0 0 1 0], shape=(5,), dtype=int64)\n"
          ],
          "name": "stdout"
        }
      ]
    },
    {
      "cell_type": "code",
      "metadata": {
        "id": "Exck3gvAdK0_",
        "colab": {
          "base_uri": "https://localhost:8080/"
        },
        "outputId": "a9452bcd-edbb-4a59-c15f-f0fd0c5377bc"
      },
      "source": [
        "feature_columns = []\n",
        "\n",
        "feature_columns.append(feature_column.numeric_column('banyak_korban'))\n",
        "banyak_kekerasan = feature_column.numeric_column('banyak_kekerasan')\n",
        "feature_columns.append(banyak_kekerasan)\n",
        "\n",
        "tempat_kejadian = tf.feature_column.categorical_column_with_vocabulary_list(\n",
        "                'tempat', ['rumah-tangga', 'tempat-kerja', 'sekolah', 'fasilitas-umum', 'lainnya'])\n",
        "tempat_one_hot = tf.feature_column.indicator_column(tempat_kejadian)\n",
        "feature_columns.append(tempat_one_hot)\n",
        "\n",
        "jenis_kekerasan = tf.feature_column.categorical_column_with_vocabulary_list(\n",
        "    'jenis', ['fisik', 'seksual', 'psikis', 'penelantaran', 'lainnya', 'eksploitasi', 'traficking'])\n",
        "jenis_one_hot = tf.feature_column.indicator_column(jenis_kekerasan)\n",
        "feature_columns.append(jenis_one_hot)\n",
        "\n",
        "usia_korban = tf.feature_column.categorical_column_with_vocabulary_list(\n",
        "    'usia', ['balita', 'anak-anak', 'remaja', 'dewasa', 'lansia'])\n",
        "usia_one_hot = tf.feature_column.indicator_column(usia_korban)\n",
        "feature_columns.append(usia_one_hot)\n",
        "\n",
        "hubungan_pelaku = tf.feature_column.categorical_column_with_vocabulary_list(\n",
        "    'hubungan_pelaku', ['orang-tua', 'keluarga/saudara', 'tetangga', 'suami/istri', 'majikan', 'rekan-kerja', 'guru', 'pacar/teman', 'lainnya'])\n",
        "hubungan_one_hot = tf.feature_column.indicator_column(hubungan_pelaku)\n",
        "feature_columns.append(hubungan_one_hot)\n",
        "\n",
        "\n",
        "\n",
        "feature_columns"
      ],
      "execution_count": 39,
      "outputs": [
        {
          "output_type": "execute_result",
          "data": {
            "text/plain": [
              "[NumericColumn(key='banyak_korban', shape=(1,), default_value=None, dtype=tf.float32, normalizer_fn=None),\n",
              " NumericColumn(key='banyak_kekerasan', shape=(1,), default_value=None, dtype=tf.float32, normalizer_fn=None),\n",
              " IndicatorColumn(categorical_column=VocabularyListCategoricalColumn(key='tempat', vocabulary_list=('rumah-tangga', 'tempat-kerja', 'sekolah', 'fasilitas-umum', 'lainnya'), dtype=tf.string, default_value=-1, num_oov_buckets=0)),\n",
              " IndicatorColumn(categorical_column=VocabularyListCategoricalColumn(key='jenis', vocabulary_list=('fisik', 'seksual', 'psikis', 'penelantaran', 'lainnya', 'eksploitasi', 'traficking'), dtype=tf.string, default_value=-1, num_oov_buckets=0)),\n",
              " IndicatorColumn(categorical_column=VocabularyListCategoricalColumn(key='usia', vocabulary_list=('balita', 'anak-anak', 'remaja', 'dewasa', 'lansia'), dtype=tf.string, default_value=-1, num_oov_buckets=0)),\n",
              " IndicatorColumn(categorical_column=VocabularyListCategoricalColumn(key='hubungan_pelaku', vocabulary_list=('orang-tua', 'keluarga/saudara', 'tetangga', 'suami/istri', 'majikan', 'rekan-kerja', 'guru', 'pacar/teman', 'lainnya'), dtype=tf.string, default_value=-1, num_oov_buckets=0))]"
            ]
          },
          "metadata": {
            "tags": []
          },
          "execution_count": 39
        }
      ]
    },
    {
      "cell_type": "code",
      "metadata": {
        "id": "al1FVMq7JQJr",
        "colab": {
          "base_uri": "https://localhost:8080/"
        },
        "outputId": "4512f3a3-8388-440c-f084-026d9e55fb63"
      },
      "source": [
        "feature_layer = tf.keras.layers.DenseFeatures(feature_columns)\n",
        "feature_layer"
      ],
      "execution_count": 40,
      "outputs": [
        {
          "output_type": "execute_result",
          "data": {
            "text/plain": [
              "<tensorflow.python.keras.feature_column.dense_features_v2.DenseFeatures at 0x7fac129f7bd0>"
            ]
          },
          "metadata": {
            "tags": []
          },
          "execution_count": 40
        }
      ]
    },
    {
      "cell_type": "code",
      "metadata": {
        "id": "-phADmTyb-fy"
      },
      "source": [
        "batch_size = 32\n",
        "train_ds = df_to_dataset(train, batch_size=batch_size)\n",
        "test_ds = df_to_dataset(test, batch_size=batch_size)"
      ],
      "execution_count": 41,
      "outputs": []
    },
    {
      "cell_type": "code",
      "metadata": {
        "id": "9Nw_QPGTix9M"
      },
      "source": [
        "class myCallback(tf.keras.callbacks.Callback):\n",
        "        def on_epoch_end(self, epoch, logs={}):\n",
        "            if (logs.get('accuracy') > 0.99):\n",
        "                print(\"\\nReached 99% accuracy so cancelling training!\")\n",
        "                self.model.stop_training = True\n",
        "\n",
        "callbacks = myCallback()"
      ],
      "execution_count": 42,
      "outputs": []
    },
    {
      "cell_type": "code",
      "metadata": {
        "id": "nif873TQKcS3",
        "colab": {
          "base_uri": "https://localhost:8080/"
        },
        "outputId": "735679a3-77a8-4aae-f129-7a82b715882c"
      },
      "source": [
        "model = tf.keras.Sequential([\n",
        "  feature_layer,\n",
        "  layers.Dense(128, activation='relu'),\n",
        "  layers.Dense(128, activation='relu'),\n",
        "  layers.Dropout(.1),\n",
        "  layers.Dense(1)\n",
        "])\n",
        "\n",
        "model.compile(optimizer='adam',\n",
        "              loss=tf.keras.losses.BinaryCrossentropy(from_logits=True),\n",
        "              metrics=['accuracy'])\n",
        "\n",
        "\n",
        "history = model.fit(train_ds,\n",
        "                  validation_data=test_ds,\n",
        "                  callbacks = [callbacks],\n",
        "                  epochs=25)"
      ],
      "execution_count": 43,
      "outputs": [
        {
          "output_type": "stream",
          "text": [
            "Epoch 1/25\n",
            "WARNING:tensorflow:Layers in a Sequential model should only have a single input tensor, but we receive a <class 'dict'> input: {'tempat': <tf.Tensor 'ExpandDims_4:0' shape=(None, 1) dtype=string>, 'jenis': <tf.Tensor 'ExpandDims_3:0' shape=(None, 1) dtype=string>, 'banyak_kekerasan': <tf.Tensor 'ExpandDims:0' shape=(None, 1) dtype=int64>, 'banyak_korban': <tf.Tensor 'ExpandDims_1:0' shape=(None, 1) dtype=int64>, 'usia': <tf.Tensor 'ExpandDims_5:0' shape=(None, 1) dtype=string>, 'hubungan_pelaku': <tf.Tensor 'ExpandDims_2:0' shape=(None, 1) dtype=string>}\n",
            "Consider rewriting this model with the Functional API.\n",
            "WARNING:tensorflow:Layers in a Sequential model should only have a single input tensor, but we receive a <class 'dict'> input: {'tempat': <tf.Tensor 'ExpandDims_4:0' shape=(None, 1) dtype=string>, 'jenis': <tf.Tensor 'ExpandDims_3:0' shape=(None, 1) dtype=string>, 'banyak_kekerasan': <tf.Tensor 'ExpandDims:0' shape=(None, 1) dtype=int64>, 'banyak_korban': <tf.Tensor 'ExpandDims_1:0' shape=(None, 1) dtype=int64>, 'usia': <tf.Tensor 'ExpandDims_5:0' shape=(None, 1) dtype=string>, 'hubungan_pelaku': <tf.Tensor 'ExpandDims_2:0' shape=(None, 1) dtype=string>}\n",
            "Consider rewriting this model with the Functional API.\n",
            "139/147 [===========================>..] - ETA: 0s - loss: 0.3610 - accuracy: 0.8327WARNING:tensorflow:Layers in a Sequential model should only have a single input tensor, but we receive a <class 'dict'> input: {'tempat': <tf.Tensor 'ExpandDims_4:0' shape=(None, 1) dtype=string>, 'jenis': <tf.Tensor 'ExpandDims_3:0' shape=(None, 1) dtype=string>, 'banyak_kekerasan': <tf.Tensor 'ExpandDims:0' shape=(None, 1) dtype=int64>, 'banyak_korban': <tf.Tensor 'ExpandDims_1:0' shape=(None, 1) dtype=int64>, 'usia': <tf.Tensor 'ExpandDims_5:0' shape=(None, 1) dtype=string>, 'hubungan_pelaku': <tf.Tensor 'ExpandDims_2:0' shape=(None, 1) dtype=string>}\n",
            "Consider rewriting this model with the Functional API.\n",
            "147/147 [==============================] - 1s 4ms/step - loss: 0.3508 - accuracy: 0.8393 - val_loss: 0.1771 - val_accuracy: 0.9425\n",
            "Epoch 2/25\n",
            "147/147 [==============================] - 0s 3ms/step - loss: 0.1077 - accuracy: 0.9668 - val_loss: 0.0763 - val_accuracy: 0.9828\n",
            "Epoch 3/25\n",
            "147/147 [==============================] - 0s 3ms/step - loss: 0.0573 - accuracy: 0.9828 - val_loss: 0.0454 - val_accuracy: 0.9866\n",
            "Epoch 4/25\n",
            "147/147 [==============================] - 0s 3ms/step - loss: 0.0365 - accuracy: 0.9891 - val_loss: 0.0289 - val_accuracy: 0.9904\n",
            "Epoch 5/25\n",
            "147/147 [==============================] - 0s 2ms/step - loss: 0.0234 - accuracy: 0.9930 - val_loss: 0.0183 - val_accuracy: 0.9904\n",
            "\n",
            "Reached 99% accuracy so cancelling training!\n"
          ],
          "name": "stdout"
        }
      ]
    },
    {
      "cell_type": "code",
      "metadata": {
        "colab": {
          "base_uri": "https://localhost:8080/",
          "height": 591
        },
        "id": "xgO3KxWujlpW",
        "outputId": "1e07fb39-f50b-443c-cce5-1d5a504902b7"
      },
      "source": [
        "import matplotlib.pyplot as plt\n",
        "import numpy\n",
        "\n",
        "print(history.history.keys())\n",
        "# summarize history for accuracy\n",
        "plt.plot(history.history['accuracy'])\n",
        "plt.plot(history.history['val_accuracy'])\n",
        "plt.title('model accuracy')\n",
        "plt.ylabel('accuracy')\n",
        "plt.xlabel('epoch')\n",
        "plt.legend(['train', 'test'], loc='upper left')\n",
        "plt.show()\n",
        "# summarize history for loss\n",
        "plt.plot(history.history['loss'])\n",
        "plt.plot(history.history['val_loss'])\n",
        "plt.title('model loss')\n",
        "plt.ylabel('loss')\n",
        "plt.xlabel('epoch')\n",
        "plt.legend(['train', 'test'], loc='upper left')\n",
        "plt.show()"
      ],
      "execution_count": 44,
      "outputs": [
        {
          "output_type": "stream",
          "text": [
            "dict_keys(['loss', 'accuracy', 'val_loss', 'val_accuracy'])\n"
          ],
          "name": "stdout"
        },
        {
          "output_type": "display_data",
          "data": {
            "image/png": "[encoded data removed]",
            "text/plain": [
              "<Figure size 432x288 with 1 Axes>"
            ]
          },
          "metadata": {
            "tags": [],
            "needs_background": "light"
          }
        },
        {
          "output_type": "display_data",
          "data": {
            "image/png": "[encoded data removed]",
            "text/plain": [
              "<Figure size 432x288 with 1 Axes>"
            ]
          },
          "metadata": {
            "tags": [],
            "needs_background": "light"
          }
        }
      ]
    },
    {
      "cell_type": "code",
      "metadata": {
        "id": "s7RuLYsSN5f4",
        "colab": {
          "base_uri": "https://localhost:8080/"
        },
        "outputId": "bb8c40ec-90f5-4efa-f3ac-bec71e1a6a59"
      },
      "source": [
        "loss, accuracy = model.evaluate(test_ds)\n",
        "print(\"Accuracy\", accuracy)"
      ],
      "execution_count": 45,
      "outputs": [
        {
          "output_type": "stream",
          "text": [
            "17/17 [==============================] - 0s 2ms/step - loss: 0.0183 - accuracy: 0.9904\n",
            "Accuracy 0.99042147397995\n"
          ],
          "name": "stdout"
        }
      ]
    },
    {
      "cell_type": "markdown",
      "metadata": {
        "id": "RTbqldsAg0CW"
      },
      "source": [
        "Untuk mengkonversi ke tensorflowjs"
      ]
    },
    {
      "cell_type": "code",
      "metadata": {
        "id": "mwdtNmS0hwi_",
        "outputId": "4a335105-74a8-45c6-c4da-fde9ee689be0",
        "colab": {
          "base_uri": "https://localhost:8080/"
        }
      },
      "source": [
        "!pip install tensorflowjs"
      ],
      "execution_count": 46,
      "outputs": [
        {
          "output_type": "stream",
          "text": [
            "Collecting tensorflowjs\n",
            "\u001b[?25l  Downloading https://files.pythonhosted.org/packages/28/5a/2497b3ba86f5f1c2c7539e0bc5d957146a5ed71acfb6c66f644974af4309/tensorflowjs-3.6.0-py3-none-any.whl (63kB)\n",
            "\r\u001b[K     |█████▏                          | 10kB 12.4MB/s eta 0:00:01\r\u001b[K     |██████████▎                     | 20kB 14.9MB/s eta 0:00:01\r\u001b[K     |███████████████▍                | 30kB 18.0MB/s eta 0:00:01\r\u001b[K     |████████████████████▌           | 40kB 19.2MB/s eta 0:00:01\r\u001b[K     |█████████████████████████▊      | 51kB 20.7MB/s eta 0:00:01\r\u001b[K     |██████████████████████████████▉ | 61kB 22.1MB/s eta 0:00:01\r\u001b[K     |████████████████████████████████| 71kB 7.1MB/s \n",
            "\u001b[?25hRequirement already satisfied: tensorflow<3,>=2.1.0 in /usr/local/lib/python3.7/dist-packages (from tensorflowjs) (2.5.0)\n",
            "Collecting tensorflow-hub<0.10,>=0.7.0\n",
            "\u001b[?25l  Downloading https://files.pythonhosted.org/packages/ac/83/a7df82744a794107641dad1decaad017d82e25f0e1f761ac9204829eef96/tensorflow_hub-0.9.0-py2.py3-none-any.whl (103kB)\n",
            "\u001b[K     |████████████████████████████████| 112kB 33.3MB/s \n",
            "\u001b[?25hRequirement already satisfied: six<2,>=1.12.0 in /usr/local/lib/python3.7/dist-packages (from tensorflowjs) (1.15.0)\n",
            "Requirement already satisfied: tensorflow-estimator<2.6.0,>=2.5.0rc0 in /usr/local/lib/python3.7/dist-packages (from tensorflow<3,>=2.1.0->tensorflowjs) (2.5.0)\n",
            "Requirement already satisfied: keras-preprocessing~=1.1.2 in /usr/local/lib/python3.7/dist-packages (from tensorflow<3,>=2.1.0->tensorflowjs) (1.1.2)\n",
            "Requirement already satisfied: astunparse~=1.6.3 in /usr/local/lib/python3.7/dist-packages (from tensorflow<3,>=2.1.0->tensorflowjs) (1.6.3)\n",
            "Requirement already satisfied: flatbuffers~=1.12.0 in /usr/local/lib/python3.7/dist-packages (from tensorflow<3,>=2.1.0->tensorflowjs) (1.12)\n",
            "Requirement already satisfied: termcolor~=1.1.0 in /usr/local/lib/python3.7/dist-packages (from tensorflow<3,>=2.1.0->tensorflowjs) (1.1.0)\n",
            "Requirement already satisfied: numpy~=1.19.2 in /usr/local/lib/python3.7/dist-packages (from tensorflow<3,>=2.1.0->tensorflowjs) (1.19.5)\n",
            "Requirement already satisfied: wheel~=0.35 in /usr/local/lib/python3.7/dist-packages (from tensorflow<3,>=2.1.0->tensorflowjs) (0.36.2)\n",
            "Requirement already satisfied: gast==0.4.0 in /usr/local/lib/python3.7/dist-packages (from tensorflow<3,>=2.1.0->tensorflowjs) (0.4.0)\n",
            "Requirement already satisfied: protobuf>=3.9.2 in /usr/local/lib/python3.7/dist-packages (from tensorflow<3,>=2.1.0->tensorflowjs) (3.12.4)\n",
            "Requirement already satisfied: absl-py~=0.10 in /usr/local/lib/python3.7/dist-packages (from tensorflow<3,>=2.1.0->tensorflowjs) (0.12.0)\n",
            "Requirement already satisfied: grpcio~=1.34.0 in /usr/local/lib/python3.7/dist-packages (from tensorflow<3,>=2.1.0->tensorflowjs) (1.34.1)\n",
            "Requirement already satisfied: google-pasta~=0.2 in /usr/local/lib/python3.7/dist-packages (from tensorflow<3,>=2.1.0->tensorflowjs) (0.2.0)\n",
            "Requirement already satisfied: keras-nightly~=2.5.0.dev in /usr/local/lib/python3.7/dist-packages (from tensorflow<3,>=2.1.0->tensorflowjs) (2.5.0.dev2021032900)\n",
            "Requirement already satisfied: h5py~=3.1.0 in /usr/local/lib/python3.7/dist-packages (from tensorflow<3,>=2.1.0->tensorflowjs) (3.1.0)\n",
            "Requirement already satisfied: opt-einsum~=3.3.0 in /usr/local/lib/python3.7/dist-packages (from tensorflow<3,>=2.1.0->tensorflowjs) (3.3.0)\n",
            "Requirement already satisfied: typing-extensions~=3.7.4 in /usr/local/lib/python3.7/dist-packages (from tensorflow<3,>=2.1.0->tensorflowjs) (3.7.4.3)\n",
            "Requirement already satisfied: tensorboard~=2.5 in /usr/local/lib/python3.7/dist-packages (from tensorflow<3,>=2.1.0->tensorflowjs) (2.5.0)\n",
            "Requirement already satisfied: wrapt~=1.12.1 in /usr/local/lib/python3.7/dist-packages (from tensorflow<3,>=2.1.0->tensorflowjs) (1.12.1)\n",
            "Requirement already satisfied: setuptools in /usr/local/lib/python3.7/dist-packages (from protobuf>=3.9.2->tensorflow<3,>=2.1.0->tensorflowjs) (57.0.0)\n",
            "Requirement already satisfied: cached-property; python_version < \"3.8\" in /usr/local/lib/python3.7/dist-packages (from h5py~=3.1.0->tensorflow<3,>=2.1.0->tensorflowjs) (1.5.2)\n",
            "Requirement already satisfied: requests<3,>=2.21.0 in /usr/local/lib/python3.7/dist-packages (from tensorboard~=2.5->tensorflow<3,>=2.1.0->tensorflowjs) (2.23.0)\n",
            "Requirement already satisfied: tensorboard-data-server<0.7.0,>=0.6.0 in /usr/local/lib/python3.7/dist-packages (from tensorboard~=2.5->tensorflow<3,>=2.1.0->tensorflowjs) (0.6.1)\n",
            "Requirement already satisfied: google-auth<2,>=1.6.3 in /usr/local/lib/python3.7/dist-packages (from tensorboard~=2.5->tensorflow<3,>=2.1.0->tensorflowjs) (1.30.0)\n",
            "Requirement already satisfied: markdown>=2.6.8 in /usr/local/lib/python3.7/dist-packages (from tensorboard~=2.5->tensorflow<3,>=2.1.0->tensorflowjs) (3.3.4)\n",
            "Requirement already satisfied: werkzeug>=0.11.15 in /usr/local/lib/python3.7/dist-packages (from tensorboard~=2.5->tensorflow<3,>=2.1.0->tensorflowjs) (1.0.1)\n",
            "Requirement already satisfied: google-auth-oauthlib<0.5,>=0.4.1 in /usr/local/lib/python3.7/dist-packages (from tensorboard~=2.5->tensorflow<3,>=2.1.0->tensorflowjs) (0.4.4)\n",
            "Requirement already satisfied: tensorboard-plugin-wit>=1.6.0 in /usr/local/lib/python3.7/dist-packages (from tensorboard~=2.5->tensorflow<3,>=2.1.0->tensorflowjs) (1.8.0)\n",
            "Requirement already satisfied: chardet<4,>=3.0.2 in /usr/local/lib/python3.7/dist-packages (from requests<3,>=2.21.0->tensorboard~=2.5->tensorflow<3,>=2.1.0->tensorflowjs) (3.0.4)\n",
            "Requirement already satisfied: certifi>=2017.4.17 in /usr/local/lib/python3.7/dist-packages (from requests<3,>=2.21.0->tensorboard~=2.5->tensorflow<3,>=2.1.0->tensorflowjs) (2020.12.5)\n",
            "Requirement already satisfied: urllib3!=1.25.0,!=1.25.1,<1.26,>=1.21.1 in /usr/local/lib/python3.7/dist-packages (from requests<3,>=2.21.0->tensorboard~=2.5->tensorflow<3,>=2.1.0->tensorflowjs) (1.24.3)\n",
            "Requirement already satisfied: idna<3,>=2.5 in /usr/local/lib/python3.7/dist-packages (from requests<3,>=2.21.0->tensorboard~=2.5->tensorflow<3,>=2.1.0->tensorflowjs) (2.10)\n",
            "Requirement already satisfied: rsa<5,>=3.1.4; python_version >= \"3.6\" in /usr/local/lib/python3.7/dist-packages (from google-auth<2,>=1.6.3->tensorboard~=2.5->tensorflow<3,>=2.1.0->tensorflowjs) (4.7.2)\n",
            "Requirement already satisfied: cachetools<5.0,>=2.0.0 in /usr/local/lib/python3.7/dist-packages (from google-auth<2,>=1.6.3->tensorboard~=2.5->tensorflow<3,>=2.1.0->tensorflowjs) (4.2.2)\n",
            "Requirement already satisfied: pyasn1-modules>=0.2.1 in /usr/local/lib/python3.7/dist-packages (from google-auth<2,>=1.6.3->tensorboard~=2.5->tensorflow<3,>=2.1.0->tensorflowjs) (0.2.8)\n",
            "Requirement already satisfied: importlib-metadata; python_version < \"3.8\" in /usr/local/lib/python3.7/dist-packages (from markdown>=2.6.8->tensorboard~=2.5->tensorflow<3,>=2.1.0->tensorflowjs) (4.0.1)\n",
            "Requirement already satisfied: requests-oauthlib>=0.7.0 in /usr/local/lib/python3.7/dist-packages (from google-auth-oauthlib<0.5,>=0.4.1->tensorboard~=2.5->tensorflow<3,>=2.1.0->tensorflowjs) (1.3.0)\n",
            "Requirement already satisfied: pyasn1>=0.1.3 in /usr/local/lib/python3.7/dist-packages (from rsa<5,>=3.1.4; python_version >= \"3.6\"->google-auth<2,>=1.6.3->tensorboard~=2.5->tensorflow<3,>=2.1.0->tensorflowjs) (0.4.8)\n",
            "Requirement already satisfied: zipp>=0.5 in /usr/local/lib/python3.7/dist-packages (from importlib-metadata; python_version < \"3.8\"->markdown>=2.6.8->tensorboard~=2.5->tensorflow<3,>=2.1.0->tensorflowjs) (3.4.1)\n",
            "Requirement already satisfied: oauthlib>=3.0.0 in /usr/local/lib/python3.7/dist-packages (from requests-oauthlib>=0.7.0->google-auth-oauthlib<0.5,>=0.4.1->tensorboard~=2.5->tensorflow<3,>=2.1.0->tensorflowjs) (3.1.0)\n",
            "Installing collected packages: tensorflow-hub, tensorflowjs\n",
            "  Found existing installation: tensorflow-hub 0.12.0\n",
            "    Uninstalling tensorflow-hub-0.12.0:\n",
            "      Successfully uninstalled tensorflow-hub-0.12.0\n",
            "Successfully installed tensorflow-hub-0.9.0 tensorflowjs-3.6.0\n"
          ],
          "name": "stdout"
        }
      ]
    },
    {
      "cell_type": "code",
      "metadata": {
        "id": "WkVsagbIg-xu"
      },
      "source": [
        "import time\n",
        "saved_model_path = \"./{}.h5\".format(int(time.time()))\n",
        "\n",
        "model.save(saved_model_path)"
      ],
      "execution_count": 47,
      "outputs": []
    },
    {
      "cell_type": "code",
      "metadata": {
        "id": "SfNxPmQuhKCc",
        "outputId": "56916014-7157-4fd1-e5fb-2bc025d47190",
        "colab": {
          "base_uri": "https://localhost:8080/"
        }
      },
      "source": [
        "!tensorflowjs_converter --input_format=keras {saved_model_path} ./"
      ],
      "execution_count": 48,
      "outputs": [
        {
          "output_type": "stream",
          "text": [
            "2021-06-03 06:18:19.112349: I tensorflow/stream_executor/platform/default/dso_loader.cc:53] Successfully opened dynamic library libcudart.so.11.0\n"
          ],
          "name": "stdout"
        }
      ]
    }
  ]
}