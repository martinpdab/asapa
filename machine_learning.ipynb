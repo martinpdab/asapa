{
  "nbformat": 4,
  "nbformat_minor": 0,
  "metadata": {
    "colab": {
      "name": "machine-learning.ipynb",
      "provenance": [],
      "include_colab_link": true
    },
    "kernelspec": {
      "name": "python3",
      "display_name": "Python 3"
    },
    "language_info": {
      "name": "python"
    },
    "accelerator": "GPU"
  },
  "cells": [
    {
      "cell_type": "markdown",
      "metadata": {
        "id": "view-in-github",
        "colab_type": "text"
      },
      "source": [
        "<a href=\"https://colab.research.google.com/github/martinpdab/asapa/blob/main/machine_learning.ipynb\" target=\"_parent\"><img src=\"https://colab.research.google.com/assets/colab-badge.svg\" alt=\"Open In Colab\"/></a>"
      ]
    },
    {
      "cell_type": "code",
      "metadata": {
        "id": "WhuYbC_8VE_x",
        "colab": {
          "base_uri": "https://localhost:8080/"
        },
        "outputId": "d7133f2e-4dfa-4dd8-cb5b-7ab51ad471ae"
      },
      "source": [
        "!pip install sklearn"
      ],
      "execution_count": 1,
      "outputs": [
        {
          "output_type": "stream",
          "text": [
            "Requirement already satisfied: sklearn in /usr/local/lib/python3.7/dist-packages (0.0)\n",
            "Requirement already satisfied: scikit-learn in /usr/local/lib/python3.7/dist-packages (from sklearn) (0.22.2.post1)\n",
            "Requirement already satisfied: scipy>=0.17.0 in /usr/local/lib/python3.7/dist-packages (from scikit-learn->sklearn) (1.4.1)\n",
            "Requirement already satisfied: numpy>=1.11.0 in /usr/local/lib/python3.7/dist-packages (from scikit-learn->sklearn) (1.19.5)\n",
            "Requirement already satisfied: joblib>=0.11 in /usr/local/lib/python3.7/dist-packages (from scikit-learn->sklearn) (1.0.1)\n"
          ],
          "name": "stdout"
        }
      ]
    },
    {
      "cell_type": "code",
      "metadata": {
        "id": "PRcEi6iJV_Nm"
      },
      "source": [
        "import numpy as np\n",
        "import pandas as pd\n",
        "\n",
        "try:\n",
        "  %tensorflow_version 2.x\n",
        "except Exception:\n",
        "  pass\n",
        "import tensorflow as tf\n",
        "\n",
        "from tensorflow import feature_column\n",
        "from tensorflow.keras import layers\n",
        "from sklearn.model_selection import train_test_split"
      ],
      "execution_count": 2,
      "outputs": []
    },
    {
      "cell_type": "code",
      "metadata": {
        "colab": {
          "base_uri": "https://localhost:8080/",
          "height": 200
        },
        "id": "Y5EXLzOjWMIb",
        "outputId": "561b2812-1271-4dbe-e708-405c302ab3e1"
      },
      "source": [
        "URL = 'https://raw.githubusercontent.com/martinpdab/asapa/main/dataset/dataset-kasus-shuffled.csv'\n",
        "df = pd.read_csv(URL)\n",
        "df.head()"
      ],
      "execution_count": 39,
      "outputs": [
        {
          "output_type": "execute_result",
          "data": {
            "text/html": [
              "<div>\n",
              "<style scoped>\n",
              "    .dataframe tbody tr th:only-of-type {\n",
              "        vertical-align: middle;\n",
              "    }\n",
              "\n",
              "    .dataframe tbody tr th {\n",
              "        vertical-align: top;\n",
              "    }\n",
              "\n",
              "    .dataframe thead th {\n",
              "        text-align: right;\n",
              "    }\n",
              "</style>\n",
              "<table border=\"1\" class=\"dataframe\">\n",
              "  <thead>\n",
              "    <tr style=\"text-align: right;\">\n",
              "      <th></th>\n",
              "      <th>tempat</th>\n",
              "      <th>jenis</th>\n",
              "      <th>banyak_kekerasan</th>\n",
              "      <th>banyak_korban</th>\n",
              "      <th>usia_korban</th>\n",
              "      <th>hubungan_pelaku</th>\n",
              "      <th>label</th>\n",
              "    </tr>\n",
              "  </thead>\n",
              "  <tbody>\n",
              "    <tr>\n",
              "      <th>0</th>\n",
              "      <td>lainnya</td>\n",
              "      <td>penelantaran</td>\n",
              "      <td>1</td>\n",
              "      <td>1</td>\n",
              "      <td>dewasa</td>\n",
              "      <td>suami/istri</td>\n",
              "      <td>2</td>\n",
              "    </tr>\n",
              "    <tr>\n",
              "      <th>1</th>\n",
              "      <td>rumah-tangga</td>\n",
              "      <td>fisik</td>\n",
              "      <td>1</td>\n",
              "      <td>1</td>\n",
              "      <td>anak-anak</td>\n",
              "      <td>keluarga/saudara</td>\n",
              "      <td>3</td>\n",
              "    </tr>\n",
              "    <tr>\n",
              "      <th>2</th>\n",
              "      <td>lainnya</td>\n",
              "      <td>seksual</td>\n",
              "      <td>1</td>\n",
              "      <td>1</td>\n",
              "      <td>remaja</td>\n",
              "      <td>pacar/teman</td>\n",
              "      <td>3</td>\n",
              "    </tr>\n",
              "    <tr>\n",
              "      <th>3</th>\n",
              "      <td>rumah-tangga</td>\n",
              "      <td>fisik</td>\n",
              "      <td>1</td>\n",
              "      <td>1</td>\n",
              "      <td>remaja</td>\n",
              "      <td>keluarga/saudara</td>\n",
              "      <td>3</td>\n",
              "    </tr>\n",
              "    <tr>\n",
              "      <th>4</th>\n",
              "      <td>rumah-tangga</td>\n",
              "      <td>fisik</td>\n",
              "      <td>1</td>\n",
              "      <td>1</td>\n",
              "      <td>dewasa</td>\n",
              "      <td>suami/istri</td>\n",
              "      <td>3</td>\n",
              "    </tr>\n",
              "  </tbody>\n",
              "</table>\n",
              "</div>"
            ],
            "text/plain": [
              "         tempat         jenis  ...   hubungan_pelaku  label\n",
              "0       lainnya  penelantaran  ...       suami/istri      2\n",
              "1  rumah-tangga         fisik  ...  keluarga/saudara      3\n",
              "2       lainnya       seksual  ...       pacar/teman      3\n",
              "3  rumah-tangga         fisik  ...  keluarga/saudara      3\n",
              "4  rumah-tangga         fisik  ...       suami/istri      3\n",
              "\n",
              "[5 rows x 7 columns]"
            ]
          },
          "metadata": {
            "tags": []
          },
          "execution_count": 39
        }
      ]
    },
    {
      "cell_type": "code",
      "metadata": {
        "colab": {
          "base_uri": "https://localhost:8080/"
        },
        "id": "FRQypu6oYOUY",
        "outputId": "749c0dbb-f1b6-48d5-955d-c8427c0c294d"
      },
      "source": [
        "train, test = train_test_split(df, test_size=0.1)\n",
        "print(len(train), 'train examples')\n",
        "print(len(test), 'test examples')"
      ],
      "execution_count": 40,
      "outputs": [
        {
          "output_type": "stream",
          "text": [
            "4697 train examples\n",
            "522 test examples\n"
          ],
          "name": "stdout"
        }
      ]
    },
    {
      "cell_type": "code",
      "metadata": {
        "id": "5e0eOsazZTML"
      },
      "source": [
        "def df_to_dataset(df, shuffle=True, batch_size=32):\n",
        "  df = df.copy()\n",
        "  labels = df.pop('label')\n",
        "  ds = tf.data.Dataset.from_tensor_slices((dict(df), labels))\n",
        "  if shuffle:\n",
        "    ds = ds.shuffle(buffer_size=len(df))\n",
        "  ds = ds.batch(batch_size)\n",
        "  return ds"
      ],
      "execution_count": 42,
      "outputs": []
    },
    {
      "cell_type": "code",
      "metadata": {
        "id": "nQ7pY4vuZ8cH"
      },
      "source": [
        "batch_size = 5\n",
        "train_ds = df_to_dataset(train, batch_size=batch_size)\n",
        "test_ds = df_to_dataset(test, shuffle=False, batch_size=batch_size)"
      ],
      "execution_count": 56,
      "outputs": []
    },
    {
      "cell_type": "code",
      "metadata": {
        "colab": {
          "base_uri": "https://localhost:8080/"
        },
        "id": "3_0voNPRaHUz",
        "outputId": "055d15ec-130c-4a3e-812e-3e48fde7cf87"
      },
      "source": [
        "for feature_batch, label_batch in train_ds.take(1):\n",
        "  print('Parameter:', list(feature_batch.keys()))\n",
        "  print('Tempat Kejadian:', feature_batch['tempat'])\n",
        "  print('Jenis Kekerasan:', feature_batch['jenis'])\n",
        "  print('Banyak Kekerasan:', feature_batch['banyak_kekerasan'])\n",
        "  print('Banyak Korban:', feature_batch['banyak_korban'])\n",
        "  print('Usia Korban:', feature_batch['usia_korban'])\n",
        "  print('Hubungan Pelaku dengan Korban:', feature_batch['hubungan_pelaku'])\n",
        "  print('Label:', label_batch )"
      ],
      "execution_count": 45,
      "outputs": [
        {
          "output_type": "stream",
          "text": [
            "Parameter: ['tempat', 'jenis', 'banyak_kekerasan', 'banyak_korban', 'usia_korban', 'hubungan_pelaku']\n",
            "Tempat Kejadian: tf.Tensor([b'rumah-tangga' b'lainnya' b'lainnya' b'rumah-tangga' b'rumah-tangga'], shape=(5,), dtype=string)\n",
            "Jenis Kekerasan: tf.Tensor([b'fisik' b'penelantaran' b'seksual' b'penelantaran' b'seksual'], shape=(5,), dtype=string)\n",
            "Banyak Kekerasan: tf.Tensor([1 1 1 1 1], shape=(5,), dtype=int64)\n",
            "Banyak Korban: tf.Tensor([1 1 1 1 1], shape=(5,), dtype=int64)\n",
            "Usia Korban: tf.Tensor([b'dewasa' b'dewasa' b'anak-anak' b'dewasa' b'balita'], shape=(5,), dtype=string)\n",
            "Hubungan Pelaku dengan Korban: tf.Tensor([b'suami/istri' b'keluarga/saudara' b'lainnya' b'suami/istri' b'orang-tua'], shape=(5,), dtype=string)\n",
            "Label: tf.Tensor([3 2 3 2 3], shape=(5,), dtype=int64)\n"
          ],
          "name": "stdout"
        }
      ]
    },
    {
      "cell_type": "code",
      "metadata": {
        "id": "Exck3gvAdK0_",
        "outputId": "c7877e38-9053-4649-ac7d-14894ac54f60",
        "colab": {
          "base_uri": "https://localhost:8080/"
        }
      },
      "source": [
        "feature_columns = []\n",
        "\n",
        "feature_columns.append(feature_column.numeric_column('banyak_korban'))\n",
        "banyak_kekerasan = feature_column.numeric_column('banyak_kekerasan')\n",
        "feature_columns.append(banyak_kekerasan)\n",
        "\n",
        "tempat_kejadian = tf.feature_column.categorical_column_with_vocabulary_list(\n",
        "                'tempat', ['rumah-tangga', 'tempat-kerja', 'sekolah', 'fasilitas-umum', 'lainnya'])\n",
        "tempat_one_hot = tf.feature_column.indicator_column(tempat_kejadian)\n",
        "feature_columns.append(tempat_one_hot)\n",
        "\n",
        "jenis_kekerasan = tf.feature_column.categorical_column_with_vocabulary_list(\n",
        "    'jenis', ['fisik', 'seksual', 'psikis', 'penelantaran', 'lainnya', 'eksploitasi', 'traficking'])\n",
        "jenis_one_hot = tf.feature_column.indicator_column(jenis_kekerasan)\n",
        "feature_columns.append(jenis_one_hot)\n",
        "\n",
        "usia_korban = tf.feature_column.categorical_column_with_vocabulary_list(\n",
        "    'usia_korban', ['balita', 'anak-anak', 'remaja', 'dewasa', 'lansia'])\n",
        "usia_one_hot = tf.feature_column.indicator_column(usia_korban)\n",
        "feature_columns.append(usia_one_hot)\n",
        "\n",
        "hubungan_pelaku = tf.feature_column.categorical_column_with_vocabulary_list(\n",
        "    'hubungan_pelaku', ['orang-tua', 'keluarga/saudara', 'tetangga', 'suami/istri', 'majikan', 'rekan-kerja', 'guru', 'pacar/teman', 'lainnya'])\n",
        "hubungan_one_hot = tf.feature_column.indicator_column(hubungan_pelaku)\n",
        "feature_columns.append(hubungan_one_hot)\n",
        "\n",
        "\n",
        "\n",
        "feature_columns"
      ],
      "execution_count": 46,
      "outputs": [
        {
          "output_type": "execute_result",
          "data": {
            "text/plain": [
              "[NumericColumn(key='banyak_korban', shape=(1,), default_value=None, dtype=tf.float32, normalizer_fn=None),\n",
              " NumericColumn(key='banyak_kekerasan', shape=(1,), default_value=None, dtype=tf.float32, normalizer_fn=None),\n",
              " IndicatorColumn(categorical_column=VocabularyListCategoricalColumn(key='tempat', vocabulary_list=('rumah-tangga', 'tempat-kerja', 'sekolah', 'fasilitas-umum', 'lainnya'), dtype=tf.string, default_value=-1, num_oov_buckets=0)),\n",
              " IndicatorColumn(categorical_column=VocabularyListCategoricalColumn(key='jenis', vocabulary_list=('fisik', 'seksual', 'psikis', 'penelantaran', 'lainnya', 'eksploitasi', 'traficking'), dtype=tf.string, default_value=-1, num_oov_buckets=0)),\n",
              " IndicatorColumn(categorical_column=VocabularyListCategoricalColumn(key='usia_korban', vocabulary_list=('balita', 'anak-anak', 'remaja', 'dewasa', 'lansia'), dtype=tf.string, default_value=-1, num_oov_buckets=0)),\n",
              " IndicatorColumn(categorical_column=VocabularyListCategoricalColumn(key='hubungan_pelaku', vocabulary_list=('orang-tua', 'keluarga/saudara', 'tetangga', 'suami/istri', 'majikan', 'rekan-kerja', 'guru', 'pacar/teman', 'lainnya'), dtype=tf.string, default_value=-1, num_oov_buckets=0))]"
            ]
          },
          "metadata": {
            "tags": []
          },
          "execution_count": 46
        }
      ]
    },
    {
      "cell_type": "code",
      "metadata": {
        "id": "al1FVMq7JQJr",
        "outputId": "858f5743-bcae-4b68-a442-7af5678a2c8c",
        "colab": {
          "base_uri": "https://localhost:8080/"
        }
      },
      "source": [
        "feature_layer = tf.keras.layers.DenseFeatures(feature_columns)\n",
        "feature_layer"
      ],
      "execution_count": 55,
      "outputs": [
        {
          "output_type": "execute_result",
          "data": {
            "text/plain": [
              "<tensorflow.python.keras.feature_column.dense_features_v2.DenseFeatures at 0x7f236a1c2b90>"
            ]
          },
          "metadata": {
            "tags": []
          },
          "execution_count": 55
        }
      ]
    },
    {
      "cell_type": "code",
      "metadata": {
        "id": "Qn9wAWfONctv"
      },
      "source": [
        ""
      ],
      "execution_count": null,
      "outputs": []
    },
    {
      "cell_type": "code",
      "metadata": {
        "id": "-phADmTyb-fy"
      },
      "source": [
        "batch_size = 32\n",
        "train_ds = df_to_dataset(train, batch_size=batch_size)\n",
        "test_ds = df_to_dataset(test, shuffle=False, batch_size=batch_size)"
      ],
      "execution_count": 48,
      "outputs": []
    },
    {
      "cell_type": "code",
      "metadata": {
        "id": "nif873TQKcS3",
        "outputId": "ee434711-e56b-4a69-c54e-08a5949d56d4",
        "colab": {
          "base_uri": "https://localhost:8080/"
        }
      },
      "source": [
        "estimator = tf.estimator.DNNClassifier(hidden_units=[256, 128, 64], \n",
        "                                       feature_columns=feature_columns, \n",
        "                                       n_classes=3, \n",
        "                                       model_dir='graphs/dnn')"
      ],
      "execution_count": 57,
      "outputs": [
        {
          "output_type": "stream",
          "text": [
            "INFO:tensorflow:Using default config.\n",
            "INFO:tensorflow:Using config: {'_model_dir': 'graphs/dnn', '_tf_random_seed': None, '_save_summary_steps': 100, '_save_checkpoints_steps': None, '_save_checkpoints_secs': 600, '_session_config': allow_soft_placement: true\n",
            "graph_options {\n",
            "  rewrite_options {\n",
            "    meta_optimizer_iterations: ONE\n",
            "  }\n",
            "}\n",
            ", '_keep_checkpoint_max': 5, '_keep_checkpoint_every_n_hours': 10000, '_log_step_count_steps': 100, '_train_distribute': None, '_device_fn': None, '_protocol': None, '_eval_distribute': None, '_experimental_distribute': None, '_experimental_max_worker_delay_secs': None, '_session_creation_timeout_secs': 7200, '_checkpoint_save_graph_def': True, '_service': None, '_cluster_spec': ClusterSpec({}), '_task_type': 'worker', '_task_id': 0, '_global_id_in_cluster': 0, '_master': '', '_evaluation_master': '', '_is_chief': True, '_num_ps_replicas': 0, '_num_worker_replicas': 1}\n"
          ],
          "name": "stdout"
        }
      ]
    },
    {
      "cell_type": "code",
      "metadata": {
        "id": "s7RuLYsSN5f4"
      },
      "source": [
        "def create_train_input_fn(): \n",
        "    return tf.estimator.inputs.pandas_input_fn(\n",
        "        x=train_ds,\n",
        "        y=labels, \n",
        "        batch_size=32,\n",
        "        num_epochs=50, # Repeat forever\n",
        "        shuffle=True)"
      ],
      "execution_count": 61,
      "outputs": []
    },
    {
      "cell_type": "code",
      "metadata": {
        "id": "c0rZuOXlNdkd",
        "outputId": "761f8a75-625b-4125-d5be-9ecea2d215d0",
        "colab": {
          "base_uri": "https://localhost:8080/",
          "height": 288
        }
      },
      "source": [
        "train_input_fn = create_train_input_fn()\n",
        "estimator.train(train_input_fn, steps=2000)"
      ],
      "execution_count": 62,
      "outputs": [
        {
          "output_type": "error",
          "ename": "AttributeError",
          "evalue": "ignored",
          "traceback": [
            "\u001b[0;31m---------------------------------------------------------------------------\u001b[0m",
            "\u001b[0;31mAttributeError\u001b[0m                            Traceback (most recent call last)",
            "\u001b[0;32m<ipython-input-62-6abd6f1afc3a>\u001b[0m in \u001b[0;36m<module>\u001b[0;34m()\u001b[0m\n\u001b[0;32m----> 1\u001b[0;31m \u001b[0mtrain_input_fn\u001b[0m \u001b[0;34m=\u001b[0m \u001b[0mcreate_train_input_fn\u001b[0m\u001b[0;34m(\u001b[0m\u001b[0;34m)\u001b[0m\u001b[0;34m\u001b[0m\u001b[0;34m\u001b[0m\u001b[0m\n\u001b[0m\u001b[1;32m      2\u001b[0m \u001b[0mestimator\u001b[0m\u001b[0;34m.\u001b[0m\u001b[0mtrain\u001b[0m\u001b[0;34m(\u001b[0m\u001b[0mtrain_input_fn\u001b[0m\u001b[0;34m,\u001b[0m \u001b[0msteps\u001b[0m\u001b[0;34m=\u001b[0m\u001b[0;36m2000\u001b[0m\u001b[0;34m)\u001b[0m\u001b[0;34m\u001b[0m\u001b[0;34m\u001b[0m\u001b[0m\n",
            "\u001b[0;32m<ipython-input-61-2c70c852d9ef>\u001b[0m in \u001b[0;36mcreate_train_input_fn\u001b[0;34m()\u001b[0m\n\u001b[1;32m      1\u001b[0m \u001b[0;32mdef\u001b[0m \u001b[0mcreate_train_input_fn\u001b[0m\u001b[0;34m(\u001b[0m\u001b[0;34m)\u001b[0m\u001b[0;34m:\u001b[0m\u001b[0;34m\u001b[0m\u001b[0;34m\u001b[0m\u001b[0m\n\u001b[0;32m----> 2\u001b[0;31m     return tf.estimator.inputs.pandas_input_fn(\n\u001b[0m\u001b[1;32m      3\u001b[0m         \u001b[0mx\u001b[0m\u001b[0;34m=\u001b[0m\u001b[0mtrain_ds\u001b[0m\u001b[0;34m,\u001b[0m\u001b[0;34m\u001b[0m\u001b[0;34m\u001b[0m\u001b[0m\n\u001b[1;32m      4\u001b[0m         \u001b[0my\u001b[0m\u001b[0;34m=\u001b[0m\u001b[0mlabels\u001b[0m\u001b[0;34m,\u001b[0m\u001b[0;34m\u001b[0m\u001b[0;34m\u001b[0m\u001b[0m\n\u001b[1;32m      5\u001b[0m         \u001b[0mbatch_size\u001b[0m\u001b[0;34m=\u001b[0m\u001b[0;36m32\u001b[0m\u001b[0;34m,\u001b[0m\u001b[0;34m\u001b[0m\u001b[0;34m\u001b[0m\u001b[0m\n",
            "\u001b[0;31mAttributeError\u001b[0m: module 'tensorflow_estimator.python.estimator.api._v2.estimator' has no attribute 'inputs'"
          ]
        }
      ]
    }
  ]
}